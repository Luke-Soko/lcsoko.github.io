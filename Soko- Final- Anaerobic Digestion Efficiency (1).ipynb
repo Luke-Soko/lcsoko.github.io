{
 "cells": [
  {
   "cell_type": "markdown",
   "metadata": {},
   "source": [
    "Hi, welcome to my (Luke Soko) final project for ABE 516X. There are ~2,000,000 farms across the US, but only ~330 operating manure-based anaerobic digesters. Why? They're historically unprofitable (until recently for specific scenarios). My research models anaerobic digestion profitability. My goal is to publish profitable scenarios for anaerobic digester use to stimulate anaerobic digester implementation and reduce agricultural greenhouse gas emissions. \n",
    "\n",
    "One component I must understand is anaerobic digester efficiency. The feedstocks of anaerobic digesters are typically characterized by biochemical methane potential (BMP) which is generally in units of (L CH4/g volatile solids). The BMP value can be considered the best case scenario for gas production, or 100% digestion efficiency. The Livestock Offest Protocol calculator from the California Air Resources Board features BMPs of manure. Using BMPs, the ASAE Manure Production Standard (D384.2), and assuming a 60% CH4 content in biogas, I calculated that a dairy cow produces a maximum of 101.3 ft3 biogas/day and a swine produces a maximum of 5.3 ft3 biogas/day.\n",
    "\n",
    "EPA AgSTAR has a database featuring number of dairy, swine, and daily biogas production (among other things) for operating anaerobic digesters across the US. I compare the daily biogas production from operating digesters to the hypothetical maximum biogas production to calculate an anaerobic digestion efficiency for different types of anaerobic digesters. I also use the AgSTAR database for machine learning to predict the daily biogas production for inputted number of dairy cows and digester type.\n",
    "\n",
    "Over 90% of anaerobic digesters are characterized as complete mix, plug flow, or impermeable covered lagoon anaerobic digesters. Therefore, these three types of digesters will be analyzed. "
   ]
  },
  {
   "cell_type": "code",
   "execution_count": 1,
   "metadata": {},
   "outputs": [],
   "source": [
    "import pandas as pd\n",
    "\n",
    "agstar = pd.read_csv(\"agstar2.csv\")"
   ]
  },
  {
   "cell_type": "code",
   "execution_count": 2,
   "metadata": {},
   "outputs": [
    {
     "data": {
      "text/plain": [
       "Index(['Project Name', 'Project Type', 'City', 'County', 'State',\n",
       "       'Digester Type', 'Status', 'Year Operational', 'Animal/Farm Type(s)',\n",
       "       'Cattle', 'Dairy', 'Poultry', 'Swine', 'Co-Digestion',\n",
       "       ' Biogas Generation Estimate (cu_ft/day) ',\n",
       "       ' Electricity Generated (kWh/yr) ', 'Biogas End Use(s)',\n",
       "       'System Designer(s)_Developer(s) and Affiliates', 'Receiving Utility',\n",
       "       ' Total Emission Reductions (MTCO2e/yr) ', 'Awarded USDA Funding?'],\n",
       "      dtype='object')"
      ]
     },
     "execution_count": 2,
     "metadata": {},
     "output_type": "execute_result"
    }
   ],
   "source": [
    "agstar.columns"
   ]
  },
  {
   "cell_type": "code",
   "execution_count": 3,
   "metadata": {},
   "outputs": [],
   "source": [
    "import numpy as np\n",
    "import pandas as pd\n",
    "import matplotlib.pyplot as plt\n",
    "import statsmodels.formula.api as smf\n",
    "%matplotlib inline\n",
    "import sklearn\n",
    "from sklearn.feature_extraction.text import CountVectorizer, TfidfTransformer\n",
    "from sklearn.naive_bayes import MultinomialNB\n",
    "from sklearn.svm import SVC, LinearSVC\n",
    "from sklearn.metrics import classification_report, f1_score, accuracy_score, confusion_matrix, mean_squared_error\n",
    "from sklearn.model_selection import GridSearchCV\n",
    "from sklearn.model_selection import StratifiedKFold, cross_val_score, train_test_split \n",
    "from sklearn.tree import DecisionTreeClassifier \n",
    "import seaborn as sns\n",
    "import statsmodels.api as sm\n",
    "from scipy.stats import t\n",
    "nb = MultinomialNB()"
   ]
  },
  {
   "cell_type": "code",
   "execution_count": 4,
   "metadata": {},
   "outputs": [],
   "source": [
    "def efficiency(data_dairy):\n",
    "    eff_calc = (data_dairy/101.336)*100\n",
    "    return  eff_calc"
   ]
  },
  {
   "cell_type": "markdown",
   "metadata": {},
   "source": [
    "The daily biogas generation is a number that is reported to the EPA by the farm; it is not a calculated number. Digester owners could misreport their daily biogas production, thereby skewing the data. Later, you will see from the histograms that the digester daily biogas per animal distributions are almost all right skewed (a few over-optimistic owners). Therefore, to better analyze the data, I use the two functions below to disclude data that falls outside of 1 or 2 standard deviations."
   ]
  },
  {
   "cell_type": "code",
   "execution_count": 5,
   "metadata": {},
   "outputs": [],
   "source": [
    "#95% confidence interval filter for data - 2 standard deviations\n",
    "\n",
    "def hist_filter_ci(data):\n",
    "    Y_upper = np.percentile(data['Biogas_ft3/cow'], 97.5)\n",
    "    Y_lower = np.percentile(data['Biogas_ft3/cow'], 2.5)\n",
    "    filtered_hist_data = data[(data['Biogas_ft3/cow'] >= Y_lower) & (data['Biogas_ft3/cow'] <= Y_upper)]\n",
    "    return filtered_hist_data"
   ]
  },
  {
   "cell_type": "code",
   "execution_count": 6,
   "metadata": {},
   "outputs": [],
   "source": [
    "#68% confidence interval filter for data- 1 standard deviation\n",
    "\n",
    "def hist_filter_ci_68(data):\n",
    "    Y_upper = np.percentile(data['Biogas_ft3/cow'], 84)\n",
    "    Y_lower = np.percentile(data['Biogas_ft3/cow'], 16)\n",
    "    filtered_hist_data = data[(data['Biogas_ft3/cow'] >= Y_lower) & (data['Biogas_ft3/cow'] <= Y_upper)]\n",
    "    return filtered_hist_data"
   ]
  },
  {
   "cell_type": "code",
   "execution_count": 7,
   "metadata": {},
   "outputs": [],
   "source": [
    "df = agstar.copy()"
   ]
  },
  {
   "cell_type": "code",
   "execution_count": 8,
   "metadata": {},
   "outputs": [],
   "source": [
    "df.fillna(0,inplace=True)"
   ]
  },
  {
   "cell_type": "code",
   "execution_count": 9,
   "metadata": {},
   "outputs": [
    {
     "data": {
      "text/html": [
       "<div>\n",
       "<style scoped>\n",
       "    .dataframe tbody tr th:only-of-type {\n",
       "        vertical-align: middle;\n",
       "    }\n",
       "\n",
       "    .dataframe tbody tr th {\n",
       "        vertical-align: top;\n",
       "    }\n",
       "\n",
       "    .dataframe thead th {\n",
       "        text-align: right;\n",
       "    }\n",
       "</style>\n",
       "<table border=\"1\" class=\"dataframe\">\n",
       "  <thead>\n",
       "    <tr style=\"text-align: right;\">\n",
       "      <th></th>\n",
       "      <th>Project Name</th>\n",
       "      <th>Project Type</th>\n",
       "      <th>City</th>\n",
       "      <th>County</th>\n",
       "      <th>State</th>\n",
       "      <th>Digester Type</th>\n",
       "      <th>Status</th>\n",
       "      <th>Year Operational</th>\n",
       "      <th>Animal/Farm Type(s)</th>\n",
       "      <th>Cattle</th>\n",
       "      <th>...</th>\n",
       "      <th>Poultry</th>\n",
       "      <th>Swine</th>\n",
       "      <th>Co-Digestion</th>\n",
       "      <th>Biogas Generation Estimate (cu_ft/day)</th>\n",
       "      <th>Electricity Generated (kWh/yr)</th>\n",
       "      <th>Biogas End Use(s)</th>\n",
       "      <th>System Designer(s)_Developer(s) and Affiliates</th>\n",
       "      <th>Receiving Utility</th>\n",
       "      <th>Total Emission Reductions (MTCO2e/yr)</th>\n",
       "      <th>Awarded USDA Funding?</th>\n",
       "    </tr>\n",
       "  </thead>\n",
       "  <tbody>\n",
       "    <tr>\n",
       "      <th>0</th>\n",
       "      <td>Cargill - Sandy River Farm Digester</td>\n",
       "      <td>Farm Scale</td>\n",
       "      <td>Morrilton</td>\n",
       "      <td>Conway</td>\n",
       "      <td>AR</td>\n",
       "      <td>Covered Lagoon</td>\n",
       "      <td>Operational</td>\n",
       "      <td>2008.0</td>\n",
       "      <td>Swine</td>\n",
       "      <td>0</td>\n",
       "      <td>...</td>\n",
       "      <td>0</td>\n",
       "      <td>4,200</td>\n",
       "      <td>0</td>\n",
       "      <td>1,814,400</td>\n",
       "      <td>0</td>\n",
       "      <td>Flared Full-time</td>\n",
       "      <td>Martin Construction Resource LLC (formerly RCM...</td>\n",
       "      <td>0</td>\n",
       "      <td>4,002</td>\n",
       "      <td>0</td>\n",
       "    </tr>\n",
       "    <tr>\n",
       "      <th>1</th>\n",
       "      <td>Butterfield RNG Digester</td>\n",
       "      <td>Farm Scale</td>\n",
       "      <td>Buckeye</td>\n",
       "      <td>Maricopa</td>\n",
       "      <td>AZ</td>\n",
       "      <td>Mixed Plug Flow</td>\n",
       "      <td>Construction</td>\n",
       "      <td>2021.0</td>\n",
       "      <td>Dairy</td>\n",
       "      <td>0</td>\n",
       "      <td>...</td>\n",
       "      <td>0</td>\n",
       "      <td>0</td>\n",
       "      <td>0</td>\n",
       "      <td>0</td>\n",
       "      <td>0</td>\n",
       "      <td>Pipeline Gas</td>\n",
       "      <td>Avolta [Project Developer]; DVO, Inc. (formerl...</td>\n",
       "      <td>Southwest Gas</td>\n",
       "      <td>29,826</td>\n",
       "      <td>Y</td>\n",
       "    </tr>\n",
       "    <tr>\n",
       "      <th>2</th>\n",
       "      <td>Caballero Dairy Farms Digester</td>\n",
       "      <td>Farm Scale</td>\n",
       "      <td>Eloy</td>\n",
       "      <td>Pinal</td>\n",
       "      <td>AZ</td>\n",
       "      <td>Unknown or Unspecified</td>\n",
       "      <td>Construction</td>\n",
       "      <td>2022.0</td>\n",
       "      <td>Dairy</td>\n",
       "      <td>0</td>\n",
       "      <td>...</td>\n",
       "      <td>0</td>\n",
       "      <td>0</td>\n",
       "      <td>0</td>\n",
       "      <td>0</td>\n",
       "      <td>0</td>\n",
       "      <td>Pipeline Gas</td>\n",
       "      <td>Brightmark [Project Developer]</td>\n",
       "      <td>0</td>\n",
       "      <td>89,518</td>\n",
       "      <td>0</td>\n",
       "    </tr>\n",
       "    <tr>\n",
       "      <th>3</th>\n",
       "      <td>Paloma Dairy Digester</td>\n",
       "      <td>Farm Scale</td>\n",
       "      <td>Gila Bend</td>\n",
       "      <td>Maricopa</td>\n",
       "      <td>AZ</td>\n",
       "      <td>Complete Mix</td>\n",
       "      <td>Operational</td>\n",
       "      <td>2021.0</td>\n",
       "      <td>Dairy</td>\n",
       "      <td>0</td>\n",
       "      <td>...</td>\n",
       "      <td>0</td>\n",
       "      <td>0</td>\n",
       "      <td>0</td>\n",
       "      <td>0</td>\n",
       "      <td>0</td>\n",
       "      <td>CNG</td>\n",
       "      <td>Black Bear Environmental Assets [Project Devel...</td>\n",
       "      <td>Southwest Gas Company</td>\n",
       "      <td>89,794</td>\n",
       "      <td>0</td>\n",
       "    </tr>\n",
       "    <tr>\n",
       "      <th>4</th>\n",
       "      <td>Stotz Southern Dairy Digester</td>\n",
       "      <td>Farm Scale</td>\n",
       "      <td>Buckeye</td>\n",
       "      <td>Maricopa</td>\n",
       "      <td>AZ</td>\n",
       "      <td>Covered Lagoon</td>\n",
       "      <td>Operational</td>\n",
       "      <td>2011.0</td>\n",
       "      <td>Dairy</td>\n",
       "      <td>0</td>\n",
       "      <td>...</td>\n",
       "      <td>0</td>\n",
       "      <td>0</td>\n",
       "      <td>0</td>\n",
       "      <td>0</td>\n",
       "      <td>5,256,000</td>\n",
       "      <td>Electricity</td>\n",
       "      <td>Chapel Street Environmental [System Design Eng...</td>\n",
       "      <td>Arizona Public Service</td>\n",
       "      <td>138,787</td>\n",
       "      <td>0</td>\n",
       "    </tr>\n",
       "    <tr>\n",
       "      <th>...</th>\n",
       "      <td>...</td>\n",
       "      <td>...</td>\n",
       "      <td>...</td>\n",
       "      <td>...</td>\n",
       "      <td>...</td>\n",
       "      <td>...</td>\n",
       "      <td>...</td>\n",
       "      <td>...</td>\n",
       "      <td>...</td>\n",
       "      <td>...</td>\n",
       "      <td>...</td>\n",
       "      <td>...</td>\n",
       "      <td>...</td>\n",
       "      <td>...</td>\n",
       "      <td>...</td>\n",
       "      <td>...</td>\n",
       "      <td>...</td>\n",
       "      <td>...</td>\n",
       "      <td>...</td>\n",
       "      <td>...</td>\n",
       "      <td>...</td>\n",
       "    </tr>\n",
       "    <tr>\n",
       "      <th>501</th>\n",
       "      <td>Norswiss Farms Digester</td>\n",
       "      <td>Farm Scale</td>\n",
       "      <td>Rice Lake</td>\n",
       "      <td>Barron</td>\n",
       "      <td>WI</td>\n",
       "      <td>Complete Mix</td>\n",
       "      <td>Shut down</td>\n",
       "      <td>2006.0</td>\n",
       "      <td>Dairy</td>\n",
       "      <td>0</td>\n",
       "      <td>...</td>\n",
       "      <td>0</td>\n",
       "      <td>0</td>\n",
       "      <td>Dairy Processing Wastes; Fats, Oils, Greases; ...</td>\n",
       "      <td>2,908,000</td>\n",
       "      <td>6,450,000</td>\n",
       "      <td>Electricity</td>\n",
       "      <td>Microgy [Project Developer, System Designer]</td>\n",
       "      <td>Dairyland Power Cooperative; Barron Electric</td>\n",
       "      <td>0</td>\n",
       "      <td>Y</td>\n",
       "    </tr>\n",
       "    <tr>\n",
       "      <th>502</th>\n",
       "      <td>Quantum Dairy Digester</td>\n",
       "      <td>Farm Scale</td>\n",
       "      <td>Weyauwega</td>\n",
       "      <td>Waupaca</td>\n",
       "      <td>WI</td>\n",
       "      <td>Mixed Plug Flow</td>\n",
       "      <td>Shut down</td>\n",
       "      <td>2005.0</td>\n",
       "      <td>Dairy</td>\n",
       "      <td>0</td>\n",
       "      <td>...</td>\n",
       "      <td>0</td>\n",
       "      <td>0</td>\n",
       "      <td>0</td>\n",
       "      <td>0</td>\n",
       "      <td>3,350,700</td>\n",
       "      <td>Cogeneration</td>\n",
       "      <td>DVO, Inc. (formerly GHD, Inc.) [Project Develo...</td>\n",
       "      <td>WE Energies, Inc.</td>\n",
       "      <td>0</td>\n",
       "      <td>Y</td>\n",
       "    </tr>\n",
       "    <tr>\n",
       "      <th>503</th>\n",
       "      <td>Stencil Farm Digester</td>\n",
       "      <td>Farm Scale</td>\n",
       "      <td>Denmark</td>\n",
       "      <td>Brown</td>\n",
       "      <td>WI</td>\n",
       "      <td>Horizontal Plug Flow</td>\n",
       "      <td>Shut down</td>\n",
       "      <td>2002.0</td>\n",
       "      <td>Dairy</td>\n",
       "      <td>0</td>\n",
       "      <td>...</td>\n",
       "      <td>0</td>\n",
       "      <td>0</td>\n",
       "      <td>0</td>\n",
       "      <td>0</td>\n",
       "      <td>946,080</td>\n",
       "      <td>Electricity</td>\n",
       "      <td>Martin Construction Resource LLC (formerly RCM...</td>\n",
       "      <td>Wisconsin Public Service Corporation</td>\n",
       "      <td>0</td>\n",
       "      <td>0</td>\n",
       "    </tr>\n",
       "    <tr>\n",
       "      <th>504</th>\n",
       "      <td>Tinedale Farms Digester</td>\n",
       "      <td>Farm Scale</td>\n",
       "      <td>Wrightstown</td>\n",
       "      <td>Jackson</td>\n",
       "      <td>WI</td>\n",
       "      <td>Fixed Film/Attached Media</td>\n",
       "      <td>Shut down</td>\n",
       "      <td>1999.0</td>\n",
       "      <td>Dairy</td>\n",
       "      <td>0</td>\n",
       "      <td>...</td>\n",
       "      <td>0</td>\n",
       "      <td>0</td>\n",
       "      <td>0</td>\n",
       "      <td>200,000</td>\n",
       "      <td>5,584,500</td>\n",
       "      <td>Electricity; Boiler/Furnace fuel</td>\n",
       "      <td>AGES [Project Developer, System Designer, Syst...</td>\n",
       "      <td>0</td>\n",
       "      <td>0</td>\n",
       "      <td>0</td>\n",
       "    </tr>\n",
       "    <tr>\n",
       "      <th>505</th>\n",
       "      <td>Wyoming Premium Farms 2 Digester</td>\n",
       "      <td>Farm Scale</td>\n",
       "      <td>Wheatland</td>\n",
       "      <td>Platte</td>\n",
       "      <td>WY</td>\n",
       "      <td>Complete Mix</td>\n",
       "      <td>Shut down</td>\n",
       "      <td>2004.0</td>\n",
       "      <td>Swine</td>\n",
       "      <td>0</td>\n",
       "      <td>...</td>\n",
       "      <td>0</td>\n",
       "      <td>18,000</td>\n",
       "      <td>0</td>\n",
       "      <td>0</td>\n",
       "      <td>1,340,280</td>\n",
       "      <td>Electricity</td>\n",
       "      <td>AG Engineering, Inc. [System Design Engineer];...</td>\n",
       "      <td>0</td>\n",
       "      <td>0</td>\n",
       "      <td>0</td>\n",
       "    </tr>\n",
       "  </tbody>\n",
       "</table>\n",
       "<p>506 rows × 21 columns</p>\n",
       "</div>"
      ],
      "text/plain": [
       "                            Project Name Project Type         City    County  \\\n",
       "0    Cargill - Sandy River Farm Digester   Farm Scale    Morrilton    Conway   \n",
       "1               Butterfield RNG Digester   Farm Scale      Buckeye  Maricopa   \n",
       "2         Caballero Dairy Farms Digester   Farm Scale         Eloy     Pinal   \n",
       "3                  Paloma Dairy Digester   Farm Scale    Gila Bend  Maricopa   \n",
       "4          Stotz Southern Dairy Digester   Farm Scale      Buckeye  Maricopa   \n",
       "..                                   ...          ...          ...       ...   \n",
       "501              Norswiss Farms Digester   Farm Scale    Rice Lake    Barron   \n",
       "502               Quantum Dairy Digester   Farm Scale    Weyauwega   Waupaca   \n",
       "503                Stencil Farm Digester   Farm Scale      Denmark     Brown   \n",
       "504              Tinedale Farms Digester   Farm Scale  Wrightstown   Jackson   \n",
       "505     Wyoming Premium Farms 2 Digester   Farm Scale    Wheatland    Platte   \n",
       "\n",
       "    State              Digester Type        Status  Year Operational  \\\n",
       "0      AR             Covered Lagoon   Operational            2008.0   \n",
       "1      AZ            Mixed Plug Flow  Construction            2021.0   \n",
       "2      AZ     Unknown or Unspecified  Construction            2022.0   \n",
       "3      AZ               Complete Mix   Operational            2021.0   \n",
       "4      AZ             Covered Lagoon   Operational            2011.0   \n",
       "..    ...                        ...           ...               ...   \n",
       "501    WI               Complete Mix     Shut down            2006.0   \n",
       "502    WI            Mixed Plug Flow     Shut down            2005.0   \n",
       "503    WI       Horizontal Plug Flow     Shut down            2002.0   \n",
       "504    WI  Fixed Film/Attached Media     Shut down            1999.0   \n",
       "505    WY               Complete Mix     Shut down            2004.0   \n",
       "\n",
       "    Animal/Farm Type(s) Cattle  ... Poultry   Swine  \\\n",
       "0                 Swine      0  ...       0   4,200   \n",
       "1                 Dairy      0  ...       0       0   \n",
       "2                 Dairy      0  ...       0       0   \n",
       "3                 Dairy      0  ...       0       0   \n",
       "4                 Dairy      0  ...       0       0   \n",
       "..                  ...    ...  ...     ...     ...   \n",
       "501               Dairy      0  ...       0       0   \n",
       "502               Dairy      0  ...       0       0   \n",
       "503               Dairy      0  ...       0       0   \n",
       "504               Dairy      0  ...       0       0   \n",
       "505               Swine      0  ...       0  18,000   \n",
       "\n",
       "                                          Co-Digestion  \\\n",
       "0                                                    0   \n",
       "1                                                    0   \n",
       "2                                                    0   \n",
       "3                                                    0   \n",
       "4                                                    0   \n",
       "..                                                 ...   \n",
       "501  Dairy Processing Wastes; Fats, Oils, Greases; ...   \n",
       "502                                                  0   \n",
       "503                                                  0   \n",
       "504                                                  0   \n",
       "505                                                  0   \n",
       "\n",
       "     Biogas Generation Estimate (cu_ft/day)   Electricity Generated (kWh/yr)   \\\n",
       "0                                  1,814,400                                0   \n",
       "1                                          0                                0   \n",
       "2                                          0                                0   \n",
       "3                                          0                                0   \n",
       "4                                          0                        5,256,000   \n",
       "..                                       ...                              ...   \n",
       "501                                2,908,000                        6,450,000   \n",
       "502                                        0                        3,350,700   \n",
       "503                                        0                          946,080   \n",
       "504                                  200,000                        5,584,500   \n",
       "505                                        0                        1,340,280   \n",
       "\n",
       "                    Biogas End Use(s)  \\\n",
       "0                    Flared Full-time   \n",
       "1                        Pipeline Gas   \n",
       "2                        Pipeline Gas   \n",
       "3                                 CNG   \n",
       "4                         Electricity   \n",
       "..                                ...   \n",
       "501                       Electricity   \n",
       "502                      Cogeneration   \n",
       "503                       Electricity   \n",
       "504  Electricity; Boiler/Furnace fuel   \n",
       "505                       Electricity   \n",
       "\n",
       "        System Designer(s)_Developer(s) and Affiliates  \\\n",
       "0    Martin Construction Resource LLC (formerly RCM...   \n",
       "1    Avolta [Project Developer]; DVO, Inc. (formerl...   \n",
       "2                       Brightmark [Project Developer]   \n",
       "3    Black Bear Environmental Assets [Project Devel...   \n",
       "4    Chapel Street Environmental [System Design Eng...   \n",
       "..                                                 ...   \n",
       "501       Microgy [Project Developer, System Designer]   \n",
       "502  DVO, Inc. (formerly GHD, Inc.) [Project Develo...   \n",
       "503  Martin Construction Resource LLC (formerly RCM...   \n",
       "504  AGES [Project Developer, System Designer, Syst...   \n",
       "505  AG Engineering, Inc. [System Design Engineer];...   \n",
       "\n",
       "                                Receiving Utility  \\\n",
       "0                                               0   \n",
       "1                                   Southwest Gas   \n",
       "2                                               0   \n",
       "3                           Southwest Gas Company   \n",
       "4                          Arizona Public Service   \n",
       "..                                            ...   \n",
       "501  Dairyland Power Cooperative; Barron Electric   \n",
       "502                             WE Energies, Inc.   \n",
       "503          Wisconsin Public Service Corporation   \n",
       "504                                             0   \n",
       "505                                             0   \n",
       "\n",
       "     Total Emission Reductions (MTCO2e/yr)  Awarded USDA Funding?  \n",
       "0                                     4,002                     0  \n",
       "1                                    29,826                     Y  \n",
       "2                                    89,518                     0  \n",
       "3                                    89,794                     0  \n",
       "4                                   138,787                     0  \n",
       "..                                      ...                   ...  \n",
       "501                                       0                     Y  \n",
       "502                                       0                     Y  \n",
       "503                                       0                     0  \n",
       "504                                       0                     0  \n",
       "505                                       0                     0  \n",
       "\n",
       "[506 rows x 21 columns]"
      ]
     },
     "execution_count": 9,
     "metadata": {},
     "output_type": "execute_result"
    }
   ],
   "source": [
    "df"
   ]
  },
  {
   "cell_type": "code",
   "execution_count": 10,
   "metadata": {},
   "outputs": [],
   "source": [
    "#remove commas within numbers in dataset then assign numbers the type \"integer\"\n",
    "\n",
    "df[' Biogas Generation Estimate (cu_ft/day) ']=df[' Biogas Generation Estimate (cu_ft/day) '].str.replace(',','')\n",
    "df[' Electricity Generated (kWh/yr) ']=df[' Electricity Generated (kWh/yr) '].str.replace(',','')\n",
    "df['Dairy']=df['Dairy'].str.replace(',','')\n",
    "df['Swine']=df['Swine'].str.replace(',','')"
   ]
  },
  {
   "cell_type": "code",
   "execution_count": 11,
   "metadata": {},
   "outputs": [],
   "source": [
    "#fill na with 0\n",
    "df.fillna(0,inplace=True)\n"
   ]
  },
  {
   "cell_type": "code",
   "execution_count": 12,
   "metadata": {},
   "outputs": [],
   "source": [
    "df = df.astype({' Biogas Generation Estimate (cu_ft/day) ':'int'})\n",
    "df = df.astype({' Electricity Generated (kWh/yr) ': 'int'})\n",
    "df = df.astype({'Dairy':'int'})\n",
    "df = df.astype({'Swine':'int'})"
   ]
  },
  {
   "cell_type": "code",
   "execution_count": 13,
   "metadata": {},
   "outputs": [
    {
     "data": {
      "text/html": [
       "<div>\n",
       "<style scoped>\n",
       "    .dataframe tbody tr th:only-of-type {\n",
       "        vertical-align: middle;\n",
       "    }\n",
       "\n",
       "    .dataframe tbody tr th {\n",
       "        vertical-align: top;\n",
       "    }\n",
       "\n",
       "    .dataframe thead th {\n",
       "        text-align: right;\n",
       "    }\n",
       "</style>\n",
       "<table border=\"1\" class=\"dataframe\">\n",
       "  <thead>\n",
       "    <tr style=\"text-align: right;\">\n",
       "      <th></th>\n",
       "      <th>Project Name</th>\n",
       "      <th>Project Type</th>\n",
       "      <th>City</th>\n",
       "      <th>County</th>\n",
       "      <th>State</th>\n",
       "      <th>Digester Type</th>\n",
       "      <th>Status</th>\n",
       "      <th>Year Operational</th>\n",
       "      <th>Animal/Farm Type(s)</th>\n",
       "      <th>Cattle</th>\n",
       "      <th>...</th>\n",
       "      <th>Poultry</th>\n",
       "      <th>Swine</th>\n",
       "      <th>Co-Digestion</th>\n",
       "      <th>Biogas Generation Estimate (cu_ft/day)</th>\n",
       "      <th>Electricity Generated (kWh/yr)</th>\n",
       "      <th>Biogas End Use(s)</th>\n",
       "      <th>System Designer(s)_Developer(s) and Affiliates</th>\n",
       "      <th>Receiving Utility</th>\n",
       "      <th>Total Emission Reductions (MTCO2e/yr)</th>\n",
       "      <th>Awarded USDA Funding?</th>\n",
       "    </tr>\n",
       "  </thead>\n",
       "  <tbody>\n",
       "    <tr>\n",
       "      <th>0</th>\n",
       "      <td>Cargill - Sandy River Farm Digester</td>\n",
       "      <td>Farm Scale</td>\n",
       "      <td>Morrilton</td>\n",
       "      <td>Conway</td>\n",
       "      <td>AR</td>\n",
       "      <td>Covered Lagoon</td>\n",
       "      <td>Operational</td>\n",
       "      <td>2008.0</td>\n",
       "      <td>Swine</td>\n",
       "      <td>0</td>\n",
       "      <td>...</td>\n",
       "      <td>0</td>\n",
       "      <td>4200</td>\n",
       "      <td>0</td>\n",
       "      <td>1814400</td>\n",
       "      <td>0</td>\n",
       "      <td>Flared Full-time</td>\n",
       "      <td>Martin Construction Resource LLC (formerly RCM...</td>\n",
       "      <td>0</td>\n",
       "      <td>4,002</td>\n",
       "      <td>0</td>\n",
       "    </tr>\n",
       "    <tr>\n",
       "      <th>1</th>\n",
       "      <td>Butterfield RNG Digester</td>\n",
       "      <td>Farm Scale</td>\n",
       "      <td>Buckeye</td>\n",
       "      <td>Maricopa</td>\n",
       "      <td>AZ</td>\n",
       "      <td>Mixed Plug Flow</td>\n",
       "      <td>Construction</td>\n",
       "      <td>2021.0</td>\n",
       "      <td>Dairy</td>\n",
       "      <td>0</td>\n",
       "      <td>...</td>\n",
       "      <td>0</td>\n",
       "      <td>0</td>\n",
       "      <td>0</td>\n",
       "      <td>0</td>\n",
       "      <td>0</td>\n",
       "      <td>Pipeline Gas</td>\n",
       "      <td>Avolta [Project Developer]; DVO, Inc. (formerl...</td>\n",
       "      <td>Southwest Gas</td>\n",
       "      <td>29,826</td>\n",
       "      <td>Y</td>\n",
       "    </tr>\n",
       "    <tr>\n",
       "      <th>2</th>\n",
       "      <td>Caballero Dairy Farms Digester</td>\n",
       "      <td>Farm Scale</td>\n",
       "      <td>Eloy</td>\n",
       "      <td>Pinal</td>\n",
       "      <td>AZ</td>\n",
       "      <td>Unknown or Unspecified</td>\n",
       "      <td>Construction</td>\n",
       "      <td>2022.0</td>\n",
       "      <td>Dairy</td>\n",
       "      <td>0</td>\n",
       "      <td>...</td>\n",
       "      <td>0</td>\n",
       "      <td>0</td>\n",
       "      <td>0</td>\n",
       "      <td>0</td>\n",
       "      <td>0</td>\n",
       "      <td>Pipeline Gas</td>\n",
       "      <td>Brightmark [Project Developer]</td>\n",
       "      <td>0</td>\n",
       "      <td>89,518</td>\n",
       "      <td>0</td>\n",
       "    </tr>\n",
       "    <tr>\n",
       "      <th>3</th>\n",
       "      <td>Paloma Dairy Digester</td>\n",
       "      <td>Farm Scale</td>\n",
       "      <td>Gila Bend</td>\n",
       "      <td>Maricopa</td>\n",
       "      <td>AZ</td>\n",
       "      <td>Complete Mix</td>\n",
       "      <td>Operational</td>\n",
       "      <td>2021.0</td>\n",
       "      <td>Dairy</td>\n",
       "      <td>0</td>\n",
       "      <td>...</td>\n",
       "      <td>0</td>\n",
       "      <td>0</td>\n",
       "      <td>0</td>\n",
       "      <td>0</td>\n",
       "      <td>0</td>\n",
       "      <td>CNG</td>\n",
       "      <td>Black Bear Environmental Assets [Project Devel...</td>\n",
       "      <td>Southwest Gas Company</td>\n",
       "      <td>89,794</td>\n",
       "      <td>0</td>\n",
       "    </tr>\n",
       "    <tr>\n",
       "      <th>4</th>\n",
       "      <td>Stotz Southern Dairy Digester</td>\n",
       "      <td>Farm Scale</td>\n",
       "      <td>Buckeye</td>\n",
       "      <td>Maricopa</td>\n",
       "      <td>AZ</td>\n",
       "      <td>Covered Lagoon</td>\n",
       "      <td>Operational</td>\n",
       "      <td>2011.0</td>\n",
       "      <td>Dairy</td>\n",
       "      <td>0</td>\n",
       "      <td>...</td>\n",
       "      <td>0</td>\n",
       "      <td>0</td>\n",
       "      <td>0</td>\n",
       "      <td>0</td>\n",
       "      <td>5256000</td>\n",
       "      <td>Electricity</td>\n",
       "      <td>Chapel Street Environmental [System Design Eng...</td>\n",
       "      <td>Arizona Public Service</td>\n",
       "      <td>138,787</td>\n",
       "      <td>0</td>\n",
       "    </tr>\n",
       "  </tbody>\n",
       "</table>\n",
       "<p>5 rows × 21 columns</p>\n",
       "</div>"
      ],
      "text/plain": [
       "                          Project Name Project Type       City    County  \\\n",
       "0  Cargill - Sandy River Farm Digester   Farm Scale  Morrilton    Conway   \n",
       "1             Butterfield RNG Digester   Farm Scale    Buckeye  Maricopa   \n",
       "2       Caballero Dairy Farms Digester   Farm Scale       Eloy     Pinal   \n",
       "3                Paloma Dairy Digester   Farm Scale  Gila Bend  Maricopa   \n",
       "4        Stotz Southern Dairy Digester   Farm Scale    Buckeye  Maricopa   \n",
       "\n",
       "  State           Digester Type        Status  Year Operational  \\\n",
       "0    AR          Covered Lagoon   Operational            2008.0   \n",
       "1    AZ         Mixed Plug Flow  Construction            2021.0   \n",
       "2    AZ  Unknown or Unspecified  Construction            2022.0   \n",
       "3    AZ            Complete Mix   Operational            2021.0   \n",
       "4    AZ          Covered Lagoon   Operational            2011.0   \n",
       "\n",
       "  Animal/Farm Type(s) Cattle  ...  Poultry Swine  Co-Digestion  \\\n",
       "0               Swine      0  ...        0  4200             0   \n",
       "1               Dairy      0  ...        0     0             0   \n",
       "2               Dairy      0  ...        0     0             0   \n",
       "3               Dairy      0  ...        0     0             0   \n",
       "4               Dairy      0  ...        0     0             0   \n",
       "\n",
       "   Biogas Generation Estimate (cu_ft/day)    Electricity Generated (kWh/yr)   \\\n",
       "0                                  1814400                                 0   \n",
       "1                                        0                                 0   \n",
       "2                                        0                                 0   \n",
       "3                                        0                                 0   \n",
       "4                                        0                           5256000   \n",
       "\n",
       "   Biogas End Use(s)     System Designer(s)_Developer(s) and Affiliates  \\\n",
       "0   Flared Full-time  Martin Construction Resource LLC (formerly RCM...   \n",
       "1       Pipeline Gas  Avolta [Project Developer]; DVO, Inc. (formerl...   \n",
       "2       Pipeline Gas                     Brightmark [Project Developer]   \n",
       "3                CNG  Black Bear Environmental Assets [Project Devel...   \n",
       "4        Electricity  Chapel Street Environmental [System Design Eng...   \n",
       "\n",
       "        Receiving Utility  Total Emission Reductions (MTCO2e/yr)   \\\n",
       "0                       0                                   4,002   \n",
       "1           Southwest Gas                                  29,826   \n",
       "2                       0                                  89,518   \n",
       "3   Southwest Gas Company                                  89,794   \n",
       "4  Arizona Public Service                                 138,787   \n",
       "\n",
       "  Awarded USDA Funding?  \n",
       "0                     0  \n",
       "1                     Y  \n",
       "2                     0  \n",
       "3                     0  \n",
       "4                     0  \n",
       "\n",
       "[5 rows x 21 columns]"
      ]
     },
     "execution_count": 13,
     "metadata": {},
     "output_type": "execute_result"
    }
   ],
   "source": [
    "df.head()"
   ]
  },
  {
   "cell_type": "code",
   "execution_count": 14,
   "metadata": {},
   "outputs": [],
   "source": [
    "df2 = df.rename(columns={\"Animal/Farm Type(s)\" : \"Animal\", \"Co-Digestion\" : \"Codigestion\", \"Biogas End Use(s)\" : \"Biogas_End_Use\", \" Biogas Generation Estimate (cu_ft/day) \" : \"Biogas_gen_ft3_day\"})"
   ]
  },
  {
   "cell_type": "code",
   "execution_count": 15,
   "metadata": {},
   "outputs": [
    {
     "data": {
      "text/plain": [
       "Index(['Project Name', 'Project Type', 'City', 'County', 'State',\n",
       "       'Digester Type', 'Status', 'Year Operational', 'Animal', 'Cattle',\n",
       "       'Dairy', 'Poultry', 'Swine', 'Codigestion', 'Biogas_gen_ft3_day',\n",
       "       ' Electricity Generated (kWh/yr) ', 'Biogas_End_Use',\n",
       "       'System Designer(s)_Developer(s) and Affiliates', 'Receiving Utility',\n",
       "       ' Total Emission Reductions (MTCO2e/yr) ', 'Awarded USDA Funding?'],\n",
       "      dtype='object')"
      ]
     },
     "execution_count": 15,
     "metadata": {},
     "output_type": "execute_result"
    }
   ],
   "source": [
    "df2.columns "
   ]
  },
  {
   "cell_type": "code",
   "execution_count": 16,
   "metadata": {},
   "outputs": [
    {
     "data": {
      "text/html": [
       "<div>\n",
       "<style scoped>\n",
       "    .dataframe tbody tr th:only-of-type {\n",
       "        vertical-align: middle;\n",
       "    }\n",
       "\n",
       "    .dataframe tbody tr th {\n",
       "        vertical-align: top;\n",
       "    }\n",
       "\n",
       "    .dataframe thead th {\n",
       "        text-align: right;\n",
       "    }\n",
       "</style>\n",
       "<table border=\"1\" class=\"dataframe\">\n",
       "  <thead>\n",
       "    <tr style=\"text-align: right;\">\n",
       "      <th></th>\n",
       "      <th>Project Name</th>\n",
       "      <th>Project Type</th>\n",
       "      <th>City</th>\n",
       "      <th>County</th>\n",
       "      <th>State</th>\n",
       "      <th>Digester Type</th>\n",
       "      <th>Status</th>\n",
       "      <th>Year Operational</th>\n",
       "      <th>Animal</th>\n",
       "      <th>Cattle</th>\n",
       "      <th>...</th>\n",
       "      <th>Poultry</th>\n",
       "      <th>Swine</th>\n",
       "      <th>Codigestion</th>\n",
       "      <th>Biogas_gen_ft3_day</th>\n",
       "      <th>Electricity Generated (kWh/yr)</th>\n",
       "      <th>Biogas_End_Use</th>\n",
       "      <th>System Designer(s)_Developer(s) and Affiliates</th>\n",
       "      <th>Receiving Utility</th>\n",
       "      <th>Total Emission Reductions (MTCO2e/yr)</th>\n",
       "      <th>Awarded USDA Funding?</th>\n",
       "    </tr>\n",
       "  </thead>\n",
       "  <tbody>\n",
       "    <tr>\n",
       "      <th>0</th>\n",
       "      <td>Cargill - Sandy River Farm Digester</td>\n",
       "      <td>Farm Scale</td>\n",
       "      <td>Morrilton</td>\n",
       "      <td>Conway</td>\n",
       "      <td>AR</td>\n",
       "      <td>Covered Lagoon</td>\n",
       "      <td>Operational</td>\n",
       "      <td>2008.0</td>\n",
       "      <td>Swine</td>\n",
       "      <td>0</td>\n",
       "      <td>...</td>\n",
       "      <td>0</td>\n",
       "      <td>4200</td>\n",
       "      <td>0</td>\n",
       "      <td>1814400</td>\n",
       "      <td>0</td>\n",
       "      <td>Flared Full-time</td>\n",
       "      <td>Martin Construction Resource LLC (formerly RCM...</td>\n",
       "      <td>0</td>\n",
       "      <td>4,002</td>\n",
       "      <td>0</td>\n",
       "    </tr>\n",
       "    <tr>\n",
       "      <th>1</th>\n",
       "      <td>Butterfield RNG Digester</td>\n",
       "      <td>Farm Scale</td>\n",
       "      <td>Buckeye</td>\n",
       "      <td>Maricopa</td>\n",
       "      <td>AZ</td>\n",
       "      <td>Mixed Plug Flow</td>\n",
       "      <td>Construction</td>\n",
       "      <td>2021.0</td>\n",
       "      <td>Dairy</td>\n",
       "      <td>0</td>\n",
       "      <td>...</td>\n",
       "      <td>0</td>\n",
       "      <td>0</td>\n",
       "      <td>0</td>\n",
       "      <td>0</td>\n",
       "      <td>0</td>\n",
       "      <td>Pipeline Gas</td>\n",
       "      <td>Avolta [Project Developer]; DVO, Inc. (formerl...</td>\n",
       "      <td>Southwest Gas</td>\n",
       "      <td>29,826</td>\n",
       "      <td>Y</td>\n",
       "    </tr>\n",
       "    <tr>\n",
       "      <th>2</th>\n",
       "      <td>Caballero Dairy Farms Digester</td>\n",
       "      <td>Farm Scale</td>\n",
       "      <td>Eloy</td>\n",
       "      <td>Pinal</td>\n",
       "      <td>AZ</td>\n",
       "      <td>Unknown or Unspecified</td>\n",
       "      <td>Construction</td>\n",
       "      <td>2022.0</td>\n",
       "      <td>Dairy</td>\n",
       "      <td>0</td>\n",
       "      <td>...</td>\n",
       "      <td>0</td>\n",
       "      <td>0</td>\n",
       "      <td>0</td>\n",
       "      <td>0</td>\n",
       "      <td>0</td>\n",
       "      <td>Pipeline Gas</td>\n",
       "      <td>Brightmark [Project Developer]</td>\n",
       "      <td>0</td>\n",
       "      <td>89,518</td>\n",
       "      <td>0</td>\n",
       "    </tr>\n",
       "    <tr>\n",
       "      <th>3</th>\n",
       "      <td>Paloma Dairy Digester</td>\n",
       "      <td>Farm Scale</td>\n",
       "      <td>Gila Bend</td>\n",
       "      <td>Maricopa</td>\n",
       "      <td>AZ</td>\n",
       "      <td>Complete Mix</td>\n",
       "      <td>Operational</td>\n",
       "      <td>2021.0</td>\n",
       "      <td>Dairy</td>\n",
       "      <td>0</td>\n",
       "      <td>...</td>\n",
       "      <td>0</td>\n",
       "      <td>0</td>\n",
       "      <td>0</td>\n",
       "      <td>0</td>\n",
       "      <td>0</td>\n",
       "      <td>CNG</td>\n",
       "      <td>Black Bear Environmental Assets [Project Devel...</td>\n",
       "      <td>Southwest Gas Company</td>\n",
       "      <td>89,794</td>\n",
       "      <td>0</td>\n",
       "    </tr>\n",
       "    <tr>\n",
       "      <th>4</th>\n",
       "      <td>Stotz Southern Dairy Digester</td>\n",
       "      <td>Farm Scale</td>\n",
       "      <td>Buckeye</td>\n",
       "      <td>Maricopa</td>\n",
       "      <td>AZ</td>\n",
       "      <td>Covered Lagoon</td>\n",
       "      <td>Operational</td>\n",
       "      <td>2011.0</td>\n",
       "      <td>Dairy</td>\n",
       "      <td>0</td>\n",
       "      <td>...</td>\n",
       "      <td>0</td>\n",
       "      <td>0</td>\n",
       "      <td>0</td>\n",
       "      <td>0</td>\n",
       "      <td>5256000</td>\n",
       "      <td>Electricity</td>\n",
       "      <td>Chapel Street Environmental [System Design Eng...</td>\n",
       "      <td>Arizona Public Service</td>\n",
       "      <td>138,787</td>\n",
       "      <td>0</td>\n",
       "    </tr>\n",
       "    <tr>\n",
       "      <th>...</th>\n",
       "      <td>...</td>\n",
       "      <td>...</td>\n",
       "      <td>...</td>\n",
       "      <td>...</td>\n",
       "      <td>...</td>\n",
       "      <td>...</td>\n",
       "      <td>...</td>\n",
       "      <td>...</td>\n",
       "      <td>...</td>\n",
       "      <td>...</td>\n",
       "      <td>...</td>\n",
       "      <td>...</td>\n",
       "      <td>...</td>\n",
       "      <td>...</td>\n",
       "      <td>...</td>\n",
       "      <td>...</td>\n",
       "      <td>...</td>\n",
       "      <td>...</td>\n",
       "      <td>...</td>\n",
       "      <td>...</td>\n",
       "      <td>...</td>\n",
       "    </tr>\n",
       "    <tr>\n",
       "      <th>501</th>\n",
       "      <td>Norswiss Farms Digester</td>\n",
       "      <td>Farm Scale</td>\n",
       "      <td>Rice Lake</td>\n",
       "      <td>Barron</td>\n",
       "      <td>WI</td>\n",
       "      <td>Complete Mix</td>\n",
       "      <td>Shut down</td>\n",
       "      <td>2006.0</td>\n",
       "      <td>Dairy</td>\n",
       "      <td>0</td>\n",
       "      <td>...</td>\n",
       "      <td>0</td>\n",
       "      <td>0</td>\n",
       "      <td>Dairy Processing Wastes; Fats, Oils, Greases; ...</td>\n",
       "      <td>2908000</td>\n",
       "      <td>6450000</td>\n",
       "      <td>Electricity</td>\n",
       "      <td>Microgy [Project Developer, System Designer]</td>\n",
       "      <td>Dairyland Power Cooperative; Barron Electric</td>\n",
       "      <td>0</td>\n",
       "      <td>Y</td>\n",
       "    </tr>\n",
       "    <tr>\n",
       "      <th>502</th>\n",
       "      <td>Quantum Dairy Digester</td>\n",
       "      <td>Farm Scale</td>\n",
       "      <td>Weyauwega</td>\n",
       "      <td>Waupaca</td>\n",
       "      <td>WI</td>\n",
       "      <td>Mixed Plug Flow</td>\n",
       "      <td>Shut down</td>\n",
       "      <td>2005.0</td>\n",
       "      <td>Dairy</td>\n",
       "      <td>0</td>\n",
       "      <td>...</td>\n",
       "      <td>0</td>\n",
       "      <td>0</td>\n",
       "      <td>0</td>\n",
       "      <td>0</td>\n",
       "      <td>3350700</td>\n",
       "      <td>Cogeneration</td>\n",
       "      <td>DVO, Inc. (formerly GHD, Inc.) [Project Develo...</td>\n",
       "      <td>WE Energies, Inc.</td>\n",
       "      <td>0</td>\n",
       "      <td>Y</td>\n",
       "    </tr>\n",
       "    <tr>\n",
       "      <th>503</th>\n",
       "      <td>Stencil Farm Digester</td>\n",
       "      <td>Farm Scale</td>\n",
       "      <td>Denmark</td>\n",
       "      <td>Brown</td>\n",
       "      <td>WI</td>\n",
       "      <td>Horizontal Plug Flow</td>\n",
       "      <td>Shut down</td>\n",
       "      <td>2002.0</td>\n",
       "      <td>Dairy</td>\n",
       "      <td>0</td>\n",
       "      <td>...</td>\n",
       "      <td>0</td>\n",
       "      <td>0</td>\n",
       "      <td>0</td>\n",
       "      <td>0</td>\n",
       "      <td>946080</td>\n",
       "      <td>Electricity</td>\n",
       "      <td>Martin Construction Resource LLC (formerly RCM...</td>\n",
       "      <td>Wisconsin Public Service Corporation</td>\n",
       "      <td>0</td>\n",
       "      <td>0</td>\n",
       "    </tr>\n",
       "    <tr>\n",
       "      <th>504</th>\n",
       "      <td>Tinedale Farms Digester</td>\n",
       "      <td>Farm Scale</td>\n",
       "      <td>Wrightstown</td>\n",
       "      <td>Jackson</td>\n",
       "      <td>WI</td>\n",
       "      <td>Fixed Film/Attached Media</td>\n",
       "      <td>Shut down</td>\n",
       "      <td>1999.0</td>\n",
       "      <td>Dairy</td>\n",
       "      <td>0</td>\n",
       "      <td>...</td>\n",
       "      <td>0</td>\n",
       "      <td>0</td>\n",
       "      <td>0</td>\n",
       "      <td>200000</td>\n",
       "      <td>5584500</td>\n",
       "      <td>Electricity; Boiler/Furnace fuel</td>\n",
       "      <td>AGES [Project Developer, System Designer, Syst...</td>\n",
       "      <td>0</td>\n",
       "      <td>0</td>\n",
       "      <td>0</td>\n",
       "    </tr>\n",
       "    <tr>\n",
       "      <th>505</th>\n",
       "      <td>Wyoming Premium Farms 2 Digester</td>\n",
       "      <td>Farm Scale</td>\n",
       "      <td>Wheatland</td>\n",
       "      <td>Platte</td>\n",
       "      <td>WY</td>\n",
       "      <td>Complete Mix</td>\n",
       "      <td>Shut down</td>\n",
       "      <td>2004.0</td>\n",
       "      <td>Swine</td>\n",
       "      <td>0</td>\n",
       "      <td>...</td>\n",
       "      <td>0</td>\n",
       "      <td>18000</td>\n",
       "      <td>0</td>\n",
       "      <td>0</td>\n",
       "      <td>1340280</td>\n",
       "      <td>Electricity</td>\n",
       "      <td>AG Engineering, Inc. [System Design Engineer];...</td>\n",
       "      <td>0</td>\n",
       "      <td>0</td>\n",
       "      <td>0</td>\n",
       "    </tr>\n",
       "  </tbody>\n",
       "</table>\n",
       "<p>506 rows × 21 columns</p>\n",
       "</div>"
      ],
      "text/plain": [
       "                            Project Name Project Type         City    County  \\\n",
       "0    Cargill - Sandy River Farm Digester   Farm Scale    Morrilton    Conway   \n",
       "1               Butterfield RNG Digester   Farm Scale      Buckeye  Maricopa   \n",
       "2         Caballero Dairy Farms Digester   Farm Scale         Eloy     Pinal   \n",
       "3                  Paloma Dairy Digester   Farm Scale    Gila Bend  Maricopa   \n",
       "4          Stotz Southern Dairy Digester   Farm Scale      Buckeye  Maricopa   \n",
       "..                                   ...          ...          ...       ...   \n",
       "501              Norswiss Farms Digester   Farm Scale    Rice Lake    Barron   \n",
       "502               Quantum Dairy Digester   Farm Scale    Weyauwega   Waupaca   \n",
       "503                Stencil Farm Digester   Farm Scale      Denmark     Brown   \n",
       "504              Tinedale Farms Digester   Farm Scale  Wrightstown   Jackson   \n",
       "505     Wyoming Premium Farms 2 Digester   Farm Scale    Wheatland    Platte   \n",
       "\n",
       "    State              Digester Type        Status  Year Operational Animal  \\\n",
       "0      AR             Covered Lagoon   Operational            2008.0  Swine   \n",
       "1      AZ            Mixed Plug Flow  Construction            2021.0  Dairy   \n",
       "2      AZ     Unknown or Unspecified  Construction            2022.0  Dairy   \n",
       "3      AZ               Complete Mix   Operational            2021.0  Dairy   \n",
       "4      AZ             Covered Lagoon   Operational            2011.0  Dairy   \n",
       "..    ...                        ...           ...               ...    ...   \n",
       "501    WI               Complete Mix     Shut down            2006.0  Dairy   \n",
       "502    WI            Mixed Plug Flow     Shut down            2005.0  Dairy   \n",
       "503    WI       Horizontal Plug Flow     Shut down            2002.0  Dairy   \n",
       "504    WI  Fixed Film/Attached Media     Shut down            1999.0  Dairy   \n",
       "505    WY               Complete Mix     Shut down            2004.0  Swine   \n",
       "\n",
       "    Cattle  ...  Poultry  Swine  \\\n",
       "0        0  ...        0   4200   \n",
       "1        0  ...        0      0   \n",
       "2        0  ...        0      0   \n",
       "3        0  ...        0      0   \n",
       "4        0  ...        0      0   \n",
       "..     ...  ...      ...    ...   \n",
       "501      0  ...        0      0   \n",
       "502      0  ...        0      0   \n",
       "503      0  ...        0      0   \n",
       "504      0  ...        0      0   \n",
       "505      0  ...        0  18000   \n",
       "\n",
       "                                           Codigestion Biogas_gen_ft3_day  \\\n",
       "0                                                    0            1814400   \n",
       "1                                                    0                  0   \n",
       "2                                                    0                  0   \n",
       "3                                                    0                  0   \n",
       "4                                                    0                  0   \n",
       "..                                                 ...                ...   \n",
       "501  Dairy Processing Wastes; Fats, Oils, Greases; ...            2908000   \n",
       "502                                                  0                  0   \n",
       "503                                                  0                  0   \n",
       "504                                                  0             200000   \n",
       "505                                                  0                  0   \n",
       "\n",
       "      Electricity Generated (kWh/yr)                     Biogas_End_Use  \\\n",
       "0                                   0                  Flared Full-time   \n",
       "1                                   0                      Pipeline Gas   \n",
       "2                                   0                      Pipeline Gas   \n",
       "3                                   0                               CNG   \n",
       "4                             5256000                       Electricity   \n",
       "..                                ...                               ...   \n",
       "501                           6450000                       Electricity   \n",
       "502                           3350700                      Cogeneration   \n",
       "503                            946080                       Electricity   \n",
       "504                           5584500  Electricity; Boiler/Furnace fuel   \n",
       "505                           1340280                       Electricity   \n",
       "\n",
       "        System Designer(s)_Developer(s) and Affiliates  \\\n",
       "0    Martin Construction Resource LLC (formerly RCM...   \n",
       "1    Avolta [Project Developer]; DVO, Inc. (formerl...   \n",
       "2                       Brightmark [Project Developer]   \n",
       "3    Black Bear Environmental Assets [Project Devel...   \n",
       "4    Chapel Street Environmental [System Design Eng...   \n",
       "..                                                 ...   \n",
       "501       Microgy [Project Developer, System Designer]   \n",
       "502  DVO, Inc. (formerly GHD, Inc.) [Project Develo...   \n",
       "503  Martin Construction Resource LLC (formerly RCM...   \n",
       "504  AGES [Project Developer, System Designer, Syst...   \n",
       "505  AG Engineering, Inc. [System Design Engineer];...   \n",
       "\n",
       "                                Receiving Utility  \\\n",
       "0                                               0   \n",
       "1                                   Southwest Gas   \n",
       "2                                               0   \n",
       "3                           Southwest Gas Company   \n",
       "4                          Arizona Public Service   \n",
       "..                                            ...   \n",
       "501  Dairyland Power Cooperative; Barron Electric   \n",
       "502                             WE Energies, Inc.   \n",
       "503          Wisconsin Public Service Corporation   \n",
       "504                                             0   \n",
       "505                                             0   \n",
       "\n",
       "     Total Emission Reductions (MTCO2e/yr)  Awarded USDA Funding?  \n",
       "0                                     4,002                     0  \n",
       "1                                    29,826                     Y  \n",
       "2                                    89,518                     0  \n",
       "3                                    89,794                     0  \n",
       "4                                   138,787                     0  \n",
       "..                                      ...                   ...  \n",
       "501                                       0                     Y  \n",
       "502                                       0                     Y  \n",
       "503                                       0                     0  \n",
       "504                                       0                     0  \n",
       "505                                       0                     0  \n",
       "\n",
       "[506 rows x 21 columns]"
      ]
     },
     "execution_count": 16,
     "metadata": {},
     "output_type": "execute_result"
    }
   ],
   "source": [
    "df2"
   ]
  },
  {
   "cell_type": "markdown",
   "metadata": {},
   "source": [
    "Throughout the notebook, I drop rows in dataframes for various reasons. Most of the time I'm discluding '0' values or selecting the animal I want to analyze. \n",
    "\n",
    "Also, I never want data where there is \"codigestion\" involved (mutliple feedstocks entering the digester). Typically, codigestion means there is an agricultural residue (corn stover, wheat stalks, brewers grains, etc) added along with manure to the digester. My maximum biogas per animal values, which are used to calculate digester efficiency, are based on a manure-only operating digester.\n",
    "\n"
   ]
  },
  {
   "cell_type": "code",
   "execution_count": 17,
   "metadata": {},
   "outputs": [],
   "source": [
    "#Drop unwanted rows from Dataframe\n",
    "\n",
    "df2.drop(df2[(df2['Animal'] != 'Dairy')].index, inplace = True)\n",
    "df2.drop(df2[(df2['Codigestion'] != 0)].index, inplace = True)\n",
    "df2.drop(df2[(df2['Biogas_gen_ft3_day'] == 0)].index, inplace = True)\n",
    "df2.drop(df2[(df2['Biogas_End_Use'] == 0)].index, inplace = True)\n",
    "\n",
    "df2['Biogas_ft3/cow'] = df2['Biogas_gen_ft3_day'] / df2['Dairy']\n",
    "\n",
    "#notwant = ['Electricity', 'Cogeneration; Refrigeration', 'Electricity; CNG',\n",
    "       #'Boiler/Furnace fuel', 'Electricity; Boiler/Furnace fuel',\n",
    "       #'Cogeneration', 'Cogeneration; CNG', 'Electricity; Cogeneration',\n",
    "       #'Flared Full-time', 'Cogeneration; Boiler/Furnace fuel', 'Electricity; Pipeline Gas',\n",
    "       #'Cogeneration; Pipeline Gas']\n",
    "\n",
    "#df2 = df2[~df2['Biogas_End_Use'].isin(notwant)]"
   ]
  },
  {
   "cell_type": "code",
   "execution_count": 18,
   "metadata": {},
   "outputs": [
    {
     "data": {
      "text/html": [
       "<div>\n",
       "<style scoped>\n",
       "    .dataframe tbody tr th:only-of-type {\n",
       "        vertical-align: middle;\n",
       "    }\n",
       "\n",
       "    .dataframe tbody tr th {\n",
       "        vertical-align: top;\n",
       "    }\n",
       "\n",
       "    .dataframe thead th {\n",
       "        text-align: right;\n",
       "    }\n",
       "</style>\n",
       "<table border=\"1\" class=\"dataframe\">\n",
       "  <thead>\n",
       "    <tr style=\"text-align: right;\">\n",
       "      <th></th>\n",
       "      <th>Project Name</th>\n",
       "      <th>Project Type</th>\n",
       "      <th>City</th>\n",
       "      <th>County</th>\n",
       "      <th>State</th>\n",
       "      <th>Digester Type</th>\n",
       "      <th>Status</th>\n",
       "      <th>Year Operational</th>\n",
       "      <th>Animal</th>\n",
       "      <th>Cattle</th>\n",
       "      <th>...</th>\n",
       "      <th>Swine</th>\n",
       "      <th>Codigestion</th>\n",
       "      <th>Biogas_gen_ft3_day</th>\n",
       "      <th>Electricity Generated (kWh/yr)</th>\n",
       "      <th>Biogas_End_Use</th>\n",
       "      <th>System Designer(s)_Developer(s) and Affiliates</th>\n",
       "      <th>Receiving Utility</th>\n",
       "      <th>Total Emission Reductions (MTCO2e/yr)</th>\n",
       "      <th>Awarded USDA Funding?</th>\n",
       "      <th>Biogas_ft3/cow</th>\n",
       "    </tr>\n",
       "  </thead>\n",
       "  <tbody>\n",
       "    <tr>\n",
       "      <th>7</th>\n",
       "      <td>ABEC Bidart-Old River LLC Digester</td>\n",
       "      <td>Farm Scale</td>\n",
       "      <td>Bakersfield</td>\n",
       "      <td>Kern</td>\n",
       "      <td>CA</td>\n",
       "      <td>Covered Lagoon</td>\n",
       "      <td>Operational</td>\n",
       "      <td>2013.0</td>\n",
       "      <td>Dairy</td>\n",
       "      <td>0</td>\n",
       "      <td>...</td>\n",
       "      <td>0</td>\n",
       "      <td>0</td>\n",
       "      <td>600000</td>\n",
       "      <td>16206000</td>\n",
       "      <td>Electricity</td>\n",
       "      <td>4Creeks [System Designer, System Design Engine...</td>\n",
       "      <td>PG&amp;E</td>\n",
       "      <td>107,483</td>\n",
       "      <td>0</td>\n",
       "      <td>38.709677</td>\n",
       "    </tr>\n",
       "    <tr>\n",
       "      <th>8</th>\n",
       "      <td>ABEC Bidart-Stockdale LLC Digester</td>\n",
       "      <td>Farm Scale</td>\n",
       "      <td>Bakersfield</td>\n",
       "      <td>Kern</td>\n",
       "      <td>CA</td>\n",
       "      <td>Covered Lagoon</td>\n",
       "      <td>Operational</td>\n",
       "      <td>2013.0</td>\n",
       "      <td>Dairy</td>\n",
       "      <td>0</td>\n",
       "      <td>...</td>\n",
       "      <td>0</td>\n",
       "      <td>0</td>\n",
       "      <td>50000</td>\n",
       "      <td>4204800</td>\n",
       "      <td>Electricity</td>\n",
       "      <td>California Bioenergy LLC [Project Developer, S...</td>\n",
       "      <td>PG&amp;E</td>\n",
       "      <td>14,867</td>\n",
       "      <td>0</td>\n",
       "      <td>29.411765</td>\n",
       "    </tr>\n",
       "    <tr>\n",
       "      <th>9</th>\n",
       "      <td>ABEC Carlos Echeverria &amp; Sons Digester</td>\n",
       "      <td>Farm Scale</td>\n",
       "      <td>Bakersfield</td>\n",
       "      <td>Kern</td>\n",
       "      <td>CA</td>\n",
       "      <td>Covered Lagoon</td>\n",
       "      <td>Operational</td>\n",
       "      <td>2018.0</td>\n",
       "      <td>Dairy</td>\n",
       "      <td>0</td>\n",
       "      <td>...</td>\n",
       "      <td>0</td>\n",
       "      <td>0</td>\n",
       "      <td>270000</td>\n",
       "      <td>7600000</td>\n",
       "      <td>Cogeneration; Refrigeration</td>\n",
       "      <td>California Bioenergy LLC [Project Developer]; ...</td>\n",
       "      <td>0</td>\n",
       "      <td>82,427</td>\n",
       "      <td>0</td>\n",
       "      <td>27.835052</td>\n",
       "    </tr>\n",
       "    <tr>\n",
       "      <th>10</th>\n",
       "      <td>ABEC Lakeview Farms Dairy Digester</td>\n",
       "      <td>Multiple Farm/Facility</td>\n",
       "      <td>Bakersfield</td>\n",
       "      <td>Kern</td>\n",
       "      <td>CA</td>\n",
       "      <td>Covered Lagoon</td>\n",
       "      <td>Operational</td>\n",
       "      <td>2018.0</td>\n",
       "      <td>Dairy</td>\n",
       "      <td>0</td>\n",
       "      <td>...</td>\n",
       "      <td>0</td>\n",
       "      <td>0</td>\n",
       "      <td>360000</td>\n",
       "      <td>6700000</td>\n",
       "      <td>Electricity; CNG</td>\n",
       "      <td>California Bioenergy LLC [Project Developer]</td>\n",
       "      <td>Pacific Gas and Electric Company</td>\n",
       "      <td>60,350</td>\n",
       "      <td>0</td>\n",
       "      <td>51.428571</td>\n",
       "    </tr>\n",
       "    <tr>\n",
       "      <th>27</th>\n",
       "      <td>Castelanelli Bros. Dairy Digester</td>\n",
       "      <td>Farm Scale</td>\n",
       "      <td>Lodi</td>\n",
       "      <td>San Joaquin</td>\n",
       "      <td>CA</td>\n",
       "      <td>Covered Lagoon</td>\n",
       "      <td>Operational</td>\n",
       "      <td>2004.0</td>\n",
       "      <td>Dairy</td>\n",
       "      <td>0</td>\n",
       "      <td>...</td>\n",
       "      <td>0</td>\n",
       "      <td>0</td>\n",
       "      <td>89148</td>\n",
       "      <td>2233800</td>\n",
       "      <td>Electricity</td>\n",
       "      <td>Environmental Fabrics, Inc. [Biogas Membrane S...</td>\n",
       "      <td>Pacific Gas and Electric Company</td>\n",
       "      <td>19,462</td>\n",
       "      <td>Y</td>\n",
       "      <td>27.746032</td>\n",
       "    </tr>\n",
       "    <tr>\n",
       "      <th>...</th>\n",
       "      <td>...</td>\n",
       "      <td>...</td>\n",
       "      <td>...</td>\n",
       "      <td>...</td>\n",
       "      <td>...</td>\n",
       "      <td>...</td>\n",
       "      <td>...</td>\n",
       "      <td>...</td>\n",
       "      <td>...</td>\n",
       "      <td>...</td>\n",
       "      <td>...</td>\n",
       "      <td>...</td>\n",
       "      <td>...</td>\n",
       "      <td>...</td>\n",
       "      <td>...</td>\n",
       "      <td>...</td>\n",
       "      <td>...</td>\n",
       "      <td>...</td>\n",
       "      <td>...</td>\n",
       "      <td>...</td>\n",
       "      <td>...</td>\n",
       "    </tr>\n",
       "    <tr>\n",
       "      <th>489</th>\n",
       "      <td>Foote Farm Digester</td>\n",
       "      <td>Research</td>\n",
       "      <td>Charlotte</td>\n",
       "      <td>Chittenden</td>\n",
       "      <td>VT</td>\n",
       "      <td>Modular Plug Flow</td>\n",
       "      <td>Shut down</td>\n",
       "      <td>2005.0</td>\n",
       "      <td>Dairy</td>\n",
       "      <td>0</td>\n",
       "      <td>...</td>\n",
       "      <td>0</td>\n",
       "      <td>0</td>\n",
       "      <td>5000</td>\n",
       "      <td>148920</td>\n",
       "      <td>Cogeneration</td>\n",
       "      <td>Avatar Energy [Project Developer, System Desig...</td>\n",
       "      <td>Green Mountain Power</td>\n",
       "      <td>0</td>\n",
       "      <td>0</td>\n",
       "      <td>31.250000</td>\n",
       "    </tr>\n",
       "    <tr>\n",
       "      <th>490</th>\n",
       "      <td>Foster Brothers Farms Digester</td>\n",
       "      <td>Farm Scale</td>\n",
       "      <td>Middlebury</td>\n",
       "      <td>Addison</td>\n",
       "      <td>VT</td>\n",
       "      <td>Horizontal Plug Flow</td>\n",
       "      <td>Shut down</td>\n",
       "      <td>1982.0</td>\n",
       "      <td>Dairy</td>\n",
       "      <td>0</td>\n",
       "      <td>...</td>\n",
       "      <td>0</td>\n",
       "      <td>0</td>\n",
       "      <td>37500</td>\n",
       "      <td>480000</td>\n",
       "      <td>Electricity; Cogeneration</td>\n",
       "      <td>Hadley and Bennett [System Designer, System De...</td>\n",
       "      <td>0</td>\n",
       "      <td>0</td>\n",
       "      <td>0</td>\n",
       "      <td>98.684211</td>\n",
       "    </tr>\n",
       "    <tr>\n",
       "      <th>491</th>\n",
       "      <td>Joneslan Farm Digester</td>\n",
       "      <td>Farm Scale</td>\n",
       "      <td>Hyde Park</td>\n",
       "      <td>Lamoille</td>\n",
       "      <td>VT</td>\n",
       "      <td>Complete Mix</td>\n",
       "      <td>Shut down</td>\n",
       "      <td>2012.0</td>\n",
       "      <td>Dairy</td>\n",
       "      <td>0</td>\n",
       "      <td>...</td>\n",
       "      <td>0</td>\n",
       "      <td>0</td>\n",
       "      <td>33450</td>\n",
       "      <td>223380</td>\n",
       "      <td>Cogeneration</td>\n",
       "      <td>UEM Group [System Designer, System Design Engi...</td>\n",
       "      <td>Vermont Electric Cooperative</td>\n",
       "      <td>0</td>\n",
       "      <td>0</td>\n",
       "      <td>95.571429</td>\n",
       "    </tr>\n",
       "    <tr>\n",
       "      <th>492</th>\n",
       "      <td>Keewaydin Farm Digester</td>\n",
       "      <td>Farm Scale</td>\n",
       "      <td>Stowe</td>\n",
       "      <td>Lamoille</td>\n",
       "      <td>VT</td>\n",
       "      <td>Modular Plug Flow</td>\n",
       "      <td>Shut down</td>\n",
       "      <td>2011.0</td>\n",
       "      <td>Dairy</td>\n",
       "      <td>0</td>\n",
       "      <td>...</td>\n",
       "      <td>0</td>\n",
       "      <td>0</td>\n",
       "      <td>5000</td>\n",
       "      <td>87600</td>\n",
       "      <td>Cogeneration</td>\n",
       "      <td>Avatar Energy [Project Developer, System Desig...</td>\n",
       "      <td>Stowe Electric</td>\n",
       "      <td>0</td>\n",
       "      <td>0</td>\n",
       "      <td>41.666667</td>\n",
       "    </tr>\n",
       "    <tr>\n",
       "      <th>504</th>\n",
       "      <td>Tinedale Farms Digester</td>\n",
       "      <td>Farm Scale</td>\n",
       "      <td>Wrightstown</td>\n",
       "      <td>Jackson</td>\n",
       "      <td>WI</td>\n",
       "      <td>Fixed Film/Attached Media</td>\n",
       "      <td>Shut down</td>\n",
       "      <td>1999.0</td>\n",
       "      <td>Dairy</td>\n",
       "      <td>0</td>\n",
       "      <td>...</td>\n",
       "      <td>0</td>\n",
       "      <td>0</td>\n",
       "      <td>200000</td>\n",
       "      <td>5584500</td>\n",
       "      <td>Electricity; Boiler/Furnace fuel</td>\n",
       "      <td>AGES [Project Developer, System Designer, Syst...</td>\n",
       "      <td>0</td>\n",
       "      <td>0</td>\n",
       "      <td>0</td>\n",
       "      <td>111.111111</td>\n",
       "    </tr>\n",
       "  </tbody>\n",
       "</table>\n",
       "<p>67 rows × 22 columns</p>\n",
       "</div>"
      ],
      "text/plain": [
       "                               Project Name            Project Type  \\\n",
       "7        ABEC Bidart-Old River LLC Digester              Farm Scale   \n",
       "8        ABEC Bidart-Stockdale LLC Digester              Farm Scale   \n",
       "9    ABEC Carlos Echeverria & Sons Digester              Farm Scale   \n",
       "10       ABEC Lakeview Farms Dairy Digester  Multiple Farm/Facility   \n",
       "27        Castelanelli Bros. Dairy Digester              Farm Scale   \n",
       "..                                      ...                     ...   \n",
       "489                     Foote Farm Digester                Research   \n",
       "490          Foster Brothers Farms Digester              Farm Scale   \n",
       "491                  Joneslan Farm Digester              Farm Scale   \n",
       "492                 Keewaydin Farm Digester              Farm Scale   \n",
       "504                 Tinedale Farms Digester              Farm Scale   \n",
       "\n",
       "            City       County State              Digester Type       Status  \\\n",
       "7    Bakersfield         Kern    CA             Covered Lagoon  Operational   \n",
       "8    Bakersfield         Kern    CA             Covered Lagoon  Operational   \n",
       "9    Bakersfield         Kern    CA             Covered Lagoon  Operational   \n",
       "10   Bakersfield         Kern    CA             Covered Lagoon  Operational   \n",
       "27          Lodi  San Joaquin    CA             Covered Lagoon  Operational   \n",
       "..           ...          ...   ...                        ...          ...   \n",
       "489    Charlotte   Chittenden    VT          Modular Plug Flow    Shut down   \n",
       "490   Middlebury      Addison    VT       Horizontal Plug Flow    Shut down   \n",
       "491    Hyde Park     Lamoille    VT               Complete Mix    Shut down   \n",
       "492        Stowe     Lamoille    VT          Modular Plug Flow    Shut down   \n",
       "504  Wrightstown      Jackson    WI  Fixed Film/Attached Media    Shut down   \n",
       "\n",
       "     Year Operational Animal Cattle  ...  Swine Codigestion  \\\n",
       "7              2013.0  Dairy      0  ...      0           0   \n",
       "8              2013.0  Dairy      0  ...      0           0   \n",
       "9              2018.0  Dairy      0  ...      0           0   \n",
       "10             2018.0  Dairy      0  ...      0           0   \n",
       "27             2004.0  Dairy      0  ...      0           0   \n",
       "..                ...    ...    ...  ...    ...         ...   \n",
       "489            2005.0  Dairy      0  ...      0           0   \n",
       "490            1982.0  Dairy      0  ...      0           0   \n",
       "491            2012.0  Dairy      0  ...      0           0   \n",
       "492            2011.0  Dairy      0  ...      0           0   \n",
       "504            1999.0  Dairy      0  ...      0           0   \n",
       "\n",
       "     Biogas_gen_ft3_day  Electricity Generated (kWh/yr)   \\\n",
       "7                600000                         16206000   \n",
       "8                 50000                          4204800   \n",
       "9                270000                          7600000   \n",
       "10               360000                          6700000   \n",
       "27                89148                          2233800   \n",
       "..                  ...                              ...   \n",
       "489                5000                           148920   \n",
       "490               37500                           480000   \n",
       "491               33450                           223380   \n",
       "492                5000                            87600   \n",
       "504              200000                          5584500   \n",
       "\n",
       "                       Biogas_End_Use  \\\n",
       "7                         Electricity   \n",
       "8                         Electricity   \n",
       "9         Cogeneration; Refrigeration   \n",
       "10                   Electricity; CNG   \n",
       "27                        Electricity   \n",
       "..                                ...   \n",
       "489                      Cogeneration   \n",
       "490         Electricity; Cogeneration   \n",
       "491                      Cogeneration   \n",
       "492                      Cogeneration   \n",
       "504  Electricity; Boiler/Furnace fuel   \n",
       "\n",
       "        System Designer(s)_Developer(s) and Affiliates  \\\n",
       "7    4Creeks [System Designer, System Design Engine...   \n",
       "8    California Bioenergy LLC [Project Developer, S...   \n",
       "9    California Bioenergy LLC [Project Developer]; ...   \n",
       "10        California Bioenergy LLC [Project Developer]   \n",
       "27   Environmental Fabrics, Inc. [Biogas Membrane S...   \n",
       "..                                                 ...   \n",
       "489  Avatar Energy [Project Developer, System Desig...   \n",
       "490  Hadley and Bennett [System Designer, System De...   \n",
       "491  UEM Group [System Designer, System Design Engi...   \n",
       "492  Avatar Energy [Project Developer, System Desig...   \n",
       "504  AGES [Project Developer, System Designer, Syst...   \n",
       "\n",
       "                    Receiving Utility  Total Emission Reductions (MTCO2e/yr)   \\\n",
       "7                                PG&E                                 107,483   \n",
       "8                                PG&E                                  14,867   \n",
       "9                                   0                                  82,427   \n",
       "10   Pacific Gas and Electric Company                                  60,350   \n",
       "27   Pacific Gas and Electric Company                                  19,462   \n",
       "..                                ...                                     ...   \n",
       "489              Green Mountain Power                                       0   \n",
       "490                                 0                                       0   \n",
       "491      Vermont Electric Cooperative                                       0   \n",
       "492                    Stowe Electric                                       0   \n",
       "504                                 0                                       0   \n",
       "\n",
       "    Awarded USDA Funding? Biogas_ft3/cow  \n",
       "7                       0      38.709677  \n",
       "8                       0      29.411765  \n",
       "9                       0      27.835052  \n",
       "10                      0      51.428571  \n",
       "27                      Y      27.746032  \n",
       "..                    ...            ...  \n",
       "489                     0      31.250000  \n",
       "490                     0      98.684211  \n",
       "491                     0      95.571429  \n",
       "492                     0      41.666667  \n",
       "504                     0     111.111111  \n",
       "\n",
       "[67 rows x 22 columns]"
      ]
     },
     "execution_count": 18,
     "metadata": {},
     "output_type": "execute_result"
    }
   ],
   "source": [
    "df2"
   ]
  },
  {
   "cell_type": "markdown",
   "metadata": {},
   "source": [
    "# Data analysis for dairy- all digester types\n"
   ]
  },
  {
   "cell_type": "markdown",
   "metadata": {},
   "source": [
    "Dairy farms host the majority of manure-based anaerobic digesters, therefore they have the most/best data for anaerobic digesters. The majority of analysis completed is for dairy anaerobic digesters."
   ]
  },
  {
   "cell_type": "code",
   "execution_count": 19,
   "metadata": {},
   "outputs": [
    {
     "data": {
      "text/plain": [
       "<AxesSubplot:xlabel='Biogas_ft3/cow', ylabel='Count'>"
      ]
     },
     "execution_count": 19,
     "metadata": {},
     "output_type": "execute_result"
    },
    {
     "data": {
      "image/png": "[encoded data removed]",
      "text/plain": [
       "<Figure size 432x288 with 1 Axes>"
      ]
     },
     "metadata": {
      "needs_background": "light"
     },
     "output_type": "display_data"
    }
   ],
   "source": [
    "sns.histplot(data = df2['Biogas_ft3/cow'], x=df2['Biogas_ft3/cow'], bins = 20)"
   ]
  },
  {
   "cell_type": "code",
   "execution_count": 20,
   "metadata": {},
   "outputs": [
    {
     "data": {
      "text/plain": [
       "73.46391320833166"
      ]
     },
     "execution_count": 20,
     "metadata": {},
     "output_type": "execute_result"
    }
   ],
   "source": [
    "df2['Biogas_ft3/cow'].mean()"
   ]
  },
  {
   "cell_type": "code",
   "execution_count": 21,
   "metadata": {},
   "outputs": [],
   "source": [
    "ci95_df2 = hist_filter_ci(df2)"
   ]
  },
  {
   "cell_type": "code",
   "execution_count": 22,
   "metadata": {},
   "outputs": [
    {
     "data": {
      "text/plain": [
       "69.73673816020273"
      ]
     },
     "execution_count": 22,
     "metadata": {},
     "output_type": "execute_result"
    }
   ],
   "source": [
    "ci95_df2['Biogas_ft3/cow'].mean()"
   ]
  },
  {
   "cell_type": "markdown",
   "metadata": {},
   "source": [
    "NOTE: Any \"efficiency\" calculation, outputs a value with units %"
   ]
  },
  {
   "cell_type": "code",
   "execution_count": 23,
   "metadata": {},
   "outputs": [
    {
     "data": {
      "text/plain": [
       "68.8173385176075"
      ]
     },
     "execution_count": 23,
     "metadata": {},
     "output_type": "execute_result"
    }
   ],
   "source": [
    "efficiency(ci95_df2['Biogas_ft3/cow'].mean())"
   ]
  },
  {
   "cell_type": "code",
   "execution_count": 24,
   "metadata": {},
   "outputs": [],
   "source": [
    "ci68_df2  = hist_filter_ci_68(df2)"
   ]
  },
  {
   "cell_type": "code",
   "execution_count": 25,
   "metadata": {},
   "outputs": [
    {
     "data": {
      "text/plain": [
       "65.78025898722731"
      ]
     },
     "execution_count": 25,
     "metadata": {},
     "output_type": "execute_result"
    }
   ],
   "source": [
    "efficiency(ci68_df2['Biogas_ft3/cow'].mean())"
   ]
  },
  {
   "cell_type": "code",
   "execution_count": 26,
   "metadata": {},
   "outputs": [],
   "source": [
    "dairy_biogas = pd.DataFrame(df2,columns=['Dairy', \"Biogas_gen_ft3_day\"])"
   ]
  },
  {
   "cell_type": "markdown",
   "metadata": {},
   "source": [
    "A regression analysis and a 95% confident regression analysis (using  \"[0.025 and 0.0975]\" OLS Regression Result output) were completed for each digester type. Later, I realized this analysis isn't necessarily helpful for the goal of this particular task. Nonetheless, I left all regressions in this notebook."
   ]
  },
  {
   "cell_type": "code",
   "execution_count": 27,
   "metadata": {},
   "outputs": [
    {
     "name": "stdout",
     "output_type": "stream",
     "text": [
      "                            OLS Regression Results                            \n",
      "==============================================================================\n",
      "Dep. Variable:     Biogas_gen_ft3_day   R-squared:                       0.635\n",
      "Model:                            OLS   Adj. R-squared:                  0.629\n",
      "Method:                 Least Squares   F-statistic:                     112.9\n",
      "Date:                Sun, 30 Apr 2023   Prob (F-statistic):           7.61e-16\n",
      "Time:                        16:13:07   Log-Likelihood:                -905.81\n",
      "No. Observations:                  67   AIC:                             1816.\n",
      "Df Residuals:                      65   BIC:                             1820.\n",
      "Df Model:                           1                                         \n",
      "Covariance Type:            nonrobust                                         \n",
      "==============================================================================\n",
      "                 coef    std err          t      P>|t|      [0.025      0.975]\n",
      "------------------------------------------------------------------------------\n",
      "Intercept   3584.7491   2.89e+04      0.124      0.902   -5.42e+04    6.14e+04\n",
      "Dairy         76.7459      7.224     10.623      0.000      62.318      91.174\n",
      "==============================================================================\n",
      "Omnibus:                       21.108   Durbin-Watson:                   0.994\n",
      "Prob(Omnibus):                  0.000   Jarque-Bera (JB):               66.645\n",
      "Skew:                           0.791   Prob(JB):                     3.37e-15\n",
      "Kurtosis:                       7.623   Cond. No.                     5.20e+03\n",
      "==============================================================================\n",
      "\n",
      "Notes:\n",
      "[1] Standard Errors assume that the covariance matrix of the errors is correctly specified.\n",
      "[2] The condition number is large, 5.2e+03. This might indicate that there are\n",
      "strong multicollinearity or other numerical problems.\n"
     ]
    }
   ],
   "source": [
    "dairy_biogas2 = smf.ols(formula='Biogas_gen_ft3_day ~ Dairy', data=dairy_biogas).fit()\n",
    "\n",
    "print(dairy_biogas2.summary())\n"
   ]
  },
  {
   "cell_type": "code",
   "execution_count": 28,
   "metadata": {},
   "outputs": [
    {
     "name": "stderr",
     "output_type": "stream",
     "text": [
      "C:\\ProgramData\\Anaconda3\\lib\\site-packages\\seaborn\\_decorators.py:36: FutureWarning: Pass the following variables as keyword args: x, y. From version 0.12, the only valid positional argument will be `data`, and passing other arguments without an explicit keyword will result in an error or misinterpretation.\n",
      "  warnings.warn(\n"
     ]
    },
    {
     "data": {
      "text/plain": [
       "<AxesSubplot:xlabel='Dairy', ylabel='Biogas_gen_ft3_day'>"
      ]
     },
     "execution_count": 28,
     "metadata": {},
     "output_type": "execute_result"
    },
    {
     "data": {
      "image/png": "[encoded data removed]",
      "text/plain": [
       "<Figure size 432x288 with 1 Axes>"
      ]
     },
     "metadata": {
      "needs_background": "light"
     },
     "output_type": "display_data"
    }
   ],
   "source": [
    "sns.regplot('Dairy', 'Biogas_gen_ft3_day', data=dairy_biogas, ci =95)"
   ]
  },
  {
   "cell_type": "code",
   "execution_count": 29,
   "metadata": {},
   "outputs": [
    {
     "name": "stderr",
     "output_type": "stream",
     "text": [
      "C:\\ProgramData\\Anaconda3\\lib\\site-packages\\seaborn\\_decorators.py:36: FutureWarning: Pass the following variables as keyword args: x, y. From version 0.12, the only valid positional argument will be `data`, and passing other arguments without an explicit keyword will result in an error or misinterpretation.\n",
      "  warnings.warn(\n"
     ]
    },
    {
     "data": {
      "text/plain": [
       "<function matplotlib.pyplot.show(close=None, block=None)>"
      ]
     },
     "execution_count": 29,
     "metadata": {},
     "output_type": "execute_result"
    },
    {
     "data": {
      "image/png": "[encoded data removed]",
      "text/plain": [
       "<Figure size 432x288 with 1 Axes>"
      ]
     },
     "metadata": {
      "needs_background": "light"
     },
     "output_type": "display_data"
    }
   ],
   "source": [
    "sns.regplot('Dairy', 'Biogas_gen_ft3_day', data=dairy_biogas, ci = 95)\n",
    "\n",
    "Y_upper_dairy_biogas = dairy_biogas['Dairy']*91.174+.000614\n",
    "Y_lower_dairy_biogas = dairy_biogas['Dairy']*62.318-.000542\n",
    "\n",
    "plt.scatter(dairy_biogas['Dairy'], dairy_biogas['Biogas_gen_ft3_day'])\n",
    "plt.scatter(dairy_biogas['Dairy'], Y_upper_dairy_biogas, color = 'red')\n",
    "plt.scatter(dairy_biogas['Dairy'], Y_lower_dairy_biogas, color = 'red')\n",
    "\n",
    "plt.show"
   ]
  },
  {
   "cell_type": "code",
   "execution_count": 30,
   "metadata": {},
   "outputs": [],
   "source": [
    "def filter_confidence_interval(data):\n",
    "    Y_upper = data['Dairy']*91.174+.000614\n",
    "    Y_lower = data['Dairy']*62.318-.000542\n",
    "    filtered_data = data[(data['Biogas_gen_ft3_day'] >= Y_lower) & (data['Biogas_gen_ft3_day'] <= Y_upper)]\n",
    "    return filtered_data\n"
   ]
  },
  {
   "cell_type": "code",
   "execution_count": 31,
   "metadata": {},
   "outputs": [],
   "source": [
    "ci95dairy_biogas = filter_confidence_interval(dairy_biogas)"
   ]
  },
  {
   "cell_type": "code",
   "execution_count": 32,
   "metadata": {},
   "outputs": [
    {
     "data": {
      "text/plain": [
       "<matplotlib.collections.PathCollection at 0x1b864e16f40>"
      ]
     },
     "execution_count": 32,
     "metadata": {},
     "output_type": "execute_result"
    },
    {
     "data": {
      "image/png": "[encoded data removed]",
      "text/plain": [
       "<Figure size 432x288 with 1 Axes>"
      ]
     },
     "metadata": {
      "needs_background": "light"
     },
     "output_type": "display_data"
    }
   ],
   "source": [
    "plt.scatter(ci95dairy_biogas['Dairy'], ci95dairy_biogas['Biogas_gen_ft3_day'])"
   ]
  },
  {
   "cell_type": "code",
   "execution_count": 33,
   "metadata": {},
   "outputs": [
    {
     "name": "stdout",
     "output_type": "stream",
     "text": [
      "                            OLS Regression Results                            \n",
      "==============================================================================\n",
      "Dep. Variable:     Biogas_gen_ft3_day   R-squared:                       0.972\n",
      "Model:                            OLS   Adj. R-squared:                  0.970\n",
      "Method:                 Least Squares   F-statistic:                     518.7\n",
      "Date:                Sun, 30 Apr 2023   Prob (F-statistic):           4.77e-13\n",
      "Time:                        16:13:08   Log-Likelihood:                -199.71\n",
      "No. Observations:                  17   AIC:                             403.4\n",
      "Df Residuals:                      15   BIC:                             405.1\n",
      "Df Model:                           1                                         \n",
      "Covariance Type:            nonrobust                                         \n",
      "==============================================================================\n",
      "                 coef    std err          t      P>|t|      [0.025      0.975]\n",
      "------------------------------------------------------------------------------\n",
      "Intercept  -3956.9715   1.04e+04     -0.381      0.708   -2.61e+04    1.82e+04\n",
      "Dairy         77.0919      3.385     22.775      0.000      69.877      84.307\n",
      "==============================================================================\n",
      "Omnibus:                       12.189   Durbin-Watson:                   2.069\n",
      "Prob(Omnibus):                  0.002   Jarque-Bera (JB):               15.570\n",
      "Skew:                           0.786   Prob(JB):                     0.000416\n",
      "Kurtosis:                       7.417   Cond. No.                     4.03e+03\n",
      "==============================================================================\n",
      "\n",
      "Notes:\n",
      "[1] Standard Errors assume that the covariance matrix of the errors is correctly specified.\n",
      "[2] The condition number is large, 4.03e+03. This might indicate that there are\n",
      "strong multicollinearity or other numerical problems.\n"
     ]
    },
    {
     "name": "stderr",
     "output_type": "stream",
     "text": [
      "C:\\ProgramData\\Anaconda3\\lib\\site-packages\\scipy\\stats\\stats.py:1541: UserWarning: kurtosistest only valid for n>=20 ... continuing anyway, n=17\n",
      "  warnings.warn(\"kurtosistest only valid for n>=20 ... continuing \"\n"
     ]
    }
   ],
   "source": [
    "dairy_biogas3 = smf.ols(formula='Biogas_gen_ft3_day ~ Dairy', data=ci95dairy_biogas).fit()\n",
    "\n",
    "print(dairy_biogas3.summary())"
   ]
  },
  {
   "cell_type": "markdown",
   "metadata": {},
   "source": [
    "# Plug flow digester type analysis for dairy"
   ]
  },
  {
   "cell_type": "code",
   "execution_count": 34,
   "metadata": {},
   "outputs": [],
   "source": [
    "#Creating dairy plug flow biogas generation\n",
    "\n",
    "df3 = df.rename(columns={\"Animal/Farm Type(s)\" : \"Animal\", \"Co-Digestion\" : \"Codigestion\", \"Biogas End Use(s)\" : \"Biogas_End_Use\", \" Biogas Generation Estimate (cu_ft/day) \" : \"Biogas_gen_ft3_day\"})"
   ]
  },
  {
   "cell_type": "code",
   "execution_count": 35,
   "metadata": {},
   "outputs": [
    {
     "data": {
      "text/plain": [
       "array(['Covered Lagoon', 'Mixed Plug Flow', 'Unknown or Unspecified',\n",
       "       'Complete Mix', 'Horizontal Plug Flow', 0,\n",
       "       'Fixed Film/Attached Media',\n",
       "       'Primary digester tank with secondary covered lagoon',\n",
       "       'Induced Blanket Reactor', 'Anaerobic Sequencing Batch Reactor',\n",
       "       'Vertical Plug Flow', 'Complete Mix Mini Digester',\n",
       "       'Plug Flow - Unspecified', 'Dry Digester', 'Modular Plug Flow',\n",
       "       'Microdigester'], dtype=object)"
      ]
     },
     "execution_count": 35,
     "metadata": {},
     "output_type": "execute_result"
    }
   ],
   "source": [
    "df3['Digester Type'].unique()"
   ]
  },
  {
   "cell_type": "code",
   "execution_count": 36,
   "metadata": {},
   "outputs": [],
   "source": [
    "df3.drop(df3[(df3['Animal'] != 'Dairy')].index, inplace = True)\n",
    "df3.drop(df3[(df3['Codigestion'] != 0)].index, inplace = True)\n",
    "df3.drop(df3[(df3['Biogas_gen_ft3_day'] == 0)].index, inplace = True)\n",
    "df3['Biogas_ft3/cow'] = df3['Biogas_gen_ft3_day'] / df3['Dairy']\n",
    "\n",
    "#df3.drop(df3[(df3['Biogas_End_Use'] == 0)].index, inplace = True)\n",
    "\n",
    "#selecting for 'Vertical Plug Flow', 'Horizontal Plug Flow', and 'Plug Flow - Unspecified', 'Modular Plug Flow', 'Mixed Plug FLow'\n",
    "\n",
    "notwant = ['Covered Lagoon', 'Unknown or Unspecified',\n",
    "       'Complete Mix', 0,\n",
    "       'Fixed Film/Attached Media',\n",
    "       'Primary digester tank with secondary covered lagoon',\n",
    "       'Induced Blanket Reactor', 'Anaerobic Sequencing Batch Reactor', 'Complete Mix Mini Digester', 'Dry Digester', \n",
    "       'Microdigester']\n",
    "\n",
    "df3 = df3[~df3['Digester Type'].isin(notwant)]"
   ]
  },
  {
   "cell_type": "code",
   "execution_count": 37,
   "metadata": {},
   "outputs": [
    {
     "data": {
      "text/plain": [
       "<AxesSubplot:xlabel='Biogas_ft3/cow', ylabel='Count'>"
      ]
     },
     "execution_count": 37,
     "metadata": {},
     "output_type": "execute_result"
    },
    {
     "data": {
      "image/png": "[encoded data removed]",
      "text/plain": [
       "<Figure size 432x288 with 1 Axes>"
      ]
     },
     "metadata": {
      "needs_background": "light"
     },
     "output_type": "display_data"
    }
   ],
   "source": [
    "sns.histplot(data = df3['Biogas_ft3/cow'], bins = 20)"
   ]
  },
  {
   "cell_type": "code",
   "execution_count": 38,
   "metadata": {},
   "outputs": [],
   "source": [
    "ci95_df3 = hist_filter_ci(df3)"
   ]
  },
  {
   "cell_type": "code",
   "execution_count": 39,
   "metadata": {},
   "outputs": [
    {
     "data": {
      "text/plain": [
       "74.73078118792917"
      ]
     },
     "execution_count": 39,
     "metadata": {},
     "output_type": "execute_result"
    }
   ],
   "source": [
    "ci95_df3['Biogas_ft3/cow'].mean()"
   ]
  },
  {
   "cell_type": "code",
   "execution_count": 40,
   "metadata": {},
   "outputs": [
    {
     "data": {
      "text/plain": [
       "73.74554076333106"
      ]
     },
     "execution_count": 40,
     "metadata": {},
     "output_type": "execute_result"
    }
   ],
   "source": [
    "efficiency(ci95_df3['Biogas_ft3/cow'].mean())"
   ]
  },
  {
   "cell_type": "code",
   "execution_count": 41,
   "metadata": {},
   "outputs": [
    {
     "data": {
      "text/plain": [
       "71.27049895301684"
      ]
     },
     "execution_count": 41,
     "metadata": {},
     "output_type": "execute_result"
    }
   ],
   "source": [
    "ci68_df3  = hist_filter_ci_68(df3)\n",
    "efficiency(ci68_df3['Biogas_ft3/cow'].mean())"
   ]
  },
  {
   "cell_type": "code",
   "execution_count": 42,
   "metadata": {},
   "outputs": [
    {
     "data": {
      "text/plain": [
       "(32, 22)"
      ]
     },
     "execution_count": 42,
     "metadata": {},
     "output_type": "execute_result"
    }
   ],
   "source": [
    "df3.shape"
   ]
  },
  {
   "cell_type": "code",
   "execution_count": 43,
   "metadata": {},
   "outputs": [],
   "source": [
    "dairy_plugflow = pd.DataFrame(df3,columns=['Dairy', \"Biogas_gen_ft3_day\"])"
   ]
  },
  {
   "cell_type": "code",
   "execution_count": 44,
   "metadata": {},
   "outputs": [
    {
     "name": "stdout",
     "output_type": "stream",
     "text": [
      "                            OLS Regression Results                            \n",
      "==============================================================================\n",
      "Dep. Variable:     Biogas_gen_ft3_day   R-squared:                       0.779\n",
      "Model:                            OLS   Adj. R-squared:                  0.771\n",
      "Method:                 Least Squares   F-statistic:                     105.5\n",
      "Date:                Sun, 30 Apr 2023   Prob (F-statistic):           2.44e-11\n",
      "Time:                        16:13:09   Log-Likelihood:                -416.89\n",
      "No. Observations:                  32   AIC:                             837.8\n",
      "Df Residuals:                      30   BIC:                             840.7\n",
      "Df Model:                           1                                         \n",
      "Covariance Type:            nonrobust                                         \n",
      "==============================================================================\n",
      "                 coef    std err          t      P>|t|      [0.025      0.975]\n",
      "------------------------------------------------------------------------------\n",
      "Intercept   -1.38e+04   2.56e+04     -0.538      0.594   -6.61e+04    3.85e+04\n",
      "Dairy         98.8009      9.619     10.271      0.000      79.156     118.445\n",
      "==============================================================================\n",
      "Omnibus:                       43.234   Durbin-Watson:                   1.930\n",
      "Prob(Omnibus):                  0.000   Jarque-Bera (JB):              225.237\n",
      "Skew:                           2.648   Prob(JB):                     1.23e-49\n",
      "Kurtosis:                      14.869   Cond. No.                     3.40e+03\n",
      "==============================================================================\n",
      "\n",
      "Notes:\n",
      "[1] Standard Errors assume that the covariance matrix of the errors is correctly specified.\n",
      "[2] The condition number is large, 3.4e+03. This might indicate that there are\n",
      "strong multicollinearity or other numerical problems.\n"
     ]
    },
    {
     "name": "stderr",
     "output_type": "stream",
     "text": [
      "C:\\ProgramData\\Anaconda3\\lib\\site-packages\\seaborn\\_decorators.py:36: FutureWarning: Pass the following variables as keyword args: x, y. From version 0.12, the only valid positional argument will be `data`, and passing other arguments without an explicit keyword will result in an error or misinterpretation.\n",
      "  warnings.warn(\n"
     ]
    },
    {
     "data": {
      "image/png": "[encoded data removed]",
      "text/plain": [
       "<Figure size 432x288 with 1 Axes>"
      ]
     },
     "metadata": {
      "needs_background": "light"
     },
     "output_type": "display_data"
    }
   ],
   "source": [
    "sns.regplot('Dairy', 'Biogas_gen_ft3_day', data=dairy_plugflow, ci = 95)\n",
    "dairy_plugsum = smf.ols(formula='Biogas_gen_ft3_day ~ Dairy', data=dairy_plugflow).fit()\n",
    "print(dairy_plugsum.summary())"
   ]
  },
  {
   "cell_type": "code",
   "execution_count": 45,
   "metadata": {},
   "outputs": [
    {
     "name": "stderr",
     "output_type": "stream",
     "text": [
      "C:\\ProgramData\\Anaconda3\\lib\\site-packages\\seaborn\\_decorators.py:36: FutureWarning: Pass the following variables as keyword args: x, y. From version 0.12, the only valid positional argument will be `data`, and passing other arguments without an explicit keyword will result in an error or misinterpretation.\n",
      "  warnings.warn(\n"
     ]
    },
    {
     "data": {
      "text/plain": [
       "<function matplotlib.pyplot.show(close=None, block=None)>"
      ]
     },
     "execution_count": 45,
     "metadata": {},
     "output_type": "execute_result"
    },
    {
     "data": {
      "image/png": "[encoded data removed]",
      "text/plain": [
       "<Figure size 432x288 with 1 Axes>"
      ]
     },
     "metadata": {
      "needs_background": "light"
     },
     "output_type": "display_data"
    }
   ],
   "source": [
    "sns.regplot('Dairy', 'Biogas_gen_ft3_day', data=dairy_plugflow, ci = 95)\n",
    "\n",
    "Y_upper_dairy_biogas_pf = dairy_plugflow['Dairy']*118.445+.000385\n",
    "Y_lower_dairy_biogas_pf = dairy_plugflow['Dairy']*79.156-.000661\n",
    "\n",
    "plt.scatter(dairy_plugflow['Dairy'], dairy_plugflow['Biogas_gen_ft3_day'])\n",
    "plt.scatter(dairy_plugflow['Dairy'], Y_upper_dairy_biogas_pf, color = 'red')\n",
    "plt.scatter(dairy_plugflow['Dairy'], Y_lower_dairy_biogas_pf, color = 'red')\n",
    "\n",
    "plt.show"
   ]
  },
  {
   "cell_type": "code",
   "execution_count": 46,
   "metadata": {},
   "outputs": [],
   "source": [
    "def filter_confidence_interval_pf(data):\n",
    "    Y_upper = data['Dairy']*118.445+.000385\n",
    "    Y_lower = data['Dairy']*79.156-.000661\n",
    "    filtered_data = data[(data['Biogas_gen_ft3_day'] >= Y_lower) & (data['Biogas_gen_ft3_day'] <= Y_upper)]\n",
    "    return filtered_data"
   ]
  },
  {
   "cell_type": "code",
   "execution_count": 47,
   "metadata": {},
   "outputs": [],
   "source": [
    "ci95dairy_biogas_pf = filter_confidence_interval_pf(dairy_plugflow)"
   ]
  },
  {
   "cell_type": "code",
   "execution_count": 48,
   "metadata": {},
   "outputs": [
    {
     "data": {
      "text/plain": [
       "<matplotlib.collections.PathCollection at 0x1b8650d0bb0>"
      ]
     },
     "execution_count": 48,
     "metadata": {},
     "output_type": "execute_result"
    },
    {
     "data": {
      "image/png": "[encoded data removed]",
      "text/plain": [
       "<Figure size 432x288 with 1 Axes>"
      ]
     },
     "metadata": {
      "needs_background": "light"
     },
     "output_type": "display_data"
    }
   ],
   "source": [
    "plt.scatter(ci95dairy_biogas_pf['Dairy'], ci95dairy_biogas_pf['Biogas_gen_ft3_day'])"
   ]
  },
  {
   "cell_type": "code",
   "execution_count": 49,
   "metadata": {},
   "outputs": [
    {
     "name": "stdout",
     "output_type": "stream",
     "text": [
      "                            OLS Regression Results                            \n",
      "==============================================================================\n",
      "Dep. Variable:     Biogas_gen_ft3_day   R-squared:                       0.997\n",
      "Model:                            OLS   Adj. R-squared:                  0.996\n",
      "Method:                 Least Squares   F-statistic:                     2254.\n",
      "Date:                Sun, 30 Apr 2023   Prob (F-statistic):           4.81e-10\n",
      "Time:                        16:13:09   Log-Likelihood:                -101.65\n",
      "No. Observations:                   9   AIC:                             207.3\n",
      "Df Residuals:                       7   BIC:                             207.7\n",
      "Df Model:                           1                                         \n",
      "Covariance Type:            nonrobust                                         \n",
      "==============================================================================\n",
      "                 coef    std err          t      P>|t|      [0.025      0.975]\n",
      "------------------------------------------------------------------------------\n",
      "Intercept  -7558.4626   8961.461     -0.843      0.427   -2.87e+04    1.36e+04\n",
      "Dairy        100.0387      2.107     47.475      0.000      95.056     105.021\n",
      "==============================================================================\n",
      "Omnibus:                       14.777   Durbin-Watson:                   3.114\n",
      "Prob(Omnibus):                  0.001   Jarque-Bera (JB):                6.502\n",
      "Skew:                          -1.746   Prob(JB):                       0.0387\n",
      "Kurtosis:                       5.268   Cond. No.                     5.19e+03\n",
      "==============================================================================\n",
      "\n",
      "Notes:\n",
      "[1] Standard Errors assume that the covariance matrix of the errors is correctly specified.\n",
      "[2] The condition number is large, 5.19e+03. This might indicate that there are\n",
      "strong multicollinearity or other numerical problems.\n"
     ]
    },
    {
     "name": "stderr",
     "output_type": "stream",
     "text": [
      "C:\\ProgramData\\Anaconda3\\lib\\site-packages\\scipy\\stats\\stats.py:1541: UserWarning: kurtosistest only valid for n>=20 ... continuing anyway, n=9\n",
      "  warnings.warn(\"kurtosistest only valid for n>=20 ... continuing \"\n"
     ]
    }
   ],
   "source": [
    "dairy_biogas4 = smf.ols(formula='Biogas_gen_ft3_day ~ Dairy', data=ci95dairy_biogas_pf).fit()\n",
    "\n",
    "print(dairy_biogas4.summary())"
   ]
  },
  {
   "cell_type": "markdown",
   "metadata": {},
   "source": [
    "# Complete mix digester type analysis for dairy"
   ]
  },
  {
   "cell_type": "code",
   "execution_count": 50,
   "metadata": {},
   "outputs": [],
   "source": [
    "df4 = df.rename(columns={\"Animal/Farm Type(s)\" : \"Animal\", \"Co-Digestion\" : \"Codigestion\", \"Biogas End Use(s)\" : \"Biogas_End_Use\", \" Biogas Generation Estimate (cu_ft/day) \" : \"Biogas_gen_ft3_day\"})"
   ]
  },
  {
   "cell_type": "code",
   "execution_count": 51,
   "metadata": {},
   "outputs": [
    {
     "data": {
      "text/plain": [
       "array(['Covered Lagoon', 'Mixed Plug Flow', 'Unknown or Unspecified',\n",
       "       'Complete Mix', 'Horizontal Plug Flow', 0,\n",
       "       'Fixed Film/Attached Media',\n",
       "       'Primary digester tank with secondary covered lagoon',\n",
       "       'Induced Blanket Reactor', 'Anaerobic Sequencing Batch Reactor',\n",
       "       'Vertical Plug Flow', 'Complete Mix Mini Digester',\n",
       "       'Plug Flow - Unspecified', 'Dry Digester', 'Modular Plug Flow',\n",
       "       'Microdigester'], dtype=object)"
      ]
     },
     "execution_count": 51,
     "metadata": {},
     "output_type": "execute_result"
    }
   ],
   "source": [
    "df4['Digester Type'].unique()"
   ]
  },
  {
   "cell_type": "code",
   "execution_count": 52,
   "metadata": {},
   "outputs": [],
   "source": [
    "df4.drop(df4[(df4['Animal'] != 'Dairy')].index, inplace = True)\n",
    "df4.drop(df4[(df4['Codigestion'] != 0)].index, inplace = True)\n",
    "df4.drop(df4[(df4['Biogas_gen_ft3_day'] == 0)].index, inplace = True)\n",
    "df4['Biogas_ft3/cow'] = df4['Biogas_gen_ft3_day'] / df4['Dairy']\n",
    "\n",
    "\n",
    "#df4.drop(df4[(df4['Biogas_End_Use'] == 0)].index, inplace = True)\n",
    "\n",
    "#selecting for 'Complete Mix', 'Complete Mix Mini Digester'\n",
    "\n",
    "notwant = ['Covered Lagoon', 'Mixed Plug Flow', 'Unknown or Unspecified', 'Horizontal Plug Flow', 0,\n",
    "       'Fixed Film/Attached Media',\n",
    "       'Primary digester tank with secondary covered lagoon',\n",
    "       'Induced Blanket Reactor', 'Anaerobic Sequencing Batch Reactor',\n",
    "       'Vertical Plug Flow','Plug Flow - Unspecified', 'Dry Digester', 'Modular Plug Flow',\n",
    "       'Microdigester']\n",
    "\n",
    "df4 = df4[~df4['Digester Type'].isin(notwant)]"
   ]
  },
  {
   "cell_type": "code",
   "execution_count": 53,
   "metadata": {},
   "outputs": [
    {
     "data": {
      "text/plain": [
       "(14, 22)"
      ]
     },
     "execution_count": 53,
     "metadata": {},
     "output_type": "execute_result"
    }
   ],
   "source": [
    "df4.shape"
   ]
  },
  {
   "cell_type": "code",
   "execution_count": 54,
   "metadata": {},
   "outputs": [
    {
     "data": {
      "text/plain": [
       "<AxesSubplot:xlabel='Biogas_ft3/cow', ylabel='Count'>"
      ]
     },
     "execution_count": 54,
     "metadata": {},
     "output_type": "execute_result"
    },
    {
     "data": {
      "image/png": "[encoded data removed]",
      "text/plain": [
       "<Figure size 432x288 with 1 Axes>"
      ]
     },
     "metadata": {
      "needs_background": "light"
     },
     "output_type": "display_data"
    }
   ],
   "source": [
    "sns.histplot(data = df4['Biogas_ft3/cow'], bins = 20)"
   ]
  },
  {
   "cell_type": "code",
   "execution_count": 55,
   "metadata": {},
   "outputs": [
    {
     "data": {
      "text/plain": [
       "87.083266948478"
      ]
     },
     "execution_count": 55,
     "metadata": {},
     "output_type": "execute_result"
    }
   ],
   "source": [
    "ci95_df4 = hist_filter_ci(df4)\n",
    "\n",
    "ci95_df4['Biogas_ft3/cow'].mean()"
   ]
  },
  {
   "cell_type": "code",
   "execution_count": 56,
   "metadata": {},
   "outputs": [
    {
     "data": {
      "text/plain": [
       "85.9351730367076"
      ]
     },
     "execution_count": 56,
     "metadata": {},
     "output_type": "execute_result"
    }
   ],
   "source": [
    "efficiency(ci95_df4['Biogas_ft3/cow'].mean())"
   ]
  },
  {
   "cell_type": "code",
   "execution_count": 57,
   "metadata": {},
   "outputs": [
    {
     "data": {
      "text/plain": [
       "82.74672041445051"
      ]
     },
     "execution_count": 57,
     "metadata": {},
     "output_type": "execute_result"
    }
   ],
   "source": [
    "ci68_df4  = hist_filter_ci_68(df4)\n",
    "efficiency(ci68_df4['Biogas_ft3/cow'].mean())"
   ]
  },
  {
   "cell_type": "code",
   "execution_count": 58,
   "metadata": {},
   "outputs": [
    {
     "name": "stdout",
     "output_type": "stream",
     "text": [
      "                            OLS Regression Results                            \n",
      "==============================================================================\n",
      "Dep. Variable:     Biogas_gen_ft3_day   R-squared:                       0.835\n",
      "Model:                            OLS   Adj. R-squared:                  0.822\n",
      "Method:                 Least Squares   F-statistic:                     60.92\n",
      "Date:                Sun, 30 Apr 2023   Prob (F-statistic):           4.84e-06\n",
      "Time:                        16:13:10   Log-Likelihood:                -188.22\n",
      "No. Observations:                  14   AIC:                             380.4\n",
      "Df Residuals:                      12   BIC:                             381.7\n",
      "Df Model:                           1                                         \n",
      "Covariance Type:            nonrobust                                         \n",
      "==============================================================================\n",
      "                 coef    std err          t      P>|t|      [0.025      0.975]\n",
      "------------------------------------------------------------------------------\n",
      "Intercept  -3.866e+04   6.77e+04     -0.571      0.579   -1.86e+05    1.09e+05\n",
      "Dairy        115.0487     14.740      7.805      0.000      82.933     147.165\n",
      "==============================================================================\n",
      "Omnibus:                        1.294   Durbin-Watson:                   2.405\n",
      "Prob(Omnibus):                  0.524   Jarque-Bera (JB):                0.180\n",
      "Skew:                          -0.227   Prob(JB):                        0.914\n",
      "Kurtosis:                       3.320   Cond. No.                     6.46e+03\n",
      "==============================================================================\n",
      "\n",
      "Notes:\n",
      "[1] Standard Errors assume that the covariance matrix of the errors is correctly specified.\n",
      "[2] The condition number is large, 6.46e+03. This might indicate that there are\n",
      "strong multicollinearity or other numerical problems.\n"
     ]
    },
    {
     "name": "stderr",
     "output_type": "stream",
     "text": [
      "C:\\ProgramData\\Anaconda3\\lib\\site-packages\\seaborn\\_decorators.py:36: FutureWarning: Pass the following variables as keyword args: x, y. From version 0.12, the only valid positional argument will be `data`, and passing other arguments without an explicit keyword will result in an error or misinterpretation.\n",
      "  warnings.warn(\n",
      "C:\\ProgramData\\Anaconda3\\lib\\site-packages\\scipy\\stats\\stats.py:1541: UserWarning: kurtosistest only valid for n>=20 ... continuing anyway, n=14\n",
      "  warnings.warn(\"kurtosistest only valid for n>=20 ... continuing \"\n"
     ]
    },
    {
     "data": {
      "image/png": "[encoded data removed]",
      "text/plain": [
       "<Figure size 432x288 with 1 Axes>"
      ]
     },
     "metadata": {
      "needs_background": "light"
     },
     "output_type": "display_data"
    }
   ],
   "source": [
    "dairy_cm = pd.DataFrame(df4,columns=['Dairy', \"Biogas_gen_ft3_day\"])\n",
    "sns.regplot('Dairy', 'Biogas_gen_ft3_day', data=dairy_cm, ci = 95)\n",
    "dairy_plugsum = smf.ols(formula='Biogas_gen_ft3_day ~ Dairy', data=dairy_cm).fit()\n",
    "print(dairy_plugsum.summary())"
   ]
  },
  {
   "cell_type": "code",
   "execution_count": 59,
   "metadata": {},
   "outputs": [
    {
     "name": "stderr",
     "output_type": "stream",
     "text": [
      "C:\\ProgramData\\Anaconda3\\lib\\site-packages\\seaborn\\_decorators.py:36: FutureWarning: Pass the following variables as keyword args: x, y. From version 0.12, the only valid positional argument will be `data`, and passing other arguments without an explicit keyword will result in an error or misinterpretation.\n",
      "  warnings.warn(\n"
     ]
    },
    {
     "data": {
      "text/plain": [
       "<function matplotlib.pyplot.show(close=None, block=None)>"
      ]
     },
     "execution_count": 59,
     "metadata": {},
     "output_type": "execute_result"
    },
    {
     "data": {
      "image/png": "[encoded data removed]",
      "text/plain": [
       "<Figure size 432x288 with 1 Axes>"
      ]
     },
     "metadata": {
      "needs_background": "light"
     },
     "output_type": "display_data"
    }
   ],
   "source": [
    "sns.regplot('Dairy', 'Biogas_gen_ft3_day', data=dairy_cm, ci = 95)\n",
    "\n",
    "Y_upper_dairy_biogas_cm = dairy_cm['Dairy']*147.165+.00001\n",
    "Y_lower_dairy_biogas_cm = dairy_cm['Dairy']*82.933 -.0000186\n",
    "\n",
    "plt.scatter(dairy_cm['Dairy'], dairy_cm['Biogas_gen_ft3_day'])\n",
    "plt.scatter(dairy_cm['Dairy'], Y_upper_dairy_biogas_cm, color = 'red')\n",
    "plt.scatter(dairy_cm['Dairy'], Y_lower_dairy_biogas_cm, color = 'red')\n",
    "\n",
    "plt.show"
   ]
  },
  {
   "cell_type": "code",
   "execution_count": 60,
   "metadata": {},
   "outputs": [
    {
     "name": "stdout",
     "output_type": "stream",
     "text": [
      "                            OLS Regression Results                            \n",
      "==============================================================================\n",
      "Dep. Variable:     Biogas_gen_ft3_day   R-squared:                       0.923\n",
      "Model:                            OLS   Adj. R-squared:                  0.908\n",
      "Method:                 Least Squares   F-statistic:                     59.92\n",
      "Date:                Sun, 30 Apr 2023   Prob (F-statistic):           0.000575\n",
      "Time:                        16:13:10   Log-Likelihood:                -91.312\n",
      "No. Observations:                   7   AIC:                             186.6\n",
      "Df Residuals:                       5   BIC:                             186.5\n",
      "Df Model:                           1                                         \n",
      "Covariance Type:            nonrobust                                         \n",
      "==============================================================================\n",
      "                 coef    std err          t      P>|t|      [0.025      0.975]\n",
      "------------------------------------------------------------------------------\n",
      "Intercept  -1.714e+04   7.15e+04     -0.240      0.820   -2.01e+05    1.67e+05\n",
      "Dairy        120.3140     15.542      7.741      0.001      80.361     160.267\n",
      "==============================================================================\n",
      "Omnibus:                          nan   Durbin-Watson:                   3.105\n",
      "Prob(Omnibus):                    nan   Jarque-Bera (JB):                0.132\n",
      "Skew:                          -0.295   Prob(JB):                        0.936\n",
      "Kurtosis:                       3.324   Cond. No.                     6.56e+03\n",
      "==============================================================================\n",
      "\n",
      "Notes:\n",
      "[1] Standard Errors assume that the covariance matrix of the errors is correctly specified.\n",
      "[2] The condition number is large, 6.56e+03. This might indicate that there are\n",
      "strong multicollinearity or other numerical problems.\n"
     ]
    },
    {
     "name": "stderr",
     "output_type": "stream",
     "text": [
      "C:\\ProgramData\\Anaconda3\\lib\\site-packages\\statsmodels\\stats\\stattools.py:74: ValueWarning: omni_normtest is not valid with less than 8 observations; 7 samples were given.\n",
      "  warn(\"omni_normtest is not valid with less than 8 observations; %i \"\n"
     ]
    },
    {
     "data": {
      "image/png": "[encoded data removed]",
      "text/plain": [
       "<Figure size 432x288 with 1 Axes>"
      ]
     },
     "metadata": {
      "needs_background": "light"
     },
     "output_type": "display_data"
    }
   ],
   "source": [
    "def filter_confidence_interval_cm(data):\n",
    "    Y_upper = data['Dairy']*147.165+.00001\n",
    "    Y_lower = data['Dairy']*82.933 -.0000186\n",
    "    filtered_data = data[(data['Biogas_gen_ft3_day'] >= Y_lower) & (data['Biogas_gen_ft3_day'] <= Y_upper)]\n",
    "    return filtered_data\n",
    "\n",
    "ci95dairy_biogas_cm = filter_confidence_interval_cm(dairy_cm)\n",
    "\n",
    "plt.scatter(ci95dairy_biogas_cm['Dairy'], ci95dairy_biogas_cm['Biogas_gen_ft3_day'])\n",
    "\n",
    "dairy_biogas5 = smf.ols(formula='Biogas_gen_ft3_day ~ Dairy', data=ci95dairy_biogas_cm).fit()\n",
    "\n",
    "print(dairy_biogas5.summary())"
   ]
  },
  {
   "cell_type": "markdown",
   "metadata": {},
   "source": [
    "# Impermeable cover digester type analysis for dairy"
   ]
  },
  {
   "cell_type": "code",
   "execution_count": 61,
   "metadata": {},
   "outputs": [],
   "source": [
    "df5 = df.rename(columns={\"Animal/Farm Type(s)\" : \"Animal\", \"Co-Digestion\" : \"Codigestion\", \"Biogas End Use(s)\" : \"Biogas_End_Use\", \" Biogas Generation Estimate (cu_ft/day) \" : \"Biogas_gen_ft3_day\"})"
   ]
  },
  {
   "cell_type": "code",
   "execution_count": 62,
   "metadata": {},
   "outputs": [
    {
     "data": {
      "text/plain": [
       "array(['Covered Lagoon', 'Mixed Plug Flow', 'Unknown or Unspecified',\n",
       "       'Complete Mix', 'Horizontal Plug Flow', 0,\n",
       "       'Fixed Film/Attached Media',\n",
       "       'Primary digester tank with secondary covered lagoon',\n",
       "       'Induced Blanket Reactor', 'Anaerobic Sequencing Batch Reactor',\n",
       "       'Vertical Plug Flow', 'Complete Mix Mini Digester',\n",
       "       'Plug Flow - Unspecified', 'Dry Digester', 'Modular Plug Flow',\n",
       "       'Microdigester'], dtype=object)"
      ]
     },
     "execution_count": 62,
     "metadata": {},
     "output_type": "execute_result"
    }
   ],
   "source": [
    "df5['Digester Type'].unique()"
   ]
  },
  {
   "cell_type": "code",
   "execution_count": 63,
   "metadata": {},
   "outputs": [],
   "source": [
    "df5.drop(df5[(df5['Animal'] != 'Dairy')].index, inplace = True)\n",
    "df5.drop(df5[(df5['Codigestion'] != 0)].index, inplace = True)\n",
    "df5.drop(df5[(df5['Biogas_gen_ft3_day'] == 0)].index, inplace = True)\n",
    "df5['Biogas_ft3/cow'] = df5['Biogas_gen_ft3_day'] / df5['Dairy']\n",
    "\n",
    "#df5.drop(df5[(df5['Biogas_End_Use'] == 0)].index, inplace = True)\n",
    "\n",
    "#selecting for 'Covered Lagoon'\n",
    "\n",
    "notwant = ['Mixed Plug Flow', 'Unknown or Unspecified',\n",
    "       'Complete Mix', 'Horizontal Plug Flow', 0,\n",
    "       'Fixed Film/Attached Media',\n",
    "       'Primary digester tank with secondary covered lagoon',\n",
    "       'Induced Blanket Reactor', 'Anaerobic Sequencing Batch Reactor',\n",
    "       'Vertical Plug Flow', 'Complete Mix Mini Digester',\n",
    "       'Plug Flow - Unspecified', 'Dry Digester', 'Modular Plug Flow',\n",
    "       'Microdigester']\n",
    "\n",
    "df5 = df5[~df5['Digester Type'].isin(notwant)]"
   ]
  },
  {
   "cell_type": "code",
   "execution_count": 64,
   "metadata": {},
   "outputs": [
    {
     "data": {
      "text/plain": [
       "<AxesSubplot:xlabel='Biogas_ft3/cow', ylabel='Count'>"
      ]
     },
     "execution_count": 64,
     "metadata": {},
     "output_type": "execute_result"
    },
    {
     "data": {
      "image/png": "[encoded data removed]",
      "text/plain": [
       "<Figure size 432x288 with 1 Axes>"
      ]
     },
     "metadata": {
      "needs_background": "light"
     },
     "output_type": "display_data"
    }
   ],
   "source": [
    "sns.histplot(data = df5['Biogas_ft3/cow'], bins = 20)"
   ]
  },
  {
   "cell_type": "code",
   "execution_count": 65,
   "metadata": {},
   "outputs": [
    {
     "data": {
      "text/plain": [
       "43.68490677908262"
      ]
     },
     "execution_count": 65,
     "metadata": {},
     "output_type": "execute_result"
    }
   ],
   "source": [
    "ci95_df5 = hist_filter_ci(df5)\n",
    "\n",
    "ci95_df5['Biogas_ft3/cow'].mean()"
   ]
  },
  {
   "cell_type": "code",
   "execution_count": 66,
   "metadata": {},
   "outputs": [
    {
     "data": {
      "text/plain": [
       "43.108970927491335"
      ]
     },
     "execution_count": 66,
     "metadata": {},
     "output_type": "execute_result"
    }
   ],
   "source": [
    "efficiency(ci95_df5['Biogas_ft3/cow'].mean())"
   ]
  },
  {
   "cell_type": "code",
   "execution_count": 67,
   "metadata": {},
   "outputs": [
    {
     "data": {
      "text/plain": [
       "41.088176141031695"
      ]
     },
     "execution_count": 67,
     "metadata": {},
     "output_type": "execute_result"
    }
   ],
   "source": [
    "ci68_df5  = hist_filter_ci_68(df5)\n",
    "efficiency(ci68_df5['Biogas_ft3/cow'].mean())"
   ]
  },
  {
   "cell_type": "code",
   "execution_count": 68,
   "metadata": {},
   "outputs": [
    {
     "data": {
      "text/plain": [
       "(15, 22)"
      ]
     },
     "execution_count": 68,
     "metadata": {},
     "output_type": "execute_result"
    }
   ],
   "source": [
    "df5.shape"
   ]
  },
  {
   "cell_type": "code",
   "execution_count": 69,
   "metadata": {},
   "outputs": [
    {
     "name": "stdout",
     "output_type": "stream",
     "text": [
      "                            OLS Regression Results                            \n",
      "==============================================================================\n",
      "Dep. Variable:     Biogas_gen_ft3_day   R-squared:                       0.896\n",
      "Model:                            OLS   Adj. R-squared:                  0.888\n",
      "Method:                 Least Squares   F-statistic:                     111.6\n",
      "Date:                Sun, 30 Apr 2023   Prob (F-statistic):           9.46e-08\n",
      "Time:                        16:13:10   Log-Likelihood:                -183.88\n",
      "No. Observations:                  15   AIC:                             371.8\n",
      "Df Residuals:                      13   BIC:                             373.2\n",
      "Df Model:                           1                                         \n",
      "Covariance Type:            nonrobust                                         \n",
      "==============================================================================\n",
      "                 coef    std err          t      P>|t|      [0.025      0.975]\n",
      "------------------------------------------------------------------------------\n",
      "Intercept   1.424e+04   1.92e+04      0.742      0.471   -2.72e+04    5.57e+04\n",
      "Dairy         36.8211      3.485     10.566      0.000      29.293      44.350\n",
      "==============================================================================\n",
      "Omnibus:                        0.535   Durbin-Watson:                   2.801\n",
      "Prob(Omnibus):                  0.765   Jarque-Bera (JB):                0.154\n",
      "Skew:                           0.240   Prob(JB):                        0.926\n",
      "Kurtosis:                       2.873   Cond. No.                     7.47e+03\n",
      "==============================================================================\n",
      "\n",
      "Notes:\n",
      "[1] Standard Errors assume that the covariance matrix of the errors is correctly specified.\n",
      "[2] The condition number is large, 7.47e+03. This might indicate that there are\n",
      "strong multicollinearity or other numerical problems.\n"
     ]
    },
    {
     "name": "stderr",
     "output_type": "stream",
     "text": [
      "C:\\ProgramData\\Anaconda3\\lib\\site-packages\\seaborn\\_decorators.py:36: FutureWarning: Pass the following variables as keyword args: x, y. From version 0.12, the only valid positional argument will be `data`, and passing other arguments without an explicit keyword will result in an error or misinterpretation.\n",
      "  warnings.warn(\n",
      "C:\\ProgramData\\Anaconda3\\lib\\site-packages\\scipy\\stats\\stats.py:1541: UserWarning: kurtosistest only valid for n>=20 ... continuing anyway, n=15\n",
      "  warnings.warn(\"kurtosistest only valid for n>=20 ... continuing \"\n"
     ]
    },
    {
     "data": {
      "image/png": "[encoded data removed]",
      "text/plain": [
       "<Figure size 432x288 with 1 Axes>"
      ]
     },
     "metadata": {
      "needs_background": "light"
     },
     "output_type": "display_data"
    }
   ],
   "source": [
    "dairy_ic = pd.DataFrame(df5,columns=['Dairy', \"Biogas_gen_ft3_day\"])\n",
    "sns.regplot('Dairy', 'Biogas_gen_ft3_day', data=dairy_ic, ci = 95)\n",
    "dairy_plugsum = smf.ols(formula='Biogas_gen_ft3_day ~ Dairy', data=dairy_ic).fit()\n",
    "print(dairy_plugsum.summary())"
   ]
  },
  {
   "cell_type": "markdown",
   "metadata": {},
   "source": [
    "Impermeable cover anaerobic digesters are not heated. I assumed biogas per dairy would vary significantly per location for impermeable cover digesters. That does not appear to be the case with the below preliminary analysis graph."
   ]
  },
  {
   "cell_type": "code",
   "execution_count": 70,
   "metadata": {},
   "outputs": [
    {
     "name": "stderr",
     "output_type": "stream",
     "text": [
      "C:\\ProgramData\\Anaconda3\\lib\\site-packages\\seaborn\\_decorators.py:36: FutureWarning: Pass the following variables as keyword args: x, y. From version 0.12, the only valid positional argument will be `data`, and passing other arguments without an explicit keyword will result in an error or misinterpretation.\n",
      "  warnings.warn(\n"
     ]
    },
    {
     "data": {
      "text/plain": [
       "<AxesSubplot:xlabel='Dairy', ylabel='Biogas_gen_ft3_day'>"
      ]
     },
     "execution_count": 70,
     "metadata": {},
     "output_type": "execute_result"
    },
    {
     "data": {
      "image/png": "[encoded data removed]",
      "text/plain": [
       "<Figure size 432x288 with 1 Axes>"
      ]
     },
     "metadata": {
      "needs_background": "light"
     },
     "output_type": "display_data"
    }
   ],
   "source": [
    "sns.scatterplot('Dairy', 'Biogas_gen_ft3_day', data = df5, hue = 'State')"
   ]
  },
  {
   "cell_type": "code",
   "execution_count": 71,
   "metadata": {},
   "outputs": [
    {
     "name": "stderr",
     "output_type": "stream",
     "text": [
      "C:\\ProgramData\\Anaconda3\\lib\\site-packages\\seaborn\\_decorators.py:36: FutureWarning: Pass the following variables as keyword args: x, y. From version 0.12, the only valid positional argument will be `data`, and passing other arguments without an explicit keyword will result in an error or misinterpretation.\n",
      "  warnings.warn(\n"
     ]
    },
    {
     "data": {
      "text/plain": [
       "<function matplotlib.pyplot.show(close=None, block=None)>"
      ]
     },
     "execution_count": 71,
     "metadata": {},
     "output_type": "execute_result"
    },
    {
     "data": {
      "image/png": "[encoded data removed]",
      "text/plain": [
       "<Figure size 432x288 with 1 Axes>"
      ]
     },
     "metadata": {
      "needs_background": "light"
     },
     "output_type": "display_data"
    }
   ],
   "source": [
    "sns.regplot('Dairy', 'Biogas_gen_ft3_day', data=dairy_ic, ci = 95)\n",
    "\n",
    "Y_upper_dairy_biogas_ic = dairy_ic['Dairy']*44.35+.000557\n",
    "Y_lower_dairy_biogas_ic = dairy_ic['Dairy']*29.293 -.000272\n",
    "\n",
    "plt.scatter(dairy_ic['Dairy'], dairy_ic['Biogas_gen_ft3_day'])\n",
    "plt.scatter(dairy_ic['Dairy'], Y_upper_dairy_biogas_ic, color = 'red')\n",
    "plt.scatter(dairy_ic['Dairy'], Y_lower_dairy_biogas_ic, color = 'red')\n",
    "\n",
    "plt.show\n"
   ]
  },
  {
   "cell_type": "code",
   "execution_count": 72,
   "metadata": {},
   "outputs": [
    {
     "name": "stdout",
     "output_type": "stream",
     "text": [
      "                            OLS Regression Results                            \n",
      "==============================================================================\n",
      "Dep. Variable:     Biogas_gen_ft3_day   R-squared:                       0.998\n",
      "Model:                            OLS   Adj. R-squared:                  0.997\n",
      "Method:                 Least Squares   F-statistic:                     1122.\n",
      "Date:                Sun, 30 Apr 2023   Prob (F-statistic):           0.000890\n",
      "Time:                        16:13:11   Log-Likelihood:                -42.415\n",
      "No. Observations:                   4   AIC:                             88.83\n",
      "Df Residuals:                       2   BIC:                             87.60\n",
      "Df Model:                           1                                         \n",
      "Covariance Type:            nonrobust                                         \n",
      "==============================================================================\n",
      "                 coef    std err          t      P>|t|      [0.025      0.975]\n",
      "------------------------------------------------------------------------------\n",
      "Intercept  -1.519e+04   9556.189     -1.590      0.253   -5.63e+04    2.59e+04\n",
      "Dairy         39.4642      1.178     33.489      0.001      34.394      44.534\n",
      "==============================================================================\n",
      "Omnibus:                          nan   Durbin-Watson:                   2.389\n",
      "Prob(Omnibus):                    nan   Jarque-Bera (JB):                0.248\n",
      "Skew:                          -0.225   Prob(JB):                        0.883\n",
      "Kurtosis:                       1.867   Cond. No.                     1.12e+04\n",
      "==============================================================================\n",
      "\n",
      "Notes:\n",
      "[1] Standard Errors assume that the covariance matrix of the errors is correctly specified.\n",
      "[2] The condition number is large, 1.12e+04. This might indicate that there are\n",
      "strong multicollinearity or other numerical problems.\n"
     ]
    },
    {
     "name": "stderr",
     "output_type": "stream",
     "text": [
      "C:\\ProgramData\\Anaconda3\\lib\\site-packages\\statsmodels\\stats\\stattools.py:74: ValueWarning: omni_normtest is not valid with less than 8 observations; 4 samples were given.\n",
      "  warn(\"omni_normtest is not valid with less than 8 observations; %i \"\n"
     ]
    },
    {
     "data": {
      "image/png": "[encoded data removed]",
      "text/plain": [
       "<Figure size 432x288 with 1 Axes>"
      ]
     },
     "metadata": {
      "needs_background": "light"
     },
     "output_type": "display_data"
    }
   ],
   "source": [
    "def filter_confidence_interval_ic(data):\n",
    "    Y_upper = data['Dairy']*44.35+.000557\n",
    "    Y_lower = data['Dairy']*29.293 -.000272\n",
    "    filtered_data = data[(data['Biogas_gen_ft3_day'] >= Y_lower) & (data['Biogas_gen_ft3_day'] <= Y_upper)]\n",
    "    return filtered_data\n",
    "\n",
    "ci95dairy_biogas_ic = filter_confidence_interval_ic(dairy_ic)\n",
    "\n",
    "plt.scatter(ci95dairy_biogas_ic['Dairy'], ci95dairy_biogas_ic['Biogas_gen_ft3_day'])\n",
    "\n",
    "dairy_biogas6 = smf.ols(formula='Biogas_gen_ft3_day ~ Dairy', data=ci95dairy_biogas_ic).fit()\n",
    "\n",
    "print(dairy_biogas6.summary())"
   ]
  },
  {
   "cell_type": "markdown",
   "metadata": {},
   "source": [
    "Below is a summary of efficiencies for dairy anaerobic digesters based on the AgSTAR data."
   ]
  },
  {
   "cell_type": "code",
   "execution_count": 73,
   "metadata": {},
   "outputs": [
    {
     "name": "stdout",
     "output_type": "stream",
     "text": [
      "Efficiencies of Digesters using 95% CI are:\n",
      "For All Dairy\n",
      "68.8173385176075\n",
      "For plug flow\n",
      "73.74554076333106\n",
      "For complete mix\n",
      "85.9351730367076\n",
      "For impermeable cover\n",
      "43.108970927491335\n"
     ]
    }
   ],
   "source": [
    "print(\"Efficiencies of Digesters using 95% CI are:\") \n",
    "print(\"For All Dairy\") \n",
    "\n",
    "print(efficiency(ci95_df2['Biogas_ft3/cow'].mean())) \n",
    "\n",
    "print(\"For plug flow\")\n",
    "\n",
    "print(efficiency(ci95_df3['Biogas_ft3/cow'].mean())) \n",
    "\n",
    "print(\"For complete mix\") \n",
    "\n",
    "print(efficiency(ci95_df4['Biogas_ft3/cow'].mean())) \n",
    "\n",
    "print(\"For impermeable cover\")\n",
    "\n",
    "print(efficiency(ci95_df5['Biogas_ft3/cow'].mean()))"
   ]
  },
  {
   "cell_type": "code",
   "execution_count": 74,
   "metadata": {},
   "outputs": [
    {
     "name": "stdout",
     "output_type": "stream",
     "text": [
      "Efficiencies of Digesters using 68% CI (1 standard deviation) are:\n",
      "For All Dairy\n",
      "65.78025898722731\n",
      "For plug flow\n",
      "71.27049895301684\n",
      "For complete mix\n",
      "82.74672041445051\n",
      "For impermeable cover\n",
      "41.088176141031695\n"
     ]
    }
   ],
   "source": [
    "print(\"Efficiencies of Digesters using 68% CI (1 standard deviation) are:\") \n",
    "print(\"For All Dairy\") \n",
    "\n",
    "print(efficiency(ci68_df2['Biogas_ft3/cow'].mean())) \n",
    "\n",
    "print(\"For plug flow\")\n",
    "\n",
    "print(efficiency(ci68_df3['Biogas_ft3/cow'].mean())) \n",
    "\n",
    "print(\"For complete mix\") \n",
    "\n",
    "print(efficiency(ci68_df4['Biogas_ft3/cow'].mean())) \n",
    "\n",
    "print(\"For impermeable cover\")\n",
    "\n",
    "print(efficiency(ci68_df5['Biogas_ft3/cow'].mean()))"
   ]
  },
  {
   "cell_type": "markdown",
   "metadata": {},
   "source": [
    "# Complete mix and plug flow anaerobic digester types for dairy"
   ]
  },
  {
   "cell_type": "markdown",
   "metadata": {},
   "source": [
    "Complete mix and plug flow anaerobic digesters are heated and impermeable cover anaerobic digesters are not. I analyzed complete mix and plug anaerobic digesters together to calculate an efficiency for heated anaerobic digesters."
   ]
  },
  {
   "cell_type": "code",
   "execution_count": 75,
   "metadata": {},
   "outputs": [],
   "source": [
    "df6 = df.rename(columns={\"Animal/Farm Type(s)\" : \"Animal\", \"Co-Digestion\" : \"Codigestion\", \"Biogas End Use(s)\" : \"Biogas_End_Use\", \" Biogas Generation Estimate (cu_ft/day) \" : \"Biogas_gen_ft3_day\"})"
   ]
  },
  {
   "cell_type": "code",
   "execution_count": 76,
   "metadata": {},
   "outputs": [],
   "source": [
    "df6.drop(df6[(df6['Animal'] != 'Dairy')].index, inplace = True)\n",
    "df6.drop(df6[(df6['Codigestion'] != 0)].index, inplace = True)\n",
    "df6.drop(df6[(df6['Biogas_gen_ft3_day'] == 0)].index, inplace = True)\n",
    "df6['Biogas_ft3/cow'] = df6['Biogas_gen_ft3_day'] / df6['Dairy']\n",
    "\n",
    "#df3.drop(df3[(df3['Biogas_End_Use'] == 0)].index, inplace = True)\n",
    "\n",
    "#selecting for 'Complete Mix Mini Digester', 'Complete Mix','Vertical Plug Flow', 'Horizontal Plug Flow', and 'Plug Flow - Unspecified', 'Modular Plug Flow', 'Mixed Plug FLow'\n",
    "\n",
    "notwant = ['Covered Lagoon', 'Unknown or Unspecified', 0,\n",
    "       'Fixed Film/Attached Media',\n",
    "       'Primary digester tank with secondary covered lagoon',\n",
    "       'Induced Blanket Reactor', 'Anaerobic Sequencing Batch Reactor', 'Dry Digester', \n",
    "       'Microdigester']\n",
    "\n",
    "df6 = df6[~df6['Digester Type'].isin(notwant)]"
   ]
  },
  {
   "cell_type": "code",
   "execution_count": 77,
   "metadata": {},
   "outputs": [
    {
     "data": {
      "text/plain": [
       "<AxesSubplot:xlabel='Biogas_ft3/cow', ylabel='Count'>"
      ]
     },
     "execution_count": 77,
     "metadata": {},
     "output_type": "execute_result"
    },
    {
     "data": {
      "image/png": "[encoded data removed]",
      "text/plain": [
       "<Figure size 432x288 with 1 Axes>"
      ]
     },
     "metadata": {
      "needs_background": "light"
     },
     "output_type": "display_data"
    }
   ],
   "source": [
    "sns.histplot(data = df6['Biogas_ft3/cow'], bins = 20)"
   ]
  },
  {
   "cell_type": "code",
   "execution_count": 78,
   "metadata": {},
   "outputs": [],
   "source": [
    "ci95_df6 = hist_filter_ci(df6)"
   ]
  },
  {
   "cell_type": "code",
   "execution_count": 79,
   "metadata": {},
   "outputs": [
    {
     "data": {
      "text/plain": [
       "77.10390425281459"
      ]
     },
     "execution_count": 79,
     "metadata": {},
     "output_type": "execute_result"
    }
   ],
   "source": [
    "ci95_df6['Biogas_ft3/cow'].mean()\n",
    "efficiency(ci95_df6['Biogas_ft3/cow'].mean())"
   ]
  },
  {
   "cell_type": "code",
   "execution_count": 80,
   "metadata": {},
   "outputs": [
    {
     "data": {
      "text/plain": [
       "75.29627474795387"
      ]
     },
     "execution_count": 80,
     "metadata": {},
     "output_type": "execute_result"
    }
   ],
   "source": [
    "ci68_df6  = hist_filter_ci_68(df6)\n",
    "efficiency(ci68_df6['Biogas_ft3/cow'].mean())"
   ]
  },
  {
   "cell_type": "code",
   "execution_count": 81,
   "metadata": {},
   "outputs": [
    {
     "data": {
      "text/plain": [
       "(46, 22)"
      ]
     },
     "execution_count": 81,
     "metadata": {},
     "output_type": "execute_result"
    }
   ],
   "source": [
    "df6.shape"
   ]
  },
  {
   "cell_type": "code",
   "execution_count": 82,
   "metadata": {},
   "outputs": [
    {
     "name": "stdout",
     "output_type": "stream",
     "text": [
      "                            OLS Regression Results                            \n",
      "==============================================================================\n",
      "Dep. Variable:     Biogas_gen_ft3_day   R-squared:                       0.820\n",
      "Model:                            OLS   Adj. R-squared:                  0.816\n",
      "Method:                 Least Squares   F-statistic:                     201.1\n",
      "Date:                Sun, 30 Apr 2023   Prob (F-statistic):           5.13e-18\n",
      "Time:                        16:13:11   Log-Likelihood:                -607.56\n",
      "No. Observations:                  46   AIC:                             1219.\n",
      "Df Residuals:                      44   BIC:                             1223.\n",
      "Df Model:                           1                                         \n",
      "Covariance Type:            nonrobust                                         \n",
      "==============================================================================\n",
      "                 coef    std err          t      P>|t|      [0.025      0.975]\n",
      "------------------------------------------------------------------------------\n",
      "Intercept  -2.482e+04   2.57e+04     -0.968      0.338   -7.65e+04    2.69e+04\n",
      "Dairy        107.9092      7.610     14.180      0.000      92.572     123.246\n",
      "==============================================================================\n",
      "Omnibus:                       22.878   Durbin-Watson:                   1.873\n",
      "Prob(Omnibus):                  0.000   Jarque-Bera (JB):               53.726\n",
      "Skew:                           1.252   Prob(JB):                     2.16e-12\n",
      "Kurtosis:                       7.665   Cond. No.                     4.35e+03\n",
      "==============================================================================\n",
      "\n",
      "Notes:\n",
      "[1] Standard Errors assume that the covariance matrix of the errors is correctly specified.\n",
      "[2] The condition number is large, 4.35e+03. This might indicate that there are\n",
      "strong multicollinearity or other numerical problems.\n"
     ]
    },
    {
     "name": "stderr",
     "output_type": "stream",
     "text": [
      "C:\\ProgramData\\Anaconda3\\lib\\site-packages\\seaborn\\_decorators.py:36: FutureWarning: Pass the following variables as keyword args: x, y. From version 0.12, the only valid positional argument will be `data`, and passing other arguments without an explicit keyword will result in an error or misinterpretation.\n",
      "  warnings.warn(\n"
     ]
    },
    {
     "data": {
      "image/png": "[encoded data removed]",
      "text/plain": [
       "<Figure size 432x288 with 1 Axes>"
      ]
     },
     "metadata": {
      "needs_background": "light"
     },
     "output_type": "display_data"
    }
   ],
   "source": [
    "dairy_plugflow = pd.DataFrame(df6,columns=['Dairy', \"Biogas_gen_ft3_day\"])\n",
    "\n",
    "sns.regplot('Dairy', 'Biogas_gen_ft3_day', data=dairy_plugflow, ci = 95)\n",
    "dairy_plugsum = smf.ols(formula='Biogas_gen_ft3_day ~ Dairy', data=dairy_plugflow).fit()\n",
    "print(dairy_plugsum.summary())"
   ]
  },
  {
   "cell_type": "code",
   "execution_count": 83,
   "metadata": {},
   "outputs": [
    {
     "name": "stderr",
     "output_type": "stream",
     "text": [
      "C:\\ProgramData\\Anaconda3\\lib\\site-packages\\seaborn\\_decorators.py:36: FutureWarning: Pass the following variables as keyword args: x, y. From version 0.12, the only valid positional argument will be `data`, and passing other arguments without an explicit keyword will result in an error or misinterpretation.\n",
      "  warnings.warn(\n"
     ]
    },
    {
     "data": {
      "text/plain": [
       "<function matplotlib.pyplot.show(close=None, block=None)>"
      ]
     },
     "execution_count": 83,
     "metadata": {},
     "output_type": "execute_result"
    },
    {
     "data": {
      "image/png": "[encoded data removed]",
      "text/plain": [
       "<Figure size 432x288 with 1 Axes>"
      ]
     },
     "metadata": {
      "needs_background": "light"
     },
     "output_type": "display_data"
    }
   ],
   "source": [
    "sns.regplot('Dairy', 'Biogas_gen_ft3_day', data=dairy_plugflow, ci = 95)\n",
    "\n",
    "Y_upper_dairy_biogas_pf = dairy_plugflow['Dairy']*123.246+.000269\n",
    "Y_lower_dairy_biogas_pf = dairy_plugflow['Dairy']*92.572-.000765\n",
    "\n",
    "plt.scatter(dairy_plugflow['Dairy'], dairy_plugflow['Biogas_gen_ft3_day'])\n",
    "plt.scatter(dairy_plugflow['Dairy'], Y_upper_dairy_biogas_pf, color = 'red')\n",
    "plt.scatter(dairy_plugflow['Dairy'], Y_lower_dairy_biogas_pf, color = 'red')\n",
    "\n",
    "plt.show"
   ]
  },
  {
   "cell_type": "code",
   "execution_count": 84,
   "metadata": {},
   "outputs": [],
   "source": [
    "def filter_confidence_interval_pf(data):\n",
    "    Y_upper = data['Dairy']*123.246+.000269\n",
    "    Y_lower = data['Dairy']*92.572-.000765\n",
    "    filtered_data = data[(data['Biogas_gen_ft3_day'] >= Y_lower) & (data['Biogas_gen_ft3_day'] <= Y_upper)]\n",
    "    return filtered_data"
   ]
  },
  {
   "cell_type": "code",
   "execution_count": 85,
   "metadata": {},
   "outputs": [
    {
     "data": {
      "text/plain": [
       "<matplotlib.collections.PathCollection at 0x1b8654a2dc0>"
      ]
     },
     "execution_count": 85,
     "metadata": {},
     "output_type": "execute_result"
    },
    {
     "data": {
      "image/png": "[encoded data removed]",
      "text/plain": [
       "<Figure size 432x288 with 1 Axes>"
      ]
     },
     "metadata": {
      "needs_background": "light"
     },
     "output_type": "display_data"
    }
   ],
   "source": [
    "ci95dairy_biogas_pf = filter_confidence_interval_pf(dairy_plugflow)\n",
    "\n",
    "plt.scatter(ci95dairy_biogas_pf['Dairy'], ci95dairy_biogas_pf['Biogas_gen_ft3_day'])"
   ]
  },
  {
   "cell_type": "code",
   "execution_count": 86,
   "metadata": {},
   "outputs": [
    {
     "name": "stdout",
     "output_type": "stream",
     "text": [
      "                            OLS Regression Results                            \n",
      "==============================================================================\n",
      "Dep. Variable:     Biogas_gen_ft3_day   R-squared:                       0.999\n",
      "Model:                            OLS   Adj. R-squared:                  0.998\n",
      "Method:                 Least Squares   F-statistic:                     4873.\n",
      "Date:                Sun, 30 Apr 2023   Prob (F-statistic):           3.26e-11\n",
      "Time:                        16:13:12   Log-Likelihood:                -98.196\n",
      "No. Observations:                   9   AIC:                             200.4\n",
      "Df Residuals:                       7   BIC:                             200.8\n",
      "Df Model:                           1                                         \n",
      "Covariance Type:            nonrobust                                         \n",
      "==============================================================================\n",
      "                 coef    std err          t      P>|t|      [0.025      0.975]\n",
      "------------------------------------------------------------------------------\n",
      "Intercept   7996.2535   6143.898      1.301      0.234   -6531.756    2.25e+04\n",
      "Dairy         99.8207      1.430     69.806      0.000      96.439     103.202\n",
      "==============================================================================\n",
      "Omnibus:                       14.718   Durbin-Watson:                   1.972\n",
      "Prob(Omnibus):                  0.001   Jarque-Bera (JB):                6.481\n",
      "Skew:                           1.783   Prob(JB):                       0.0392\n",
      "Kurtosis:                       5.137   Cond. No.                     5.27e+03\n",
      "==============================================================================\n",
      "\n",
      "Notes:\n",
      "[1] Standard Errors assume that the covariance matrix of the errors is correctly specified.\n",
      "[2] The condition number is large, 5.27e+03. This might indicate that there are\n",
      "strong multicollinearity or other numerical problems.\n"
     ]
    },
    {
     "name": "stderr",
     "output_type": "stream",
     "text": [
      "C:\\ProgramData\\Anaconda3\\lib\\site-packages\\scipy\\stats\\stats.py:1541: UserWarning: kurtosistest only valid for n>=20 ... continuing anyway, n=9\n",
      "  warnings.warn(\"kurtosistest only valid for n>=20 ... continuing \"\n"
     ]
    }
   ],
   "source": [
    "dairy_biogas4 = smf.ols(formula='Biogas_gen_ft3_day ~ Dairy', data=ci95dairy_biogas_pf).fit()\n",
    "print(dairy_biogas4.summary())"
   ]
  },
  {
   "cell_type": "markdown",
   "metadata": {},
   "source": [
    "# Swine Impermeable Cover Investigation"
   ]
  },
  {
   "cell_type": "markdown",
   "metadata": {},
   "source": [
    "The data for the swine anaerobic digesters was very poor. I decided to only analyze impermeable cover digester type for swine as I felt the other digester types had too little data."
   ]
  },
  {
   "cell_type": "code",
   "execution_count": 87,
   "metadata": {},
   "outputs": [],
   "source": [
    "df7 = df.rename(columns={\"Animal/Farm Type(s)\" : \"Animal\", \"Co-Digestion\" : \"Codigestion\", \"Biogas End Use(s)\" : \"Biogas_End_Use\", \" Biogas Generation Estimate (cu_ft/day) \" : \"Biogas_gen_ft3_day\"})"
   ]
  },
  {
   "cell_type": "code",
   "execution_count": 88,
   "metadata": {},
   "outputs": [],
   "source": [
    "df7.drop(df7[(df7['Animal'] != 'Swine')].index, inplace = True)\n",
    "df7.drop(df7[(df7['Codigestion'] != 0)].index, inplace = True)\n",
    "df7.drop(df7[(df7['Biogas_gen_ft3_day'] == 0)].index, inplace = True)\n",
    "df7['Biogas_ft3/cow'] = df7['Biogas_gen_ft3_day'] / df7['Swine']\n",
    "\n",
    "#df7.drop(df7[(df7['Biogas_End_Use'] == 0)].index, inplace = True)\n",
    "\n",
    "#selecting for 'Covered Lagoon'\n",
    "\n",
    "notwant = ['Mixed Plug Flow', 'Unknown or Unspecified',\n",
    "       'Complete Mix', 'Horizontal Plug Flow', 0,\n",
    "       'Fixed Film/Attached Media',\n",
    "       'Primary digester tank with secondary covered lagoon',\n",
    "       'Induced Blanket Reactor', 'Anaerobic Sequencing Batch Reactor',\n",
    "       'Vertical Plug Flow', 'Complete Mix Mini Digester',\n",
    "       'Plug Flow - Unspecified', 'Dry Digester', 'Modular Plug Flow',\n",
    "       'Microdigester']\n",
    "\n",
    "df7 = df7[~df7['Digester Type'].isin(notwant)]"
   ]
  },
  {
   "cell_type": "code",
   "execution_count": 89,
   "metadata": {},
   "outputs": [
    {
     "data": {
      "text/plain": [
       "<AxesSubplot:xlabel='Biogas_ft3/cow', ylabel='Count'>"
      ]
     },
     "execution_count": 89,
     "metadata": {},
     "output_type": "execute_result"
    },
    {
     "data": {
      "image/png": "[encoded data removed]",
      "text/plain": [
       "<Figure size 432x288 with 1 Axes>"
      ]
     },
     "metadata": {
      "needs_background": "light"
     },
     "output_type": "display_data"
    }
   ],
   "source": [
    "sns.histplot(data = df7['Biogas_ft3/cow'], bins = 20)"
   ]
  },
  {
   "cell_type": "code",
   "execution_count": 90,
   "metadata": {},
   "outputs": [
    {
     "data": {
      "text/plain": [
       "(8, 22)"
      ]
     },
     "execution_count": 90,
     "metadata": {},
     "output_type": "execute_result"
    }
   ],
   "source": [
    "df7.shape"
   ]
  },
  {
   "cell_type": "code",
   "execution_count": 91,
   "metadata": {},
   "outputs": [],
   "source": [
    "ci95_df7 = hist_filter_ci(df7)"
   ]
  },
  {
   "cell_type": "code",
   "execution_count": 92,
   "metadata": {},
   "outputs": [
    {
     "data": {
      "text/plain": [
       "<AxesSubplot:xlabel='Biogas_ft3/cow', ylabel='Count'>"
      ]
     },
     "execution_count": 92,
     "metadata": {},
     "output_type": "execute_result"
    },
    {
     "data": {
      "image/png": "[encoded data removed]",
      "text/plain": [
       "<Figure size 432x288 with 1 Axes>"
      ]
     },
     "metadata": {
      "needs_background": "light"
     },
     "output_type": "display_data"
    }
   ],
   "source": [
    "sns.histplot(data = ci95_df7['Biogas_ft3/cow'], bins = 20)"
   ]
  },
  {
   "cell_type": "code",
   "execution_count": 93,
   "metadata": {},
   "outputs": [
    {
     "data": {
      "text/plain": [
       "5.725326735990197"
      ]
     },
     "execution_count": 93,
     "metadata": {},
     "output_type": "execute_result"
    }
   ],
   "source": [
    "ci95_df7['Biogas_ft3/cow'].mean()\n",
    "efficiency(ci95_df7['Biogas_ft3/cow'].mean())"
   ]
  },
  {
   "cell_type": "markdown",
   "metadata": {},
   "source": [
    "Checking if there was some correlation between location and impermeable cover digester efficiency. There does not appear to be the desired correlation. "
   ]
  },
  {
   "cell_type": "code",
   "execution_count": 94,
   "metadata": {},
   "outputs": [
    {
     "name": "stderr",
     "output_type": "stream",
     "text": [
      "C:\\ProgramData\\Anaconda3\\lib\\site-packages\\seaborn\\_decorators.py:36: FutureWarning: Pass the following variables as keyword args: x, y. From version 0.12, the only valid positional argument will be `data`, and passing other arguments without an explicit keyword will result in an error or misinterpretation.\n",
      "  warnings.warn(\n"
     ]
    },
    {
     "data": {
      "text/plain": [
       "<AxesSubplot:xlabel='Swine', ylabel='Biogas_gen_ft3_day'>"
      ]
     },
     "execution_count": 94,
     "metadata": {},
     "output_type": "execute_result"
    },
    {
     "data": {
      "image/png": "[encoded data removed]",
      "text/plain": [
       "<Figure size 432x288 with 1 Axes>"
      ]
     },
     "metadata": {
      "needs_background": "light"
     },
     "output_type": "display_data"
    }
   ],
   "source": [
    "sns.scatterplot('Swine', 'Biogas_gen_ft3_day', data = ci95_df7, hue = 'State')"
   ]
  },
  {
   "cell_type": "markdown",
   "metadata": {},
   "source": [
    "# Swine Impermeable Cover and Electricity Investigation"
   ]
  },
  {
   "cell_type": "markdown",
   "metadata": {},
   "source": [
    "The next section investigates \"Swine Impermeable Cover and Electricity Investigation\" because there are a variety of swine digester data points where biogas production is not recorded, although electricity generation is recorded."
   ]
  },
  {
   "cell_type": "code",
   "execution_count": 95,
   "metadata": {},
   "outputs": [],
   "source": [
    "df8 = df.rename(columns={\"Animal/Farm Type(s)\" : \"Animal\", \"Co-Digestion\" : \"Codigestion\", \"Biogas End Use(s)\" : \"Biogas_End_Use\", \" Biogas Generation Estimate (cu_ft/day) \" : \"Biogas_gen_ft3_day\"})"
   ]
  },
  {
   "cell_type": "code",
   "execution_count": 96,
   "metadata": {},
   "outputs": [],
   "source": [
    "df8.drop(df8[(df8['Animal'] != 'Swine')].index, inplace = True)\n",
    "df8.drop(df8[(df8['Codigestion'] != 0)].index, inplace = True)\n",
    "df8.drop(df8[(df8[' Electricity Generated (kWh/yr) '] == 0)].index, inplace = True)\n",
    "df8['Elec/swine'] = df8[' Electricity Generated (kWh/yr) '] / df8['Swine']\n",
    "df8.drop(df8[(df8['Swine'] > 20000)].index, inplace = True)\n",
    "#df7.drop(df7[(df7['Biogas_End_Use'] == 0)].index, inplace = True)\n",
    "\n",
    "#selecting for 'Covered Lagoon'\n",
    "\n",
    "notwant = ['Mixed Plug Flow', 'Unknown or Unspecified',\n",
    "       'Complete Mix', 'Horizontal Plug Flow', 0,\n",
    "       'Fixed Film/Attached Media',\n",
    "       'Primary digester tank with secondary covered lagoon',\n",
    "       'Induced Blanket Reactor', 'Anaerobic Sequencing Batch Reactor',\n",
    "       'Vertical Plug Flow', 'Complete Mix Mini Digester',\n",
    "       'Plug Flow - Unspecified', 'Dry Digester', 'Modular Plug Flow',\n",
    "       'Microdigester']\n",
    "\n",
    "df8 = df8[~df8['Digester Type'].isin(notwant)]"
   ]
  },
  {
   "cell_type": "code",
   "execution_count": 97,
   "metadata": {},
   "outputs": [
    {
     "name": "stderr",
     "output_type": "stream",
     "text": [
      "C:\\ProgramData\\Anaconda3\\lib\\site-packages\\seaborn\\_decorators.py:36: FutureWarning: Pass the following variables as keyword args: x, y. From version 0.12, the only valid positional argument will be `data`, and passing other arguments without an explicit keyword will result in an error or misinterpretation.\n",
      "  warnings.warn(\n"
     ]
    },
    {
     "data": {
      "text/plain": [
       "<AxesSubplot:xlabel='Swine', ylabel=' Electricity Generated (kWh/yr) '>"
      ]
     },
     "execution_count": 97,
     "metadata": {},
     "output_type": "execute_result"
    },
    {
     "data": {
      "image/png": "[encoded data removed]",
      "text/plain": [
       "<Figure size 432x288 with 1 Axes>"
      ]
     },
     "metadata": {
      "needs_background": "light"
     },
     "output_type": "display_data"
    }
   ],
   "source": [
    "sns.scatterplot('Swine', ' Electricity Generated (kWh/yr) ', data = df8, hue = 'State')"
   ]
  },
  {
   "cell_type": "markdown",
   "metadata": {},
   "source": [
    "# Naive Bayes Machine Learning- Predict Biogas Amount and Efficiency"
   ]
  },
  {
   "cell_type": "markdown",
   "metadata": {},
   "source": [
    "Naive Bayes machine learning is completed in this section to predict the daily biogas production from an inputted number of dairy cows and an inputted digester type. Naive Bayes is a poor way to predict daily biogas production based on this data. Naive Bayes machine learns based on categories, not on a regression spectrum. For any input, Naive Bayes will output a biogas production value that corresponds to a value in the training dataset. This is not what I wanted, but I completed the analysis before I figured this out, so I have left it here."
   ]
  },
  {
   "cell_type": "code",
   "execution_count": 98,
   "metadata": {},
   "outputs": [],
   "source": [
    "df9 = df.rename(columns={\"Animal/Farm Type(s)\" : \"Animal\", \"Co-Digestion\" : \"Codigestion\", \"Biogas End Use(s)\" : \"Biogas_End_Use\", \" Biogas Generation Estimate (cu_ft/day) \" : \"Biogas_gen_ft3_day\"})"
   ]
  },
  {
   "cell_type": "code",
   "execution_count": 99,
   "metadata": {},
   "outputs": [
    {
     "data": {
      "text/html": [
       "<div>\n",
       "<style scoped>\n",
       "    .dataframe tbody tr th:only-of-type {\n",
       "        vertical-align: middle;\n",
       "    }\n",
       "\n",
       "    .dataframe tbody tr th {\n",
       "        vertical-align: top;\n",
       "    }\n",
       "\n",
       "    .dataframe thead th {\n",
       "        text-align: right;\n",
       "    }\n",
       "</style>\n",
       "<table border=\"1\" class=\"dataframe\">\n",
       "  <thead>\n",
       "    <tr style=\"text-align: right;\">\n",
       "      <th></th>\n",
       "      <th>Project Name</th>\n",
       "      <th>Project Type</th>\n",
       "      <th>City</th>\n",
       "      <th>County</th>\n",
       "      <th>State</th>\n",
       "      <th>Digester Type</th>\n",
       "      <th>Status</th>\n",
       "      <th>Year Operational</th>\n",
       "      <th>Animal</th>\n",
       "      <th>Cattle</th>\n",
       "      <th>...</th>\n",
       "      <th>Poultry</th>\n",
       "      <th>Swine</th>\n",
       "      <th>Codigestion</th>\n",
       "      <th>Biogas_gen_ft3_day</th>\n",
       "      <th>Electricity Generated (kWh/yr)</th>\n",
       "      <th>Biogas_End_Use</th>\n",
       "      <th>System Designer(s)_Developer(s) and Affiliates</th>\n",
       "      <th>Receiving Utility</th>\n",
       "      <th>Total Emission Reductions (MTCO2e/yr)</th>\n",
       "      <th>Awarded USDA Funding?</th>\n",
       "    </tr>\n",
       "  </thead>\n",
       "  <tbody>\n",
       "    <tr>\n",
       "      <th>0</th>\n",
       "      <td>Cargill - Sandy River Farm Digester</td>\n",
       "      <td>Farm Scale</td>\n",
       "      <td>Morrilton</td>\n",
       "      <td>Conway</td>\n",
       "      <td>AR</td>\n",
       "      <td>Covered Lagoon</td>\n",
       "      <td>Operational</td>\n",
       "      <td>2008.0</td>\n",
       "      <td>Swine</td>\n",
       "      <td>0</td>\n",
       "      <td>...</td>\n",
       "      <td>0</td>\n",
       "      <td>4200</td>\n",
       "      <td>0</td>\n",
       "      <td>1814400</td>\n",
       "      <td>0</td>\n",
       "      <td>Flared Full-time</td>\n",
       "      <td>Martin Construction Resource LLC (formerly RCM...</td>\n",
       "      <td>0</td>\n",
       "      <td>4,002</td>\n",
       "      <td>0</td>\n",
       "    </tr>\n",
       "    <tr>\n",
       "      <th>1</th>\n",
       "      <td>Butterfield RNG Digester</td>\n",
       "      <td>Farm Scale</td>\n",
       "      <td>Buckeye</td>\n",
       "      <td>Maricopa</td>\n",
       "      <td>AZ</td>\n",
       "      <td>Mixed Plug Flow</td>\n",
       "      <td>Construction</td>\n",
       "      <td>2021.0</td>\n",
       "      <td>Dairy</td>\n",
       "      <td>0</td>\n",
       "      <td>...</td>\n",
       "      <td>0</td>\n",
       "      <td>0</td>\n",
       "      <td>0</td>\n",
       "      <td>0</td>\n",
       "      <td>0</td>\n",
       "      <td>Pipeline Gas</td>\n",
       "      <td>Avolta [Project Developer]; DVO, Inc. (formerl...</td>\n",
       "      <td>Southwest Gas</td>\n",
       "      <td>29,826</td>\n",
       "      <td>Y</td>\n",
       "    </tr>\n",
       "    <tr>\n",
       "      <th>2</th>\n",
       "      <td>Caballero Dairy Farms Digester</td>\n",
       "      <td>Farm Scale</td>\n",
       "      <td>Eloy</td>\n",
       "      <td>Pinal</td>\n",
       "      <td>AZ</td>\n",
       "      <td>Unknown or Unspecified</td>\n",
       "      <td>Construction</td>\n",
       "      <td>2022.0</td>\n",
       "      <td>Dairy</td>\n",
       "      <td>0</td>\n",
       "      <td>...</td>\n",
       "      <td>0</td>\n",
       "      <td>0</td>\n",
       "      <td>0</td>\n",
       "      <td>0</td>\n",
       "      <td>0</td>\n",
       "      <td>Pipeline Gas</td>\n",
       "      <td>Brightmark [Project Developer]</td>\n",
       "      <td>0</td>\n",
       "      <td>89,518</td>\n",
       "      <td>0</td>\n",
       "    </tr>\n",
       "    <tr>\n",
       "      <th>3</th>\n",
       "      <td>Paloma Dairy Digester</td>\n",
       "      <td>Farm Scale</td>\n",
       "      <td>Gila Bend</td>\n",
       "      <td>Maricopa</td>\n",
       "      <td>AZ</td>\n",
       "      <td>Complete Mix</td>\n",
       "      <td>Operational</td>\n",
       "      <td>2021.0</td>\n",
       "      <td>Dairy</td>\n",
       "      <td>0</td>\n",
       "      <td>...</td>\n",
       "      <td>0</td>\n",
       "      <td>0</td>\n",
       "      <td>0</td>\n",
       "      <td>0</td>\n",
       "      <td>0</td>\n",
       "      <td>CNG</td>\n",
       "      <td>Black Bear Environmental Assets [Project Devel...</td>\n",
       "      <td>Southwest Gas Company</td>\n",
       "      <td>89,794</td>\n",
       "      <td>0</td>\n",
       "    </tr>\n",
       "    <tr>\n",
       "      <th>4</th>\n",
       "      <td>Stotz Southern Dairy Digester</td>\n",
       "      <td>Farm Scale</td>\n",
       "      <td>Buckeye</td>\n",
       "      <td>Maricopa</td>\n",
       "      <td>AZ</td>\n",
       "      <td>Covered Lagoon</td>\n",
       "      <td>Operational</td>\n",
       "      <td>2011.0</td>\n",
       "      <td>Dairy</td>\n",
       "      <td>0</td>\n",
       "      <td>...</td>\n",
       "      <td>0</td>\n",
       "      <td>0</td>\n",
       "      <td>0</td>\n",
       "      <td>0</td>\n",
       "      <td>5256000</td>\n",
       "      <td>Electricity</td>\n",
       "      <td>Chapel Street Environmental [System Design Eng...</td>\n",
       "      <td>Arizona Public Service</td>\n",
       "      <td>138,787</td>\n",
       "      <td>0</td>\n",
       "    </tr>\n",
       "    <tr>\n",
       "      <th>...</th>\n",
       "      <td>...</td>\n",
       "      <td>...</td>\n",
       "      <td>...</td>\n",
       "      <td>...</td>\n",
       "      <td>...</td>\n",
       "      <td>...</td>\n",
       "      <td>...</td>\n",
       "      <td>...</td>\n",
       "      <td>...</td>\n",
       "      <td>...</td>\n",
       "      <td>...</td>\n",
       "      <td>...</td>\n",
       "      <td>...</td>\n",
       "      <td>...</td>\n",
       "      <td>...</td>\n",
       "      <td>...</td>\n",
       "      <td>...</td>\n",
       "      <td>...</td>\n",
       "      <td>...</td>\n",
       "      <td>...</td>\n",
       "      <td>...</td>\n",
       "    </tr>\n",
       "    <tr>\n",
       "      <th>501</th>\n",
       "      <td>Norswiss Farms Digester</td>\n",
       "      <td>Farm Scale</td>\n",
       "      <td>Rice Lake</td>\n",
       "      <td>Barron</td>\n",
       "      <td>WI</td>\n",
       "      <td>Complete Mix</td>\n",
       "      <td>Shut down</td>\n",
       "      <td>2006.0</td>\n",
       "      <td>Dairy</td>\n",
       "      <td>0</td>\n",
       "      <td>...</td>\n",
       "      <td>0</td>\n",
       "      <td>0</td>\n",
       "      <td>Dairy Processing Wastes; Fats, Oils, Greases; ...</td>\n",
       "      <td>2908000</td>\n",
       "      <td>6450000</td>\n",
       "      <td>Electricity</td>\n",
       "      <td>Microgy [Project Developer, System Designer]</td>\n",
       "      <td>Dairyland Power Cooperative; Barron Electric</td>\n",
       "      <td>0</td>\n",
       "      <td>Y</td>\n",
       "    </tr>\n",
       "    <tr>\n",
       "      <th>502</th>\n",
       "      <td>Quantum Dairy Digester</td>\n",
       "      <td>Farm Scale</td>\n",
       "      <td>Weyauwega</td>\n",
       "      <td>Waupaca</td>\n",
       "      <td>WI</td>\n",
       "      <td>Mixed Plug Flow</td>\n",
       "      <td>Shut down</td>\n",
       "      <td>2005.0</td>\n",
       "      <td>Dairy</td>\n",
       "      <td>0</td>\n",
       "      <td>...</td>\n",
       "      <td>0</td>\n",
       "      <td>0</td>\n",
       "      <td>0</td>\n",
       "      <td>0</td>\n",
       "      <td>3350700</td>\n",
       "      <td>Cogeneration</td>\n",
       "      <td>DVO, Inc. (formerly GHD, Inc.) [Project Develo...</td>\n",
       "      <td>WE Energies, Inc.</td>\n",
       "      <td>0</td>\n",
       "      <td>Y</td>\n",
       "    </tr>\n",
       "    <tr>\n",
       "      <th>503</th>\n",
       "      <td>Stencil Farm Digester</td>\n",
       "      <td>Farm Scale</td>\n",
       "      <td>Denmark</td>\n",
       "      <td>Brown</td>\n",
       "      <td>WI</td>\n",
       "      <td>Horizontal Plug Flow</td>\n",
       "      <td>Shut down</td>\n",
       "      <td>2002.0</td>\n",
       "      <td>Dairy</td>\n",
       "      <td>0</td>\n",
       "      <td>...</td>\n",
       "      <td>0</td>\n",
       "      <td>0</td>\n",
       "      <td>0</td>\n",
       "      <td>0</td>\n",
       "      <td>946080</td>\n",
       "      <td>Electricity</td>\n",
       "      <td>Martin Construction Resource LLC (formerly RCM...</td>\n",
       "      <td>Wisconsin Public Service Corporation</td>\n",
       "      <td>0</td>\n",
       "      <td>0</td>\n",
       "    </tr>\n",
       "    <tr>\n",
       "      <th>504</th>\n",
       "      <td>Tinedale Farms Digester</td>\n",
       "      <td>Farm Scale</td>\n",
       "      <td>Wrightstown</td>\n",
       "      <td>Jackson</td>\n",
       "      <td>WI</td>\n",
       "      <td>Fixed Film/Attached Media</td>\n",
       "      <td>Shut down</td>\n",
       "      <td>1999.0</td>\n",
       "      <td>Dairy</td>\n",
       "      <td>0</td>\n",
       "      <td>...</td>\n",
       "      <td>0</td>\n",
       "      <td>0</td>\n",
       "      <td>0</td>\n",
       "      <td>200000</td>\n",
       "      <td>5584500</td>\n",
       "      <td>Electricity; Boiler/Furnace fuel</td>\n",
       "      <td>AGES [Project Developer, System Designer, Syst...</td>\n",
       "      <td>0</td>\n",
       "      <td>0</td>\n",
       "      <td>0</td>\n",
       "    </tr>\n",
       "    <tr>\n",
       "      <th>505</th>\n",
       "      <td>Wyoming Premium Farms 2 Digester</td>\n",
       "      <td>Farm Scale</td>\n",
       "      <td>Wheatland</td>\n",
       "      <td>Platte</td>\n",
       "      <td>WY</td>\n",
       "      <td>Complete Mix</td>\n",
       "      <td>Shut down</td>\n",
       "      <td>2004.0</td>\n",
       "      <td>Swine</td>\n",
       "      <td>0</td>\n",
       "      <td>...</td>\n",
       "      <td>0</td>\n",
       "      <td>18000</td>\n",
       "      <td>0</td>\n",
       "      <td>0</td>\n",
       "      <td>1340280</td>\n",
       "      <td>Electricity</td>\n",
       "      <td>AG Engineering, Inc. [System Design Engineer];...</td>\n",
       "      <td>0</td>\n",
       "      <td>0</td>\n",
       "      <td>0</td>\n",
       "    </tr>\n",
       "  </tbody>\n",
       "</table>\n",
       "<p>506 rows × 21 columns</p>\n",
       "</div>"
      ],
      "text/plain": [
       "                            Project Name Project Type         City    County  \\\n",
       "0    Cargill - Sandy River Farm Digester   Farm Scale    Morrilton    Conway   \n",
       "1               Butterfield RNG Digester   Farm Scale      Buckeye  Maricopa   \n",
       "2         Caballero Dairy Farms Digester   Farm Scale         Eloy     Pinal   \n",
       "3                  Paloma Dairy Digester   Farm Scale    Gila Bend  Maricopa   \n",
       "4          Stotz Southern Dairy Digester   Farm Scale      Buckeye  Maricopa   \n",
       "..                                   ...          ...          ...       ...   \n",
       "501              Norswiss Farms Digester   Farm Scale    Rice Lake    Barron   \n",
       "502               Quantum Dairy Digester   Farm Scale    Weyauwega   Waupaca   \n",
       "503                Stencil Farm Digester   Farm Scale      Denmark     Brown   \n",
       "504              Tinedale Farms Digester   Farm Scale  Wrightstown   Jackson   \n",
       "505     Wyoming Premium Farms 2 Digester   Farm Scale    Wheatland    Platte   \n",
       "\n",
       "    State              Digester Type        Status  Year Operational Animal  \\\n",
       "0      AR             Covered Lagoon   Operational            2008.0  Swine   \n",
       "1      AZ            Mixed Plug Flow  Construction            2021.0  Dairy   \n",
       "2      AZ     Unknown or Unspecified  Construction            2022.0  Dairy   \n",
       "3      AZ               Complete Mix   Operational            2021.0  Dairy   \n",
       "4      AZ             Covered Lagoon   Operational            2011.0  Dairy   \n",
       "..    ...                        ...           ...               ...    ...   \n",
       "501    WI               Complete Mix     Shut down            2006.0  Dairy   \n",
       "502    WI            Mixed Plug Flow     Shut down            2005.0  Dairy   \n",
       "503    WI       Horizontal Plug Flow     Shut down            2002.0  Dairy   \n",
       "504    WI  Fixed Film/Attached Media     Shut down            1999.0  Dairy   \n",
       "505    WY               Complete Mix     Shut down            2004.0  Swine   \n",
       "\n",
       "    Cattle  ...  Poultry  Swine  \\\n",
       "0        0  ...        0   4200   \n",
       "1        0  ...        0      0   \n",
       "2        0  ...        0      0   \n",
       "3        0  ...        0      0   \n",
       "4        0  ...        0      0   \n",
       "..     ...  ...      ...    ...   \n",
       "501      0  ...        0      0   \n",
       "502      0  ...        0      0   \n",
       "503      0  ...        0      0   \n",
       "504      0  ...        0      0   \n",
       "505      0  ...        0  18000   \n",
       "\n",
       "                                           Codigestion Biogas_gen_ft3_day  \\\n",
       "0                                                    0            1814400   \n",
       "1                                                    0                  0   \n",
       "2                                                    0                  0   \n",
       "3                                                    0                  0   \n",
       "4                                                    0                  0   \n",
       "..                                                 ...                ...   \n",
       "501  Dairy Processing Wastes; Fats, Oils, Greases; ...            2908000   \n",
       "502                                                  0                  0   \n",
       "503                                                  0                  0   \n",
       "504                                                  0             200000   \n",
       "505                                                  0                  0   \n",
       "\n",
       "      Electricity Generated (kWh/yr)                     Biogas_End_Use  \\\n",
       "0                                   0                  Flared Full-time   \n",
       "1                                   0                      Pipeline Gas   \n",
       "2                                   0                      Pipeline Gas   \n",
       "3                                   0                               CNG   \n",
       "4                             5256000                       Electricity   \n",
       "..                                ...                               ...   \n",
       "501                           6450000                       Electricity   \n",
       "502                           3350700                      Cogeneration   \n",
       "503                            946080                       Electricity   \n",
       "504                           5584500  Electricity; Boiler/Furnace fuel   \n",
       "505                           1340280                       Electricity   \n",
       "\n",
       "        System Designer(s)_Developer(s) and Affiliates  \\\n",
       "0    Martin Construction Resource LLC (formerly RCM...   \n",
       "1    Avolta [Project Developer]; DVO, Inc. (formerl...   \n",
       "2                       Brightmark [Project Developer]   \n",
       "3    Black Bear Environmental Assets [Project Devel...   \n",
       "4    Chapel Street Environmental [System Design Eng...   \n",
       "..                                                 ...   \n",
       "501       Microgy [Project Developer, System Designer]   \n",
       "502  DVO, Inc. (formerly GHD, Inc.) [Project Develo...   \n",
       "503  Martin Construction Resource LLC (formerly RCM...   \n",
       "504  AGES [Project Developer, System Designer, Syst...   \n",
       "505  AG Engineering, Inc. [System Design Engineer];...   \n",
       "\n",
       "                                Receiving Utility  \\\n",
       "0                                               0   \n",
       "1                                   Southwest Gas   \n",
       "2                                               0   \n",
       "3                           Southwest Gas Company   \n",
       "4                          Arizona Public Service   \n",
       "..                                            ...   \n",
       "501  Dairyland Power Cooperative; Barron Electric   \n",
       "502                             WE Energies, Inc.   \n",
       "503          Wisconsin Public Service Corporation   \n",
       "504                                             0   \n",
       "505                                             0   \n",
       "\n",
       "     Total Emission Reductions (MTCO2e/yr)  Awarded USDA Funding?  \n",
       "0                                     4,002                     0  \n",
       "1                                    29,826                     Y  \n",
       "2                                    89,518                     0  \n",
       "3                                    89,794                     0  \n",
       "4                                   138,787                     0  \n",
       "..                                      ...                   ...  \n",
       "501                                       0                     Y  \n",
       "502                                       0                     Y  \n",
       "503                                       0                     0  \n",
       "504                                       0                     0  \n",
       "505                                       0                     0  \n",
       "\n",
       "[506 rows x 21 columns]"
      ]
     },
     "execution_count": 99,
     "metadata": {},
     "output_type": "execute_result"
    }
   ],
   "source": [
    "df9"
   ]
  },
  {
   "cell_type": "code",
   "execution_count": 100,
   "metadata": {},
   "outputs": [
    {
     "data": {
      "text/plain": [
       "Index(['Project Name', 'Project Type', 'City', 'County', 'State',\n",
       "       'Digester Type', 'Status', 'Year Operational', 'Animal', 'Cattle',\n",
       "       'Dairy', 'Poultry', 'Swine', 'Codigestion', 'Biogas_gen_ft3_day',\n",
       "       ' Electricity Generated (kWh/yr) ', 'Biogas_End_Use',\n",
       "       'System Designer(s)_Developer(s) and Affiliates', 'Receiving Utility',\n",
       "       ' Total Emission Reductions (MTCO2e/yr) ', 'Awarded USDA Funding?'],\n",
       "      dtype='object')"
      ]
     },
     "execution_count": 100,
     "metadata": {},
     "output_type": "execute_result"
    }
   ],
   "source": [
    "df9.columns"
   ]
  },
  {
   "cell_type": "code",
   "execution_count": 101,
   "metadata": {},
   "outputs": [
    {
     "name": "stderr",
     "output_type": "stream",
     "text": [
      "C:\\Users\\lcsoko\\AppData\\Local\\Temp\\ipykernel_12912\\3026402764.py:1: UserWarning: Pandas doesn't allow columns to be created via a new attribute name - see https://pandas.pydata.org/pandas-docs/stable/indexing.html#attribute-access\n",
      "  df.bayes = df9[[\"Digester Type\",\"Dairy\",\"Biogas_gen_ft3_day\"]].copy()\n"
     ]
    }
   ],
   "source": [
    "df.bayes = df9[[\"Digester Type\",\"Dairy\",\"Biogas_gen_ft3_day\"]].copy()"
   ]
  },
  {
   "cell_type": "code",
   "execution_count": 102,
   "metadata": {},
   "outputs": [
    {
     "data": {
      "text/plain": [
       "array(['Covered Lagoon', 'Mixed Plug Flow', 'Unknown or Unspecified',\n",
       "       'Complete Mix', 'Horizontal Plug Flow', 0,\n",
       "       'Fixed Film/Attached Media',\n",
       "       'Primary digester tank with secondary covered lagoon',\n",
       "       'Induced Blanket Reactor', 'Anaerobic Sequencing Batch Reactor',\n",
       "       'Vertical Plug Flow', 'Complete Mix Mini Digester',\n",
       "       'Plug Flow - Unspecified', 'Dry Digester', 'Modular Plug Flow',\n",
       "       'Microdigester'], dtype=object)"
      ]
     },
     "execution_count": 102,
     "metadata": {},
     "output_type": "execute_result"
    }
   ],
   "source": [
    "df.bayes[\"Digester Type\"].unique()"
   ]
  },
  {
   "cell_type": "code",
   "execution_count": 103,
   "metadata": {},
   "outputs": [
    {
     "name": "stderr",
     "output_type": "stream",
     "text": [
      "C:\\Users\\lcsoko\\AppData\\Local\\Temp\\ipykernel_12912\\1780971751.py:6: SettingWithCopyWarning: \n",
      "A value is trying to be set on a copy of a slice from a DataFrame\n",
      "\n",
      "See the caveats in the documentation: https://pandas.pydata.org/pandas-docs/stable/user_guide/indexing.html#returning-a-view-versus-a-copy\n",
      "  df.bayes.drop(df.bayes[(df.bayes['Biogas_gen_ft3_day'] == 0)].index, inplace = True)\n",
      "C:\\Users\\lcsoko\\AppData\\Local\\Temp\\ipykernel_12912\\1780971751.py:7: SettingWithCopyWarning: \n",
      "A value is trying to be set on a copy of a slice from a DataFrame\n",
      "\n",
      "See the caveats in the documentation: https://pandas.pydata.org/pandas-docs/stable/user_guide/indexing.html#returning-a-view-versus-a-copy\n",
      "  df.bayes.drop(df.bayes[(df.bayes['Dairy'] == 0)].index, inplace = True)\n"
     ]
    }
   ],
   "source": [
    "#I want 'Covered Lagoon', 'Mixed Plug Flow','Complete Mix','Horizontal Plug Flow','Vertical Plug Flow','Plug Flow - Unspecified'\n",
    "\n",
    "notwant = ['Unknown or Unspecified', 0,'Fixed Film/Attached Media','Primary digester tank with secondary covered lagoon','Induced Blanket Reactor', 'Anaerobic Sequencing Batch Reactor', 'Complete Mix Mini Digester','Dry Digester', 'Modular Plug Flow','Microdigester']\n",
    "\n",
    "df.bayes = df.bayes[~df.bayes['Digester Type'].isin(notwant)]\n",
    "df.bayes.drop(df.bayes[(df.bayes['Biogas_gen_ft3_day'] == 0)].index, inplace = True)\n",
    "df.bayes.drop(df.bayes[(df.bayes['Dairy'] == 0)].index, inplace = True)"
   ]
  },
  {
   "cell_type": "code",
   "execution_count": 213,
   "metadata": {},
   "outputs": [
    {
     "data": {
      "text/html": [
       "<div>\n",
       "<style scoped>\n",
       "    .dataframe tbody tr th:only-of-type {\n",
       "        vertical-align: middle;\n",
       "    }\n",
       "\n",
       "    .dataframe tbody tr th {\n",
       "        vertical-align: top;\n",
       "    }\n",
       "\n",
       "    .dataframe thead th {\n",
       "        text-align: right;\n",
       "    }\n",
       "</style>\n",
       "<table border=\"1\" class=\"dataframe\">\n",
       "  <thead>\n",
       "    <tr style=\"text-align: right;\">\n",
       "      <th></th>\n",
       "      <th>Digester Type</th>\n",
       "      <th>Dairy</th>\n",
       "      <th>Biogas_gen_ft3_day</th>\n",
       "      <th>biogas/dairy</th>\n",
       "    </tr>\n",
       "  </thead>\n",
       "  <tbody>\n",
       "    <tr>\n",
       "      <th>0</th>\n",
       "      <td>1</td>\n",
       "      <td>15500</td>\n",
       "      <td>600000</td>\n",
       "      <td>38.709677</td>\n",
       "    </tr>\n",
       "    <tr>\n",
       "      <th>1</th>\n",
       "      <td>1</td>\n",
       "      <td>1700</td>\n",
       "      <td>50000</td>\n",
       "      <td>29.411765</td>\n",
       "    </tr>\n",
       "    <tr>\n",
       "      <th>2</th>\n",
       "      <td>1</td>\n",
       "      <td>9700</td>\n",
       "      <td>270000</td>\n",
       "      <td>27.835052</td>\n",
       "    </tr>\n",
       "    <tr>\n",
       "      <th>3</th>\n",
       "      <td>1</td>\n",
       "      <td>7000</td>\n",
       "      <td>360000</td>\n",
       "      <td>51.428571</td>\n",
       "    </tr>\n",
       "    <tr>\n",
       "      <th>4</th>\n",
       "      <td>1</td>\n",
       "      <td>400</td>\n",
       "      <td>30000</td>\n",
       "      <td>75.000000</td>\n",
       "    </tr>\n",
       "    <tr>\n",
       "      <th>...</th>\n",
       "      <td>...</td>\n",
       "      <td>...</td>\n",
       "      <td>...</td>\n",
       "      <td>...</td>\n",
       "    </tr>\n",
       "    <tr>\n",
       "      <th>108</th>\n",
       "      <td>3</td>\n",
       "      <td>10000</td>\n",
       "      <td>2739726</td>\n",
       "      <td>273.972600</td>\n",
       "    </tr>\n",
       "    <tr>\n",
       "      <th>109</th>\n",
       "      <td>2</td>\n",
       "      <td>455</td>\n",
       "      <td>14000</td>\n",
       "      <td>30.769231</td>\n",
       "    </tr>\n",
       "    <tr>\n",
       "      <th>110</th>\n",
       "      <td>2</td>\n",
       "      <td>380</td>\n",
       "      <td>37500</td>\n",
       "      <td>98.684211</td>\n",
       "    </tr>\n",
       "    <tr>\n",
       "      <th>111</th>\n",
       "      <td>3</td>\n",
       "      <td>350</td>\n",
       "      <td>33450</td>\n",
       "      <td>95.571429</td>\n",
       "    </tr>\n",
       "    <tr>\n",
       "      <th>112</th>\n",
       "      <td>3</td>\n",
       "      <td>1240</td>\n",
       "      <td>2908000</td>\n",
       "      <td>2345.161290</td>\n",
       "    </tr>\n",
       "  </tbody>\n",
       "</table>\n",
       "<p>113 rows × 4 columns</p>\n",
       "</div>"
      ],
      "text/plain": [
       "     Digester Type  Dairy  Biogas_gen_ft3_day  biogas/dairy\n",
       "0                1  15500              600000     38.709677\n",
       "1                1   1700               50000     29.411765\n",
       "2                1   9700              270000     27.835052\n",
       "3                1   7000              360000     51.428571\n",
       "4                1    400               30000     75.000000\n",
       "..             ...    ...                 ...           ...\n",
       "108              3  10000             2739726    273.972600\n",
       "109              2    455               14000     30.769231\n",
       "110              2    380               37500     98.684211\n",
       "111              3    350               33450     95.571429\n",
       "112              3   1240             2908000   2345.161290\n",
       "\n",
       "[113 rows x 4 columns]"
      ]
     },
     "execution_count": 213,
     "metadata": {},
     "output_type": "execute_result"
    }
   ],
   "source": [
    "df.bayes"
   ]
  },
  {
   "cell_type": "code",
   "execution_count": 214,
   "metadata": {},
   "outputs": [],
   "source": [
    "df.bayes=df.bayes.reset_index(drop=True)\n"
   ]
  },
  {
   "cell_type": "markdown",
   "metadata": {},
   "source": [
    "To simplify the machine learning, I number coded the anaerobic digester types where 1 = covered lagoon, 2 = plug flow, and 3 = complete mix. Machine learning wizards may bully me for this, but I am a mere machine learning novice."
   ]
  },
  {
   "cell_type": "code",
   "execution_count": 215,
   "metadata": {},
   "outputs": [],
   "source": [
    "df.bayes[\"Digester Type\"].replace('Covered Lagoon',1, inplace = True)\n",
    "df.bayes[\"Digester Type\"].replace('Mixed Plug Flow',2, inplace =True)\n",
    "df.bayes[\"Digester Type\"].replace('Horizontal Plug Flow',2, inplace = True)\n",
    "df.bayes[\"Digester Type\"].replace('Vertical Plug Flow',2, inplace = True)\n",
    "df.bayes[\"Digester Type\"].replace('Plug Flow - Unspecified',2,inplace = True)\n",
    "df.bayes[\"Digester Type\"].replace('Complete Mix',3,inplace = True)"
   ]
  },
  {
   "cell_type": "code",
   "execution_count": 216,
   "metadata": {},
   "outputs": [
    {
     "data": {
      "text/html": [
       "<div>\n",
       "<style scoped>\n",
       "    .dataframe tbody tr th:only-of-type {\n",
       "        vertical-align: middle;\n",
       "    }\n",
       "\n",
       "    .dataframe tbody tr th {\n",
       "        vertical-align: top;\n",
       "    }\n",
       "\n",
       "    .dataframe thead th {\n",
       "        text-align: right;\n",
       "    }\n",
       "</style>\n",
       "<table border=\"1\" class=\"dataframe\">\n",
       "  <thead>\n",
       "    <tr style=\"text-align: right;\">\n",
       "      <th></th>\n",
       "      <th>Digester Type</th>\n",
       "      <th>Dairy</th>\n",
       "      <th>Biogas_gen_ft3_day</th>\n",
       "      <th>biogas/dairy</th>\n",
       "    </tr>\n",
       "  </thead>\n",
       "  <tbody>\n",
       "    <tr>\n",
       "      <th>0</th>\n",
       "      <td>1</td>\n",
       "      <td>15500</td>\n",
       "      <td>600000</td>\n",
       "      <td>38.709677</td>\n",
       "    </tr>\n",
       "    <tr>\n",
       "      <th>1</th>\n",
       "      <td>1</td>\n",
       "      <td>1700</td>\n",
       "      <td>50000</td>\n",
       "      <td>29.411765</td>\n",
       "    </tr>\n",
       "    <tr>\n",
       "      <th>2</th>\n",
       "      <td>1</td>\n",
       "      <td>9700</td>\n",
       "      <td>270000</td>\n",
       "      <td>27.835052</td>\n",
       "    </tr>\n",
       "    <tr>\n",
       "      <th>3</th>\n",
       "      <td>1</td>\n",
       "      <td>7000</td>\n",
       "      <td>360000</td>\n",
       "      <td>51.428571</td>\n",
       "    </tr>\n",
       "    <tr>\n",
       "      <th>4</th>\n",
       "      <td>1</td>\n",
       "      <td>400</td>\n",
       "      <td>30000</td>\n",
       "      <td>75.000000</td>\n",
       "    </tr>\n",
       "    <tr>\n",
       "      <th>...</th>\n",
       "      <td>...</td>\n",
       "      <td>...</td>\n",
       "      <td>...</td>\n",
       "      <td>...</td>\n",
       "    </tr>\n",
       "    <tr>\n",
       "      <th>108</th>\n",
       "      <td>3</td>\n",
       "      <td>10000</td>\n",
       "      <td>2739726</td>\n",
       "      <td>273.972600</td>\n",
       "    </tr>\n",
       "    <tr>\n",
       "      <th>109</th>\n",
       "      <td>2</td>\n",
       "      <td>455</td>\n",
       "      <td>14000</td>\n",
       "      <td>30.769231</td>\n",
       "    </tr>\n",
       "    <tr>\n",
       "      <th>110</th>\n",
       "      <td>2</td>\n",
       "      <td>380</td>\n",
       "      <td>37500</td>\n",
       "      <td>98.684211</td>\n",
       "    </tr>\n",
       "    <tr>\n",
       "      <th>111</th>\n",
       "      <td>3</td>\n",
       "      <td>350</td>\n",
       "      <td>33450</td>\n",
       "      <td>95.571429</td>\n",
       "    </tr>\n",
       "    <tr>\n",
       "      <th>112</th>\n",
       "      <td>3</td>\n",
       "      <td>1240</td>\n",
       "      <td>2908000</td>\n",
       "      <td>2345.161290</td>\n",
       "    </tr>\n",
       "  </tbody>\n",
       "</table>\n",
       "<p>113 rows × 4 columns</p>\n",
       "</div>"
      ],
      "text/plain": [
       "     Digester Type  Dairy  Biogas_gen_ft3_day  biogas/dairy\n",
       "0                1  15500              600000     38.709677\n",
       "1                1   1700               50000     29.411765\n",
       "2                1   9700              270000     27.835052\n",
       "3                1   7000              360000     51.428571\n",
       "4                1    400               30000     75.000000\n",
       "..             ...    ...                 ...           ...\n",
       "108              3  10000             2739726    273.972600\n",
       "109              2    455               14000     30.769231\n",
       "110              2    380               37500     98.684211\n",
       "111              3    350               33450     95.571429\n",
       "112              3   1240             2908000   2345.161290\n",
       "\n",
       "[113 rows x 4 columns]"
      ]
     },
     "execution_count": 216,
     "metadata": {},
     "output_type": "execute_result"
    }
   ],
   "source": [
    "df.bayes"
   ]
  },
  {
   "cell_type": "code",
   "execution_count": 217,
   "metadata": {},
   "outputs": [],
   "source": [
    "df.bayes['biogas/dairy'] = df.bayes['Biogas_gen_ft3_day']/df.bayes['Dairy']"
   ]
  },
  {
   "cell_type": "markdown",
   "metadata": {},
   "source": [
    "There are a couple outlandish biogas/dairy values. I filter the data so all data machine learned has biogas/dairy values within 2 standard deviations."
   ]
  },
  {
   "cell_type": "code",
   "execution_count": 218,
   "metadata": {},
   "outputs": [],
   "source": [
    "def pred_filter(data):\n",
    "    Y_upper = np.percentile(data['biogas/dairy'], 97.5)\n",
    "    Y_lower = np.percentile(data['biogas/dairy'], 2.5)\n",
    "    filtered_hist_data = data[(data['biogas/dairy'] >= Y_lower) & (data['biogas/dairy'] <= Y_upper)]\n",
    "    return filtered_hist_data"
   ]
  },
  {
   "cell_type": "code",
   "execution_count": 219,
   "metadata": {},
   "outputs": [
    {
     "data": {
      "text/html": [
       "<div>\n",
       "<style scoped>\n",
       "    .dataframe tbody tr th:only-of-type {\n",
       "        vertical-align: middle;\n",
       "    }\n",
       "\n",
       "    .dataframe tbody tr th {\n",
       "        vertical-align: top;\n",
       "    }\n",
       "\n",
       "    .dataframe thead th {\n",
       "        text-align: right;\n",
       "    }\n",
       "</style>\n",
       "<table border=\"1\" class=\"dataframe\">\n",
       "  <thead>\n",
       "    <tr style=\"text-align: right;\">\n",
       "      <th></th>\n",
       "      <th>Digester Type</th>\n",
       "      <th>Dairy</th>\n",
       "      <th>Biogas_gen_ft3_day</th>\n",
       "      <th>biogas/dairy</th>\n",
       "    </tr>\n",
       "  </thead>\n",
       "  <tbody>\n",
       "    <tr>\n",
       "      <th>0</th>\n",
       "      <td>1</td>\n",
       "      <td>15500</td>\n",
       "      <td>600000</td>\n",
       "      <td>38.709677</td>\n",
       "    </tr>\n",
       "    <tr>\n",
       "      <th>1</th>\n",
       "      <td>1</td>\n",
       "      <td>1700</td>\n",
       "      <td>50000</td>\n",
       "      <td>29.411765</td>\n",
       "    </tr>\n",
       "    <tr>\n",
       "      <th>2</th>\n",
       "      <td>1</td>\n",
       "      <td>9700</td>\n",
       "      <td>270000</td>\n",
       "      <td>27.835052</td>\n",
       "    </tr>\n",
       "    <tr>\n",
       "      <th>3</th>\n",
       "      <td>1</td>\n",
       "      <td>7000</td>\n",
       "      <td>360000</td>\n",
       "      <td>51.428571</td>\n",
       "    </tr>\n",
       "    <tr>\n",
       "      <th>4</th>\n",
       "      <td>1</td>\n",
       "      <td>400</td>\n",
       "      <td>30000</td>\n",
       "      <td>75.000000</td>\n",
       "    </tr>\n",
       "    <tr>\n",
       "      <th>...</th>\n",
       "      <td>...</td>\n",
       "      <td>...</td>\n",
       "      <td>...</td>\n",
       "      <td>...</td>\n",
       "    </tr>\n",
       "    <tr>\n",
       "      <th>107</th>\n",
       "      <td>1</td>\n",
       "      <td>980</td>\n",
       "      <td>47000</td>\n",
       "      <td>47.959184</td>\n",
       "    </tr>\n",
       "    <tr>\n",
       "      <th>108</th>\n",
       "      <td>3</td>\n",
       "      <td>10000</td>\n",
       "      <td>2739726</td>\n",
       "      <td>273.972600</td>\n",
       "    </tr>\n",
       "    <tr>\n",
       "      <th>109</th>\n",
       "      <td>2</td>\n",
       "      <td>455</td>\n",
       "      <td>14000</td>\n",
       "      <td>30.769231</td>\n",
       "    </tr>\n",
       "    <tr>\n",
       "      <th>110</th>\n",
       "      <td>2</td>\n",
       "      <td>380</td>\n",
       "      <td>37500</td>\n",
       "      <td>98.684211</td>\n",
       "    </tr>\n",
       "    <tr>\n",
       "      <th>111</th>\n",
       "      <td>3</td>\n",
       "      <td>350</td>\n",
       "      <td>33450</td>\n",
       "      <td>95.571429</td>\n",
       "    </tr>\n",
       "  </tbody>\n",
       "</table>\n",
       "<p>107 rows × 4 columns</p>\n",
       "</div>"
      ],
      "text/plain": [
       "     Digester Type  Dairy  Biogas_gen_ft3_day  biogas/dairy\n",
       "0                1  15500              600000     38.709677\n",
       "1                1   1700               50000     29.411765\n",
       "2                1   9700              270000     27.835052\n",
       "3                1   7000              360000     51.428571\n",
       "4                1    400               30000     75.000000\n",
       "..             ...    ...                 ...           ...\n",
       "107              1    980               47000     47.959184\n",
       "108              3  10000             2739726    273.972600\n",
       "109              2    455               14000     30.769231\n",
       "110              2    380               37500     98.684211\n",
       "111              3    350               33450     95.571429\n",
       "\n",
       "[107 rows x 4 columns]"
      ]
     },
     "execution_count": 219,
     "metadata": {},
     "output_type": "execute_result"
    }
   ],
   "source": [
    "pred_filter(df.bayes)"
   ]
  },
  {
   "cell_type": "code",
   "execution_count": 220,
   "metadata": {},
   "outputs": [],
   "source": [
    "df_bayes_clean = pred_filter(df.bayes).drop(columns=['biogas/dairy'])"
   ]
  },
  {
   "cell_type": "code",
   "execution_count": 221,
   "metadata": {},
   "outputs": [
    {
     "data": {
      "text/html": [
       "<div>\n",
       "<style scoped>\n",
       "    .dataframe tbody tr th:only-of-type {\n",
       "        vertical-align: middle;\n",
       "    }\n",
       "\n",
       "    .dataframe tbody tr th {\n",
       "        vertical-align: top;\n",
       "    }\n",
       "\n",
       "    .dataframe thead th {\n",
       "        text-align: right;\n",
       "    }\n",
       "</style>\n",
       "<table border=\"1\" class=\"dataframe\">\n",
       "  <thead>\n",
       "    <tr style=\"text-align: right;\">\n",
       "      <th></th>\n",
       "      <th>Digester Type</th>\n",
       "      <th>Dairy</th>\n",
       "      <th>Biogas_gen_ft3_day</th>\n",
       "    </tr>\n",
       "  </thead>\n",
       "  <tbody>\n",
       "    <tr>\n",
       "      <th>0</th>\n",
       "      <td>1</td>\n",
       "      <td>15500</td>\n",
       "      <td>600000</td>\n",
       "    </tr>\n",
       "    <tr>\n",
       "      <th>1</th>\n",
       "      <td>1</td>\n",
       "      <td>1700</td>\n",
       "      <td>50000</td>\n",
       "    </tr>\n",
       "    <tr>\n",
       "      <th>2</th>\n",
       "      <td>1</td>\n",
       "      <td>9700</td>\n",
       "      <td>270000</td>\n",
       "    </tr>\n",
       "    <tr>\n",
       "      <th>3</th>\n",
       "      <td>1</td>\n",
       "      <td>7000</td>\n",
       "      <td>360000</td>\n",
       "    </tr>\n",
       "    <tr>\n",
       "      <th>4</th>\n",
       "      <td>1</td>\n",
       "      <td>400</td>\n",
       "      <td>30000</td>\n",
       "    </tr>\n",
       "    <tr>\n",
       "      <th>...</th>\n",
       "      <td>...</td>\n",
       "      <td>...</td>\n",
       "      <td>...</td>\n",
       "    </tr>\n",
       "    <tr>\n",
       "      <th>107</th>\n",
       "      <td>1</td>\n",
       "      <td>980</td>\n",
       "      <td>47000</td>\n",
       "    </tr>\n",
       "    <tr>\n",
       "      <th>108</th>\n",
       "      <td>3</td>\n",
       "      <td>10000</td>\n",
       "      <td>2739726</td>\n",
       "    </tr>\n",
       "    <tr>\n",
       "      <th>109</th>\n",
       "      <td>2</td>\n",
       "      <td>455</td>\n",
       "      <td>14000</td>\n",
       "    </tr>\n",
       "    <tr>\n",
       "      <th>110</th>\n",
       "      <td>2</td>\n",
       "      <td>380</td>\n",
       "      <td>37500</td>\n",
       "    </tr>\n",
       "    <tr>\n",
       "      <th>111</th>\n",
       "      <td>3</td>\n",
       "      <td>350</td>\n",
       "      <td>33450</td>\n",
       "    </tr>\n",
       "  </tbody>\n",
       "</table>\n",
       "<p>107 rows × 3 columns</p>\n",
       "</div>"
      ],
      "text/plain": [
       "     Digester Type  Dairy  Biogas_gen_ft3_day\n",
       "0                1  15500              600000\n",
       "1                1   1700               50000\n",
       "2                1   9700              270000\n",
       "3                1   7000              360000\n",
       "4                1    400               30000\n",
       "..             ...    ...                 ...\n",
       "107              1    980               47000\n",
       "108              3  10000             2739726\n",
       "109              2    455               14000\n",
       "110              2    380               37500\n",
       "111              3    350               33450\n",
       "\n",
       "[107 rows x 3 columns]"
      ]
     },
     "execution_count": 221,
     "metadata": {},
     "output_type": "execute_result"
    }
   ],
   "source": [
    "df_bayes_clean"
   ]
  },
  {
   "cell_type": "code",
   "execution_count": 222,
   "metadata": {},
   "outputs": [],
   "source": [
    "X1 = df_bayes_clean.drop([\"Biogas_gen_ft3_day\"], axis = 1)\n",
    "Y1 = df_bayes_clean[\"Biogas_gen_ft3_day\"]"
   ]
  },
  {
   "cell_type": "code",
   "execution_count": 223,
   "metadata": {},
   "outputs": [],
   "source": [
    "x_train1, x_test1, y_train1, y_test1 = train_test_split(X1, Y1, random_state = 1)"
   ]
  },
  {
   "cell_type": "code",
   "execution_count": 224,
   "metadata": {},
   "outputs": [],
   "source": [
    "x_train1 = np.array(x_train1)\n",
    "y_train1 = np.array(y_train1).squeeze()"
   ]
  },
  {
   "cell_type": "code",
   "execution_count": 225,
   "metadata": {},
   "outputs": [
    {
     "data": {
      "text/plain": [
       "MultinomialNB()"
      ]
     },
     "execution_count": 225,
     "metadata": {},
     "output_type": "execute_result"
    }
   ],
   "source": [
    "nb.fit(x_train1, y_train1)"
   ]
  },
  {
   "cell_type": "code",
   "execution_count": 226,
   "metadata": {},
   "outputs": [
    {
     "name": "stderr",
     "output_type": "stream",
     "text": [
      "C:\\ProgramData\\Anaconda3\\lib\\site-packages\\sklearn\\base.py:443: UserWarning: X has feature names, but MultinomialNB was fitted without feature names\n",
      "  warnings.warn(\n"
     ]
    }
   ],
   "source": [
    "y_predicted = nb.predict(x_test1)"
   ]
  },
  {
   "cell_type": "code",
   "execution_count": 227,
   "metadata": {},
   "outputs": [
    {
     "data": {
      "text/plain": [
       "0.037037037037037035"
      ]
     },
     "execution_count": 227,
     "metadata": {},
     "output_type": "execute_result"
    }
   ],
   "source": [
    "accuracy_score(y_test1, y_predicted)"
   ]
  },
  {
   "cell_type": "code",
   "execution_count": 228,
   "metadata": {},
   "outputs": [
    {
     "data": {
      "text/plain": [
       "array([132000])"
      ]
     },
     "execution_count": 228,
     "metadata": {},
     "output_type": "execute_result"
    }
   ],
   "source": [
    "nb.predict([[2,500]])"
   ]
  },
  {
   "cell_type": "code",
   "execution_count": 229,
   "metadata": {},
   "outputs": [
    {
     "data": {
      "text/plain": [
       "11778.084345590833"
      ]
     },
     "execution_count": 229,
     "metadata": {},
     "output_type": "execute_result"
    }
   ],
   "source": [
    "mean_squared_error(y_test1, y_predicted, squared = False)"
   ]
  },
  {
   "cell_type": "code",
   "execution_count": 230,
   "metadata": {},
   "outputs": [],
   "source": [
    "def biogas_pred_nb(digester_type,dairy):\n",
    "    biogas = nb.predict([[digester_type,dairy]])\n",
    "    dairy_eff = nb.predict([[digester_type,dairy]])/dairy/101.336\n",
    "    return biogas, dairy_eff"
   ]
  },
  {
   "cell_type": "markdown",
   "metadata": {},
   "source": [
    "Predicting ft3 biogas/day (output 1) and digester efficiency (output 2) using Naive Bayes machine learning where input 1 is digester type (1 is impermeable cover, 2 is plug flow, 3 is complete mix) and input 2 is number of dairy"
   ]
  },
  {
   "cell_type": "code",
   "execution_count": 290,
   "metadata": {},
   "outputs": [
    {
     "data": {
      "text/plain": [
       "(array([1200000]), array([2.36835873]))"
      ]
     },
     "execution_count": 290,
     "metadata": {},
     "output_type": "execute_result"
    }
   ],
   "source": [
    "biogas_pred_nb(2,5000)"
   ]
  },
  {
   "cell_type": "code",
   "execution_count": 291,
   "metadata": {},
   "outputs": [
    {
     "data": {
      "text/plain": [
       "(array([1200000]), array([2.36835873]))"
      ]
     },
     "execution_count": 291,
     "metadata": {},
     "output_type": "execute_result"
    }
   ],
   "source": [
    "biogas_pred_nb(1,5000)"
   ]
  },
  {
   "cell_type": "code",
   "execution_count": 292,
   "metadata": {},
   "outputs": [
    {
     "data": {
      "text/plain": [
       "(array([432000]), array([0.85260914]))"
      ]
     },
     "execution_count": 292,
     "metadata": {},
     "output_type": "execute_result"
    }
   ],
   "source": [
    "biogas_pred_nb(3,5000)"
   ]
  },
  {
   "cell_type": "markdown",
   "metadata": {},
   "source": [
    "# Random Forest\n"
   ]
  },
  {
   "cell_type": "markdown",
   "metadata": {},
   "source": [
    "Random forest machine learning is completed in this section to predict the daily biogas production from an inputted number of dairy cows and an inputted digester type. "
   ]
  },
  {
   "cell_type": "code",
   "execution_count": 234,
   "metadata": {},
   "outputs": [],
   "source": [
    "df_forest_clean = df_bayes_clean"
   ]
  },
  {
   "cell_type": "code",
   "execution_count": 235,
   "metadata": {},
   "outputs": [
    {
     "data": {
      "text/html": [
       "<div>\n",
       "<style scoped>\n",
       "    .dataframe tbody tr th:only-of-type {\n",
       "        vertical-align: middle;\n",
       "    }\n",
       "\n",
       "    .dataframe tbody tr th {\n",
       "        vertical-align: top;\n",
       "    }\n",
       "\n",
       "    .dataframe thead th {\n",
       "        text-align: right;\n",
       "    }\n",
       "</style>\n",
       "<table border=\"1\" class=\"dataframe\">\n",
       "  <thead>\n",
       "    <tr style=\"text-align: right;\">\n",
       "      <th></th>\n",
       "      <th>Digester Type</th>\n",
       "      <th>Dairy</th>\n",
       "      <th>Biogas_gen_ft3_day</th>\n",
       "    </tr>\n",
       "  </thead>\n",
       "  <tbody>\n",
       "    <tr>\n",
       "      <th>0</th>\n",
       "      <td>1</td>\n",
       "      <td>15500</td>\n",
       "      <td>600000</td>\n",
       "    </tr>\n",
       "    <tr>\n",
       "      <th>1</th>\n",
       "      <td>1</td>\n",
       "      <td>1700</td>\n",
       "      <td>50000</td>\n",
       "    </tr>\n",
       "    <tr>\n",
       "      <th>2</th>\n",
       "      <td>1</td>\n",
       "      <td>9700</td>\n",
       "      <td>270000</td>\n",
       "    </tr>\n",
       "    <tr>\n",
       "      <th>3</th>\n",
       "      <td>1</td>\n",
       "      <td>7000</td>\n",
       "      <td>360000</td>\n",
       "    </tr>\n",
       "    <tr>\n",
       "      <th>4</th>\n",
       "      <td>1</td>\n",
       "      <td>400</td>\n",
       "      <td>30000</td>\n",
       "    </tr>\n",
       "    <tr>\n",
       "      <th>...</th>\n",
       "      <td>...</td>\n",
       "      <td>...</td>\n",
       "      <td>...</td>\n",
       "    </tr>\n",
       "    <tr>\n",
       "      <th>107</th>\n",
       "      <td>1</td>\n",
       "      <td>980</td>\n",
       "      <td>47000</td>\n",
       "    </tr>\n",
       "    <tr>\n",
       "      <th>108</th>\n",
       "      <td>3</td>\n",
       "      <td>10000</td>\n",
       "      <td>2739726</td>\n",
       "    </tr>\n",
       "    <tr>\n",
       "      <th>109</th>\n",
       "      <td>2</td>\n",
       "      <td>455</td>\n",
       "      <td>14000</td>\n",
       "    </tr>\n",
       "    <tr>\n",
       "      <th>110</th>\n",
       "      <td>2</td>\n",
       "      <td>380</td>\n",
       "      <td>37500</td>\n",
       "    </tr>\n",
       "    <tr>\n",
       "      <th>111</th>\n",
       "      <td>3</td>\n",
       "      <td>350</td>\n",
       "      <td>33450</td>\n",
       "    </tr>\n",
       "  </tbody>\n",
       "</table>\n",
       "<p>107 rows × 3 columns</p>\n",
       "</div>"
      ],
      "text/plain": [
       "     Digester Type  Dairy  Biogas_gen_ft3_day\n",
       "0                1  15500              600000\n",
       "1                1   1700               50000\n",
       "2                1   9700              270000\n",
       "3                1   7000              360000\n",
       "4                1    400               30000\n",
       "..             ...    ...                 ...\n",
       "107              1    980               47000\n",
       "108              3  10000             2739726\n",
       "109              2    455               14000\n",
       "110              2    380               37500\n",
       "111              3    350               33450\n",
       "\n",
       "[107 rows x 3 columns]"
      ]
     },
     "execution_count": 235,
     "metadata": {},
     "output_type": "execute_result"
    }
   ],
   "source": [
    "df_forest_clean"
   ]
  },
  {
   "cell_type": "code",
   "execution_count": 236,
   "metadata": {},
   "outputs": [],
   "source": [
    "X = df_forest_clean.drop([\"Biogas_gen_ft3_day\"], axis = 1)\n",
    "y = df_forest_clean[\"Biogas_gen_ft3_day\"]"
   ]
  },
  {
   "cell_type": "code",
   "execution_count": 237,
   "metadata": {},
   "outputs": [],
   "source": [
    "from sklearn.model_selection import train_test_split\n",
    "import sklearn.ensemble as ske"
   ]
  },
  {
   "cell_type": "code",
   "execution_count": 238,
   "metadata": {},
   "outputs": [],
   "source": [
    "X_train, X_test, Y_train, Y_test = train_test_split(X, y, test_size = 0.25, random_state = 0)"
   ]
  },
  {
   "cell_type": "code",
   "execution_count": 239,
   "metadata": {},
   "outputs": [],
   "source": [
    "reg = ske.RandomForestRegressor(n_estimators = 1000, random_state = 0)"
   ]
  },
  {
   "cell_type": "code",
   "execution_count": 240,
   "metadata": {},
   "outputs": [],
   "source": [
    "Y_train = np.ravel(Y_train)"
   ]
  },
  {
   "cell_type": "code",
   "execution_count": 241,
   "metadata": {},
   "outputs": [
    {
     "data": {
      "text/plain": [
       "RandomForestRegressor(n_estimators=1000, random_state=0)"
      ]
     },
     "execution_count": 241,
     "metadata": {},
     "output_type": "execute_result"
    }
   ],
   "source": [
    "reg.fit(X_train, Y_train)"
   ]
  },
  {
   "cell_type": "code",
   "execution_count": 242,
   "metadata": {},
   "outputs": [],
   "source": [
    "Y_pred = reg.predict(X_test)"
   ]
  },
  {
   "cell_type": "code",
   "execution_count": 243,
   "metadata": {},
   "outputs": [],
   "source": [
    "from sklearn.metrics import explained_variance_score,max_error, mean_absolute_error, mean_squared_error, r2_score"
   ]
  },
  {
   "cell_type": "code",
   "execution_count": 244,
   "metadata": {},
   "outputs": [
    {
     "data": {
      "text/plain": [
       "277429.45213811955"
      ]
     },
     "execution_count": 244,
     "metadata": {},
     "output_type": "execute_result"
    }
   ],
   "source": [
    "mean_squared_error(Y_test, Y_pred, squared = False)"
   ]
  },
  {
   "cell_type": "code",
   "execution_count": 245,
   "metadata": {},
   "outputs": [
    {
     "data": {
      "text/plain": [
       "-0.1536456579754666"
      ]
     },
     "execution_count": 245,
     "metadata": {},
     "output_type": "execute_result"
    }
   ],
   "source": [
    "explained_variance_score(Y_test, Y_pred)"
   ]
  },
  {
   "cell_type": "code",
   "execution_count": 246,
   "metadata": {},
   "outputs": [
    {
     "data": {
      "text/plain": [
       "1253062.108"
      ]
     },
     "execution_count": 246,
     "metadata": {},
     "output_type": "execute_result"
    }
   ],
   "source": [
    "max_error(Y_test, Y_pred)"
   ]
  },
  {
   "cell_type": "code",
   "execution_count": 247,
   "metadata": {},
   "outputs": [
    {
     "name": "stderr",
     "output_type": "stream",
     "text": [
      "C:\\ProgramData\\Anaconda3\\lib\\site-packages\\sklearn\\base.py:450: UserWarning: X does not have valid feature names, but RandomForestRegressor was fitted with feature names\n",
      "  warnings.warn(\n"
     ]
    },
    {
     "data": {
      "text/plain": [
       "array([28353.144])"
      ]
     },
     "execution_count": 247,
     "metadata": {},
     "output_type": "execute_result"
    }
   ],
   "source": [
    "reg.predict([[2,500]])"
   ]
  },
  {
   "cell_type": "code",
   "execution_count": 248,
   "metadata": {},
   "outputs": [],
   "source": [
    "def biogas_pred_rf(digester_type,dairy):\n",
    "    biogas = reg.predict([[digester_type,dairy]])\n",
    "    dairy_eff = reg.predict([[digester_type,dairy]])/dairy/101.336\n",
    "    return biogas, dairy_eff"
   ]
  },
  {
   "cell_type": "markdown",
   "metadata": {},
   "source": [
    "Below are the random forest predictions for daily biogas production in ft3/day and efficiency (as a fraction, not percentage) for 5000 dairy cows for plug flow, then impermeable cover, then complete mixed anaerobic digester types. The random forest predictions are significantly better than the Naive Bayes predictions as noted by efficiency values that are less than 1."
   ]
  },
  {
   "cell_type": "code",
   "execution_count": 287,
   "metadata": {},
   "outputs": [
    {
     "name": "stderr",
     "output_type": "stream",
     "text": [
      "C:\\ProgramData\\Anaconda3\\lib\\site-packages\\sklearn\\base.py:450: UserWarning: X does not have valid feature names, but RandomForestRegressor was fitted with feature names\n",
      "  warnings.warn(\n",
      "C:\\ProgramData\\Anaconda3\\lib\\site-packages\\sklearn\\base.py:450: UserWarning: X does not have valid feature names, but RandomForestRegressor was fitted with feature names\n",
      "  warnings.warn(\n"
     ]
    },
    {
     "data": {
      "text/plain": [
       "(array([352650.592]), array([0.69600259]))"
      ]
     },
     "execution_count": 287,
     "metadata": {},
     "output_type": "execute_result"
    }
   ],
   "source": [
    "biogas_pred_rf(2,5000)"
   ]
  },
  {
   "cell_type": "code",
   "execution_count": 288,
   "metadata": {},
   "outputs": [
    {
     "name": "stderr",
     "output_type": "stream",
     "text": [
      "C:\\ProgramData\\Anaconda3\\lib\\site-packages\\sklearn\\base.py:450: UserWarning: X does not have valid feature names, but RandomForestRegressor was fitted with feature names\n",
      "  warnings.warn(\n",
      "C:\\ProgramData\\Anaconda3\\lib\\site-packages\\sklearn\\base.py:450: UserWarning: X does not have valid feature names, but RandomForestRegressor was fitted with feature names\n",
      "  warnings.warn(\n"
     ]
    },
    {
     "data": {
      "text/plain": [
       "(array([270734.848]), array([0.53433103]))"
      ]
     },
     "execution_count": 288,
     "metadata": {},
     "output_type": "execute_result"
    }
   ],
   "source": [
    "biogas_pred_rf(1,5000)"
   ]
  },
  {
   "cell_type": "code",
   "execution_count": 289,
   "metadata": {},
   "outputs": [
    {
     "name": "stderr",
     "output_type": "stream",
     "text": [
      "C:\\ProgramData\\Anaconda3\\lib\\site-packages\\sklearn\\base.py:450: UserWarning: X does not have valid feature names, but RandomForestRegressor was fitted with feature names\n",
      "  warnings.warn(\n",
      "C:\\ProgramData\\Anaconda3\\lib\\site-packages\\sklearn\\base.py:450: UserWarning: X does not have valid feature names, but RandomForestRegressor was fitted with feature names\n",
      "  warnings.warn(\n"
     ]
    },
    {
     "data": {
      "text/plain": [
       "(array([325077.044]), array([0.64158255]))"
      ]
     },
     "execution_count": 289,
     "metadata": {},
     "output_type": "execute_result"
    }
   ],
   "source": [
    "biogas_pred_rf(3,5000)"
   ]
  },
  {
   "cell_type": "markdown",
   "metadata": {},
   "source": [
    "Using the AgSTAR anaerobic digester database, this notebook calculates digester efficiencies for dairy manure (all types) digesters, dairy manure plug flow digesters, dairy manure complete mix digesters, and dairy manure impermeable cover digesters. This notebook also features linear regression analysis and 95% confidence intervals for all aforementioned digester types, where the independent variable is the number of dairy cows and the dependent variable is daily biogas production.\n",
    "\n",
    "Efficiencies of Digesters using 95% CI (2 standard deviation) are:\n",
    "\n",
    "Dairy- all anaerobic digester types: 68.8%\n",
    "\n",
    "Dairy plug flow: 73.7%\n",
    "\n",
    "Dairy complete mix: 85.9%\n",
    "\n",
    "Dairy impermeable cover: 43.1%\n",
    "\n",
    "Efficiencies of Digesters using 68% CI (1 standard deviation) are:\n",
    "\n",
    "Dairy- all anaerobic digester types: 65.8%\n",
    "\n",
    "Dairy plug flow: 71.3%\n",
    "\n",
    "Dairy complete mix: 82.7%\n",
    "\n",
    "Dairy impermeable cover: 41.1%\n",
    "\n",
    "Digester efficiencies for swine manure anaerobic digesters were not analyzed due to little and poor data.\n",
    "\n",
    "This notebook also features graphs relating impermeable cover digester daily biogas production to number of dairy or swine and location. Impermeable cover digesters are not heated, and therefore digestion efficiency should be heavily influenced by outdoor temperature. Based on the visuals of the graphs, there seems to be an insufficient amount of data and no correlation between greater biogas production per animal and southern states. This conclusion seems unlikely. With more data, we should see biogas production per animal influenced by the geographical location of the digester.\n",
    "\n",
    "Naive Bayes and Random Forest machine learning methods were used to predict daily biogas productions for dairy digesters given the number of dairy cows and type of digester. Daily biogas production should be approximately linearly related to the number of dairy cows, meaning the model should behave as a regression model. Naive Bayes machine learns uses categorization, and categorization is discrete, or not continuous like a regression model. Therefore, Naive Bayes is a poor machine learning method for this application. Random Forest machine learning can effectively model a continuous regression model. The random forest efficiency prediction are significantly closer the efficiency values calculated using the confidence intervals.\n",
    "\n",
    "Naive Bayes daily biogas and digester efficiency prediction for 5000 dairy cows:\n",
    "\n",
    "Plug flow: 1,200,000 ft3 biogas/day     236.8% efficient\n",
    "\n",
    "Complete mix: 432,000 ft3 biogas/day     85.3% efficient\n",
    "\n",
    "Impermeable cover: 1,200,000 ft3 biogas/day     236.6% efficient\n",
    "\n",
    "\n",
    "Random Forest daily biogas and digester efficiency prediction for 5000 dairy cows:\n",
    "\n",
    "Plug flow: 352,651 ft3 biogas/day     69.6% efficient\n",
    "\n",
    "Complete mix: 325,077 ft3 biogas/day     64.2% efficient\n",
    "\n",
    "Impermeable cover: 270,735 ft3 biogas/day   53.4% efficient\n",
    "\n",
    "Overall, digester efficiencies appear to be similar to that reported in literature. Nonetheless, more data would vastly improve anaerobic digestion efficiency analysis and the Random Forest model which predicts daily biogas production.\n"
   ]
  }
 ],
 "metadata": {
  "kernelspec": {
   "display_name": "Python 3 (ipykernel)",
   "language": "python",
   "name": "python3"
  },
  "language_info": {
   "codemirror_mode": {
    "name": "ipython",
    "version": 3
   },
   "file_extension": ".py",
   "mimetype": "text/x-python",
   "name": "python",
   "nbconvert_exporter": "python",
   "pygments_lexer": "ipython3",
   "version": "3.9.12"
  }
 },
 "nbformat": 4,
 "nbformat_minor": 2
}
